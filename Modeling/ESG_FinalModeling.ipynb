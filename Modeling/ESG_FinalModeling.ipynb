{
 "cells": [
  {
   "cell_type": "markdown",
   "id": "22ba1a8a",
   "metadata": {},
   "source": [
    "# Modeling for ESG data<br>\n",
    "\n",
    "## * Modeling 진행 과정\n",
    "    1. Preprocessing\n",
    "        - Data의 변수 확인(분포확인, 연속형 변수끼리 plot)\n",
    "        - 연속형 Data scaling\n",
    "    2. Model selection\n",
    "        - 머신러닝 모형 (rf & bart)\n",
    "            - k-fold를 활용하여 hyper parameter tuning\n",
    "                - 기준은 만들어낸 지표 4개로 평균화\n",
    "                - 가장 best한 hyper parameter 선택하여 fitting 진행\n",
    "            - train and test set에 대해 k-fold를 활용하여 performance check\n",
    "        - 회귀모형 (Multinomial Logistic regression & ordinal logistic regression)\n",
    "            - train and test set에 대해 k-fold를 활용하여 performance check\n",
    "    3. Model select\n",
    "        - 해당 팀에서 제시한 4가지 지표를 이용하여 model select\n",
    "    4. Model Fitting\n",
    "        - Model fitting\n",
    "            - train set (661개) 모두 사용\n",
    "            - 모든 train set으로 data scaling 진행\n",
    "        - 선택한 모형에 대해 가정 검정\n",
    "            - VIF (multicollinearity)\n",
    "            - variable selection\n",
    "        - 결과 해석\n",
    "            - 결과 해석 및 visualization\n",
    "    5. Estimation\n",
    "        - fitting한 모형을 이용. GRADE를 estimate\n",
    "        - variable들에 대해 train에 fitting한 function 사용하여 transform\n",
    "    "
   ]
  },
  {
   "cell_type": "markdown",
   "id": "c4739f7a",
   "metadata": {},
   "source": [
    "## 0. Install packages and specify functions\n",
    "#### Install packages"
   ]
  },
  {
   "cell_type": "code",
   "execution_count": null,
   "id": "33c198a5",
   "metadata": {},
   "outputs": [],
   "source": [
    "!pip install xbart"
   ]
  },
  {
   "cell_type": "code",
   "execution_count": 1,
   "id": "0facaf20",
   "metadata": {},
   "outputs": [],
   "source": [
    "#기본적인 packages \n",
    "import pandas as pd\n",
    "import numpy as np\n",
    "import os \n",
    "import copy\n",
    "import time\n",
    "import statistics as st\n",
    "\n",
    "#split train and test set package\n",
    "from sklearn.model_selection import train_test_split\n",
    "\n",
    "#modling packages\n",
    "from sklearn.ensemble import RandomForestClassifier #RF\n",
    "from xbart import XBART #xbart : c++ microsoft 설치 필요 : requirement 참조 바람\n",
    "import statsmodels.api as sm #MLR\n",
    "from statsmodels.miscmodels.ordinal_model import OrderedModel #OLR\n",
    "\n",
    "\n",
    "#for testing\n",
    "from scipy.stats import shapiro #shapiro test(정규성)\n",
    "from scipy.stats import skew, kurtosis #왜도, 첨도 관련 패키지\n",
    "from sklearn.preprocessing import QuantileTransformer #Scaling 패키지\n",
    "from sklearn.preprocessing import StandardScaler #standardscaler\n",
    "from scipy.stats import bartlett #등분산성 test\n",
    "import scipy.stats\n",
    "from statsmodels.stats.outliers_influence import variance_inflation_factor #VIR\n",
    "\n",
    "#for perfromance check\n",
    "from sklearn.metrics import confusion_matrix, plot_confusion_matrix\n",
    "from sklearn.metrics import classification_report\n",
    "from sklearn.metrics import accuracy_score\n",
    "\n",
    "#K-fold packages\n",
    "from sklearn.model_selection import GridSearchCV\n",
    "from sklearn.model_selection import KFold\n",
    "from sklearn.model_selection import StratifiedKFold\n",
    "\n",
    "##plot packages\n",
    "import matplotlib.pyplot as plt\n",
    "import matplotlib\n",
    "from pandas.plotting import scatter_matrix\n",
    "import platform\n",
    "import seaborn as sns\n",
    "\n",
    "## data directory 설정\n",
    "os.chdir(\"C:/Users/user/Desktop/ESG데이터\")"
   ]
  },
  {
   "cell_type": "markdown",
   "id": "fa28e16f",
   "metadata": {},
   "source": [
    "#### specify functions\n",
    "- performance를 판단하는 지표에 대한 자세한 설명은 G_FinalModeling에 있으므로 생략\n",
    "- confusion matrix를 만들어주는 function : make_confusionmatrix\n",
    "    - social data와 environment data의 경우, Grade 1에 대한 수가 현저히 적다. 그로 인해 모델 선택에서 층화추출을 했을 때, test set에 Grade 1이 들어있지 않는 경우가 발생한다. 이때 confusion matrix는 9x9 행렬이 아닐 수 있기 때문에 따로 function을 만들어 confusion matrix가 9x9가 되도록 했다.\n",
    "- multinomial logistic regression에 대한 function\n",
    "        1) 모델링 후 summary 결과에 대해 회귀계수만 출력하는 function\n",
    "        2) 모델링 후 marginal summary 결과에 대해 회귀계수만 출력하는 function\n",
    "        3) 모델링 후 summary 결과에 대해 p-value만 출력하는 function\n",
    "        4) 모델링 후 marginal summary 결과에 대해 p-value만 출력하는 function"
   ]
  },
  {
   "cell_type": "code",
   "execution_count": 2,
   "id": "fb8e0489",
   "metadata": {},
   "outputs": [],
   "source": [
    "#### performance를 판단하는 지표 4가지\n",
    "\n",
    "#arg 설명\n",
    "##m : confusion matrix \n",
    "\n",
    "#1. accuracy 계산 function\n",
    "def acc(m) :\n",
    "    return sum(np.diag(m))/np.sum(m)\n",
    "\n",
    "#2. 근접정확도 계산 function\n",
    "def nearest_acc(m) :\n",
    "    total_sum = np.sum(m)\n",
    "    near_sum = 0\n",
    "    for i in range(8) :\n",
    "        near_sum += m[i,i+1] + m[i+1,i]\n",
    "    diag_sum = sum(np.diag(m))\n",
    "    return (near_sum + diag_sum) / total_sum\n",
    "\n",
    "#3. 과소적합/오류비 계산 function\n",
    "def under_est(m) :\n",
    "    error_sum = np.sum(m) - sum(np.diag(m))\n",
    "    under_sum = 0\n",
    "    for i in range(8) :\n",
    "        under_sum += np.sum(m[i,(i+1):9])\n",
    "    return under_sum / error_sum\n",
    "\n",
    "#4. 3등급 이상 과적합/오류비 function\n",
    "def over3_est(m) :\n",
    "    total_sum = np.sum(m)\n",
    "    error_sum = np.sum(m) - sum(np.diag(m))\n",
    "    over3C_sum = 0\n",
    "    for i in range(8) :\n",
    "        over3C_sum += m[i,i+1] + m[i+1,i]\n",
    "    for i in range(7) :\n",
    "        over3C_sum += m[i,i+2] + m[i+2,i]\n",
    "    diag_sum = sum(np.diag(m))\n",
    "    return (total_sum - (over3C_sum + diag_sum)) / error_sum\n",
    "\n",
    "#전체 performance 지표를 출력하는 function\n",
    "def eval_stat(m) :\n",
    "    print(\"정확도 : \",round(acc(m) * 100,2),\"%\")\n",
    "    print(\"근접정확도 : \",round(nearest_acc(m) * 100,2),\"%\")\n",
    "    print(\"과소적합/오류 비 : \",round(under_est(m) * 100,2),\"%\")\n",
    "    print(\"3등급이상과적합/오류 비 : \",round(over3_est(m) * 100,2),\"%\")\n",
    "    \n",
    "\n",
    "#multinomial logistic regression에서 전체 summary에 대한 회귀계수 값을 가져오는 function  \n",
    "#arg 설명\n",
    "##cmodel = model.fit (이때 model은 MNLogit 모형)\n",
    "def check_beta(cmodel) :\n",
    "    a = cmodel.summary()\n",
    "    b = a.tables[1]\n",
    "    b = pd.DataFrame(b)\n",
    "    b = b.transpose()\n",
    "    b = b[0:2]\n",
    "    k = b.shape[1]/8\n",
    "    ind=[]\n",
    "    m_table = pd.DataFrame(index=range(0,8), columns=b.loc[0,1:(k-1)])\n",
    "    for i in range(8) : \n",
    "        coeff = b.loc[1,(i*k):((i+1)*k-1)]\n",
    "        m_table.iloc[i] = coeff[1:].tolist()\n",
    "        ind.append(b.loc[0,(i*k)])\n",
    "    m_table.index=ind\n",
    "    return m_table\n",
    "\n",
    "#multinomial logistic regression에서 marginal summary에 대한 회귀계수 값을 가져오는 function \n",
    "def check_beta_mar(cmodel) :\n",
    "    a = cmodel.summary()\n",
    "    b = a.tables[1]\n",
    "    b = pd.DataFrame(b)\n",
    "    b = b.transpose()\n",
    "    b = b[0:2]\n",
    "    k = b.shape[1]/9\n",
    "    ind=[]\n",
    "    m_table = pd.DataFrame(index=range(0,9), columns=b.loc[0,1:(k-1)])\n",
    "    for i in range(9) : \n",
    "        coeff = b.loc[1,(i*k):((i+1)*k-1)]\n",
    "        m_table.iloc[i] = coeff[1:].tolist()\n",
    "        ind.append(b.loc[0,(i*k)])\n",
    "    m_table.index=ind\n",
    "    return m_table\n",
    "\n",
    "#multinomial logistic regression에서 전체 summary에 대한 p-value 값을 가져오는 function  \n",
    "def check_p_value(cmodel) :\n",
    "    a = cmodel.summary()\n",
    "    b = a.tables[1]\n",
    "    b = pd.DataFrame(b)\n",
    "    b = b.transpose()\n",
    "    b = b.loc[[0,4],:]\n",
    "    b.reset_index(drop=True, inplace=True)\n",
    "    k = b.shape[1]/8\n",
    "    m_table = pd.DataFrame(index=range(0,8), columns=b.loc[0,1:(k-1)])\n",
    "    ind=[]\n",
    "    for i in range(8) : \n",
    "        coeff = b.loc[1,(i*k):((i+1)*k-1)]\n",
    "        m_table.iloc[i] = coeff[1:].tolist()\n",
    "        ind.append(b.loc[0,(i*k)])\n",
    "    m_table.index=ind\n",
    "    return m_table\n",
    "\n",
    "#multinomial logistic regression에서 marginal summary에 대한 p-value 값을 가져오는 function  \n",
    "def check_p_value_mar(cmodel) :\n",
    "    a = cmodel.summary()\n",
    "    b = a.tables[1]\n",
    "    b = pd.DataFrame(b)\n",
    "    b = b.transpose()\n",
    "    b = b.loc[[0,4],:]\n",
    "    b.reset_index(drop=True, inplace=True)\n",
    "    k = b.shape[1]/9\n",
    "    m_table = pd.DataFrame(index=range(0,9), columns=b.loc[0,1:(k-1)])\n",
    "    ind=[]\n",
    "    for i in range(9) : \n",
    "        coeff = b.loc[1,(i*k):((i+1)*k-1)]\n",
    "        m_table.iloc[i] = coeff[1:].tolist()\n",
    "        ind.append(b.loc[0,(i*k)])\n",
    "    m_table.index=ind\n",
    "    return m_table\n",
    "\n",
    "\n",
    "#confusion matrix를 만들어주는 function\n",
    "#arg 설명\n",
    "## real : 참값 , pred : 예측값\n",
    "def make_confusionmatrix(real, pred) :\n",
    "    mat = pd.DataFrame(index=range(0,9))\n",
    "    for i in range(0,9):\n",
    "        b = pd.Series(np.array([0]*9))\n",
    "        mat = pd.concat([b,mat], axis=1)\n",
    "\n",
    "    real.reset_index(drop=True, inplace=True)\n",
    "    pred = pd.Series(pred)\n",
    "    pred_mat = pd.concat([real,pred],axis=1)\n",
    "    pred_mat.columns=['real','pred']\n",
    "    pred_mat = pd.crosstab(pred_mat.real, pred_mat.pred)\n",
    "    real_ind = pred_mat.index.astype('int')-1\n",
    "    pred_ind = pred_mat.columns.astype('int')-1\n",
    "\n",
    "    for i in range(pred_mat.shape[0]):\n",
    "        for j in range(pred_mat.shape[1]):\n",
    "            mat.iloc[real_ind[i],pred_ind[j]] = pred_mat.iloc[i,j]\n",
    "    mat = np.array(mat)\n",
    "    return(mat)\n"
   ]
  },
  {
   "cell_type": "markdown",
   "id": "574f0c02",
   "metadata": {},
   "source": [
    "#### 데이터 불러오기 및 정보 확인"
   ]
  },
  {
   "cell_type": "code",
   "execution_count": 3,
   "id": "0c1b15b0",
   "metadata": {},
   "outputs": [],
   "source": [
    "df = pd.read_excel(\"ESG_final.xlsx\")\n",
    "data = copy.deepcopy(df)"
   ]
  },
  {
   "cell_type": "markdown",
   "id": "6b1ae2df",
   "metadata": {},
   "source": [
    "#### 변수들의 type을 알맞게 변환\n",
    "- object type으로 변경해야 할 변수 존재<br>\n",
    "- 종목코드, 지가경공시, 지가경발간, ESG채권"
   ]
  },
  {
   "cell_type": "code",
   "execution_count": 4,
   "id": "532a3b5b",
   "metadata": {},
   "outputs": [
    {
     "name": "stdout",
     "output_type": "stream",
     "text": [
      "[1 2 3 4 5 6 7 8 9 0]\n"
     ]
    }
   ],
   "source": [
    "## object에 해당하는 변수들 변경\n",
    "chang_var = ['종목코드','지가경공시', '지가경발간', 'ESG채권']\n",
    "data[chang_var]=data[chang_var].astype('object')\n",
    "\n",
    "## preprocessing을 위한 train and test set 분리\n",
    "print(data['ESG_GRADE'].unique())\n",
    "train = data.loc[data['ESG_GRADE']!=0,]\n",
    "test = data.loc[data['ESG_GRADE']==0,]\n",
    "\n",
    "# index 초기화 하기\n",
    "train = train.reset_index(drop=True)\n",
    "test = test.reset_index(drop=True)"
   ]
  },
  {
   "cell_type": "markdown",
   "id": "633ff59b",
   "metadata": {},
   "source": [
    "## 1. Preprocessing"
   ]
  },
  {
   "cell_type": "markdown",
   "id": "de5fe4e1",
   "metadata": {},
   "source": [
    "#### num_var과 categ_var 이름 할당"
   ]
  },
  {
   "cell_type": "code",
   "execution_count": 5,
   "id": "be8e5847",
   "metadata": {},
   "outputs": [],
   "source": [
    "# 그래프에서의 한글 깨짐 제거\n",
    "if platform.system() == 'Windows':\n",
    "    matplotlib.rc('font', family='Malgun Gothic')\n",
    "elif platform.system() == 'Darwin': # Mac\n",
    "    matplotlib.rc('font', family='AppleGothic')\n",
    "else: #linux\n",
    "    matplotlib.rc('font', family='NanumGothic')\n",
    "\n",
    "# categorical variable과 numeric variable의 colname을 저장\n",
    "categ_var= [var for var in train.columns if train[var].dtype=='object']\n",
    "num_var= [var for var in train.columns if train[var].dtype!='object']\n",
    "categ_var = categ_var[2:-1] # CDP참여 ~ ESG채권\n",
    "num_var = num_var[1:] # ESG_risk ~ 사외이사비율"
   ]
  },
  {
   "cell_type": "markdown",
   "id": "3a6a5d73",
   "metadata": {},
   "source": [
    "#### 변수간의 관계 - plot"
   ]
  },
  {
   "cell_type": "code",
   "execution_count": 6,
   "id": "ad96254a",
   "metadata": {
    "scrolled": true
   },
   "outputs": [
    {
     "data": {
      "text/plain": [
       "<Figure size 1080x576 with 0 Axes>"
      ]
     },
     "metadata": {},
     "output_type": "display_data"
    },
    {
     "data": {
      "image/png": "[encoded data removed]",
      "text/plain": [
       "<Figure size 576x576 with 16 Axes>"
      ]
     },
     "metadata": {
      "needs_background": "light"
     },
     "output_type": "display_data"
    },
    {
     "name": "stderr",
     "output_type": "stream",
     "text": [
      "C:\\Users\\user\\AppData\\Local\\Temp\\ipykernel_15788\\4227997410.py:9: SettingWithCopyWarning: \n",
      "A value is trying to be set on a copy of a slice from a DataFrame.\n",
      "Try using .loc[row_indexer,col_indexer] = value instead\n",
      "\n",
      "See the caveats in the documentation: https://pandas.pydata.org/pandas-docs/stable/user_guide/indexing.html#returning-a-view-versus-a-copy\n",
      "  p_data['ESG_GRADE'] = train['ESG_GRADE'].astype('object')\n",
      "C:\\Users\\user\\anaconda3\\lib\\site-packages\\seaborn\\utils.py:95: UserWarning: Glyph 8722 (\\N{MINUS SIGN}) missing from current font.\n",
      "  fig.canvas.draw()\n",
      "C:\\Users\\user\\anaconda3\\lib\\site-packages\\seaborn\\axisgrid.py:88: UserWarning: Glyph 8722 (\\N{MINUS SIGN}) missing from current font.\n",
      "  self._figure.tight_layout(*args, **kwargs)\n",
      "C:\\Users\\user\\anaconda3\\lib\\site-packages\\IPython\\core\\pylabtools.py:151: UserWarning: Glyph 8722 (\\N{MINUS SIGN}) missing from current font.\n",
      "  fig.canvas.print_figure(bytes_io, **kw)\n"
     ]
    },
    {
     "data": {
      "image/png": "[encoded data removed]",
      "text/plain": [
       "<Figure size 782.125x720 with 20 Axes>"
      ]
     },
     "metadata": {
      "needs_background": "light"
     },
     "output_type": "display_data"
    },
    {
     "data": {
      "image/png": "[encoded data removed]",
      "text/plain": [
       "<Figure size 1080x576 with 2 Axes>"
      ]
     },
     "metadata": {
      "needs_background": "light"
     },
     "output_type": "display_data"
    }
   ],
   "source": [
    "# 산점도 행렬 출력\n",
    "plt.figure(figsize = (15,8))\n",
    "scatter_matrix(train.drop(columns=['ESG_GRADE'], inplace=False), alpha=0.5, figsize=(8,8), \n",
    "               diagonal='kde')\n",
    "plt.show()\n",
    "\n",
    "# 산점도 행렬을 E_GRADE의 범주에 따라 그림\n",
    "p_data = train[num_var]\n",
    "p_data['ESG_GRADE'] = train['ESG_GRADE'].astype('object')\n",
    "sns.pairplot(p_data, diag_kind='auto', hue='ESG_GRADE')\n",
    "plt.show()\n",
    "\n",
    "# 상관계수 행렬 그래프 : 연속 vs. 연속\n",
    "p_data = p_data.drop(columns='ESG_GRADE').corr(method='pearson')\n",
    "plt.figure(figsize = (15,8))\n",
    "sns.heatmap(p_data, xticklabels=p_data.columns, yticklabels=p_data.columns,\n",
    "           annot=True,cmap='gist_heat_r')\n",
    "plt.show()\n"
   ]
  },
  {
   "cell_type": "markdown",
   "id": "f8c423e3",
   "metadata": {},
   "source": [
    "- 첫 번째 plot을 봤을 때, ESG risk를 제외한 모든 변수들이 종모양을 띄지 않고 대부분 왼쪽으로 심각하게 치우쳐져 있는 모습이 보인다. 따라서 모형에 잘못된 정보를 줄 가능성이 높아 보인다.   \n",
    "  \n",
    "- 두 번째 plot을 보면 대부분의 그래프들이 왼쪽으로 치우쳐있다.\n",
    "   \n",
    "- 세 번째 plot은 x변수들의 correlation값을 heatmap으로 나타낸 것이다. 모든 변수들의 상관계수가 유의미하지 않다."
   ]
  },
  {
   "cell_type": "markdown",
   "id": "853b0ba1",
   "metadata": {},
   "source": [
    "#### 데이터의 정규성 검정 및 수치 확인"
   ]
  },
  {
   "cell_type": "code",
   "execution_count": 7,
   "id": "f473a1e2",
   "metadata": {},
   "outputs": [
    {
     "name": "stdout",
     "output_type": "stream",
     "text": [
      "ESG_risk ShapiroResult(statistic=0.8480316400527954, pvalue=1.1165907031047523e-24)\n",
      "ESG임원비율 ShapiroResult(statistic=0.3075653314590454, pvalue=4.203895392974451e-44)\n",
      "환경이사 ShapiroResult(statistic=0.21919602155685425, pvalue=0.0)\n",
      "여성임원비율 ShapiroResult(statistic=0.6173595190048218, pvalue=8.35901681044643e-36)\n",
      " \n",
      "왜도는\n"
     ]
    },
    {
     "data": {
      "text/html": [
       "<div>\n",
       "<style scoped>\n",
       "    .dataframe tbody tr th:only-of-type {\n",
       "        vertical-align: middle;\n",
       "    }\n",
       "\n",
       "    .dataframe tbody tr th {\n",
       "        vertical-align: top;\n",
       "    }\n",
       "\n",
       "    .dataframe thead th {\n",
       "        text-align: right;\n",
       "    }\n",
       "</style>\n",
       "<table border=\"1\" class=\"dataframe\">\n",
       "  <thead>\n",
       "    <tr style=\"text-align: right;\">\n",
       "      <th></th>\n",
       "      <th>ESG_risk</th>\n",
       "      <th>ESG임원비율</th>\n",
       "      <th>환경이사</th>\n",
       "      <th>여성임원비율</th>\n",
       "    </tr>\n",
       "  </thead>\n",
       "  <tbody>\n",
       "    <tr>\n",
       "      <th>0</th>\n",
       "      <td>1.498546</td>\n",
       "      <td>3.822895</td>\n",
       "      <td>4.207983</td>\n",
       "      <td>1.910255</td>\n",
       "    </tr>\n",
       "  </tbody>\n",
       "</table>\n",
       "</div>"
      ],
      "text/plain": [
       "   ESG_risk   ESG임원비율      환경이사    여성임원비율\n",
       "0  1.498546  3.822895  4.207983  1.910255"
      ]
     },
     "execution_count": 7,
     "metadata": {},
     "output_type": "execute_result"
    }
   ],
   "source": [
    "# 연속형 데이터의 정규성을 검정하기 위해 shapiro test 진행\n",
    "## p-value가 굉장히 작음 -> H0(정규성 충족) 기각\n",
    "## 따라서 해당 데이터의 연속형 변수들은 정규성을 만족하지 못하므로 transformation이 필요.\n",
    "for var in num_var :\n",
    "    shapiro_test = shapiro(train[var])\n",
    "    print(var, shapiro_test)\n",
    "\n",
    "print(' ')\n",
    "\n",
    "# 왜도 : 분포의 비대칭도\n",
    "print(\"왜도는\")\n",
    "pd.DataFrame(skew(train[num_var]), index=num_var).T"
   ]
  },
  {
   "cell_type": "code",
   "execution_count": 8,
   "id": "29b1ac88",
   "metadata": {},
   "outputs": [
    {
     "name": "stdout",
     "output_type": "stream",
     "text": [
      "첨도는\n"
     ]
    },
    {
     "data": {
      "text/html": [
       "<div>\n",
       "<style scoped>\n",
       "    .dataframe tbody tr th:only-of-type {\n",
       "        vertical-align: middle;\n",
       "    }\n",
       "\n",
       "    .dataframe tbody tr th {\n",
       "        vertical-align: top;\n",
       "    }\n",
       "\n",
       "    .dataframe thead th {\n",
       "        text-align: right;\n",
       "    }\n",
       "</style>\n",
       "<table border=\"1\" class=\"dataframe\">\n",
       "  <thead>\n",
       "    <tr style=\"text-align: right;\">\n",
       "      <th></th>\n",
       "      <th>ESG_risk</th>\n",
       "      <th>ESG임원비율</th>\n",
       "      <th>환경이사</th>\n",
       "      <th>여성임원비율</th>\n",
       "    </tr>\n",
       "  </thead>\n",
       "  <tbody>\n",
       "    <tr>\n",
       "      <th>0</th>\n",
       "      <td>1.912677</td>\n",
       "      <td>14.563492</td>\n",
       "      <td>15.707124</td>\n",
       "      <td>3.802749</td>\n",
       "    </tr>\n",
       "  </tbody>\n",
       "</table>\n",
       "</div>"
      ],
      "text/plain": [
       "   ESG_risk    ESG임원비율       환경이사    여성임원비율\n",
       "0  1.912677  14.563492  15.707124  3.802749"
      ]
     },
     "execution_count": 8,
     "metadata": {},
     "output_type": "execute_result"
    }
   ],
   "source": [
    "# 첨도 : 분포의 뾰족한 정도\n",
    "print(\"첨도는\")\n",
    "pd.DataFrame(kurtosis(train[num_var], fisher=True), index=num_var).T"
   ]
  },
  {
   "cell_type": "markdown",
   "id": "3e87cbba",
   "metadata": {},
   "source": [
    "- raw data에 대한 plot과 더 정확한 정규성 검정을 위한 shapiro test, 왜도, 첨도값을 출력했다. 각 값들의 의미는 G_FinalModeling에 있으므로 생략한다.  \n",
    "- plot에서 볼 수 있듯이 shapiro test 결과 ESG_data에 사용된 numeric variable은 모두 정규성을 만족하지 않는다. \n",
    "- 왜도는 모든 변수들이 0보다 크므로 왼쪽으로 치우친 분포라는 것을 알 수 있다. \n",
    "- 첨도는 모든 변수들이 모두 0보다 크므로 정규분포보다 뾰족한 분포라는 것을 알 수 있다. 특히 ESG임원비율과 환경이사 비율은 첨도가 굉장히 크다."
   ]
  },
  {
   "cell_type": "markdown",
   "id": "5f63e671",
   "metadata": {},
   "source": [
    "#### 데이터 Scaling using Rank_Gaussian\n",
    "- 위 결과를 통해서 해당 변수들에게 scaling을 해줘야 한다는 insight를 얻을 수 있었다. Rank_Gaussian에 대한 자세한 설명은 G_FinalModeling에 있으므로 생략하도록 하겠다."
   ]
  },
  {
   "cell_type": "code",
   "execution_count": 9,
   "id": "e90de6fe",
   "metadata": {
    "scrolled": false
   },
   "outputs": [
    {
     "name": "stderr",
     "output_type": "stream",
     "text": [
      "C:\\Users\\user\\anaconda3\\lib\\site-packages\\sklearn\\preprocessing\\_data.py:2590: UserWarning: n_quantiles (1000) is greater than the total number of samples (661). n_quantiles is set to n_samples.\n",
      "  warnings.warn(\n",
      "C:\\Users\\user\\anaconda3\\lib\\site-packages\\IPython\\core\\pylabtools.py:151: UserWarning: Glyph 8722 (\\N{MINUS SIGN}) missing from current font.\n",
      "  fig.canvas.print_figure(bytes_io, **kw)\n"
     ]
    },
    {
     "data": {
      "image/png": "[encoded data removed]",
      "text/plain": [
       "<Figure size 576x576 with 16 Axes>"
      ]
     },
     "metadata": {
      "needs_background": "light"
     },
     "output_type": "display_data"
    },
    {
     "data": {
      "image/png": "[encoded data removed]",
      "text/plain": [
       "<Figure size 1080x576 with 2 Axes>"
      ]
     },
     "metadata": {
      "needs_background": "light"
     },
     "output_type": "display_data"
    },
    {
     "name": "stdout",
     "output_type": "stream",
     "text": [
      "정규성 검정\n",
      "ESG_risk ShapiroResult(statistic=0.9905318021774292, pvalue=0.00029821411590091884)\n",
      "ESG임원비율 ShapiroResult(statistic=0.3152739405632019, pvalue=6.165713243029195e-44)\n",
      "환경이사 ShapiroResult(statistic=0.21919602155685425, pvalue=0.0)\n",
      "여성임원비율 ShapiroResult(statistic=0.597968578338623, pvalue=1.841332010856104e-36)\n",
      "왜도는\n"
     ]
    },
    {
     "data": {
      "text/html": [
       "<div>\n",
       "<style scoped>\n",
       "    .dataframe tbody tr th:only-of-type {\n",
       "        vertical-align: middle;\n",
       "    }\n",
       "\n",
       "    .dataframe tbody tr th {\n",
       "        vertical-align: top;\n",
       "    }\n",
       "\n",
       "    .dataframe thead th {\n",
       "        text-align: right;\n",
       "    }\n",
       "</style>\n",
       "<table border=\"1\" class=\"dataframe\">\n",
       "  <thead>\n",
       "    <tr style=\"text-align: right;\">\n",
       "      <th></th>\n",
       "      <th>ESG_risk</th>\n",
       "      <th>ESG임원비율</th>\n",
       "      <th>환경이사</th>\n",
       "      <th>여성임원비율</th>\n",
       "    </tr>\n",
       "  </thead>\n",
       "  <tbody>\n",
       "    <tr>\n",
       "      <th>0</th>\n",
       "      <td>0.000045</td>\n",
       "      <td>3.064612</td>\n",
       "      <td>4.207983</td>\n",
       "      <td>1.032043</td>\n",
       "    </tr>\n",
       "  </tbody>\n",
       "</table>\n",
       "</div>"
      ],
      "text/plain": [
       "   ESG_risk   ESG임원비율      환경이사    여성임원비율\n",
       "0  0.000045  3.064612  4.207983  1.032043"
      ]
     },
     "execution_count": 9,
     "metadata": {},
     "output_type": "execute_result"
    }
   ],
   "source": [
    "qt = QuantileTransformer(output_distribution='normal')\n",
    "qt.fit(train[num_var])\n",
    "train[num_var] = qt.transform(train[num_var])\n",
    "test[num_var] = qt.transform(test[num_var])\n",
    "scatter_matrix(train[num_var], alpha=0.5, figsize=(8,8), diagonal='kde')\n",
    "plt.show()\n",
    "\n",
    "\n",
    "# 상관계수 행렬 그래프 : 연속 vs. 연속\n",
    "train_corr = train[num_var].corr(method='pearson')\n",
    "plt.figure(figsize = (15,8))\n",
    "sns.heatmap(train_corr, xticklabels=num_var, yticklabels=num_var,\n",
    "           annot=True,cmap='gist_heat_r')\n",
    "plt.show()\n",
    "\n",
    "print(\"정규성 검정\")\n",
    "for var in num_var :\n",
    "    shapiro_test = shapiro(train[var])\n",
    "    print(var, shapiro_test)\n",
    "\n",
    "print(\"왜도는\")\n",
    "pd.DataFrame(skew(train[num_var]), index=num_var).T\n"
   ]
  },
  {
   "cell_type": "code",
   "execution_count": 10,
   "id": "b5fd5293",
   "metadata": {},
   "outputs": [
    {
     "name": "stdout",
     "output_type": "stream",
     "text": [
      "첨도는\n"
     ]
    },
    {
     "data": {
      "text/html": [
       "<div>\n",
       "<style scoped>\n",
       "    .dataframe tbody tr th:only-of-type {\n",
       "        vertical-align: middle;\n",
       "    }\n",
       "\n",
       "    .dataframe tbody tr th {\n",
       "        vertical-align: top;\n",
       "    }\n",
       "\n",
       "    .dataframe thead th {\n",
       "        text-align: right;\n",
       "    }\n",
       "</style>\n",
       "<table border=\"1\" class=\"dataframe\">\n",
       "  <thead>\n",
       "    <tr style=\"text-align: right;\">\n",
       "      <th></th>\n",
       "      <th>ESG_risk</th>\n",
       "      <th>ESG임원비율</th>\n",
       "      <th>환경이사</th>\n",
       "      <th>여성임원비율</th>\n",
       "    </tr>\n",
       "  </thead>\n",
       "  <tbody>\n",
       "    <tr>\n",
       "      <th>0</th>\n",
       "      <td>1.415497</td>\n",
       "      <td>7.549263</td>\n",
       "      <td>15.707124</td>\n",
       "      <td>-0.826055</td>\n",
       "    </tr>\n",
       "  </tbody>\n",
       "</table>\n",
       "</div>"
      ],
      "text/plain": [
       "   ESG_risk   ESG임원비율       환경이사    여성임원비율\n",
       "0  1.415497  7.549263  15.707124 -0.826055"
      ]
     },
     "execution_count": 10,
     "metadata": {},
     "output_type": "execute_result"
    }
   ],
   "source": [
    "print(\"첨도는\")\n",
    "pd.DataFrame(kurtosis(train[num_var], fisher=True), index=num_var).T"
   ]
  },
  {
   "cell_type": "markdown",
   "id": "756bfca3",
   "metadata": {},
   "source": [
    "- Scaling을 한 결과 ESG_risk의 경우 scaling 전보다 정규분포의 모양을 띄지만 그 외 변수들은 여전히 왼쪽으로 치우친 분포를 가진다. \n",
    "\n",
    "- 두 번째 plot은 상관계수에 관련된 것이다. scaling 전과 마찬가지로 유의미한 상관계수는 존재하지 않는다.\n",
    "\n",
    "- 더 자세한 정보를 위해 test와 첨도, 왜도를 출력했다. 왜도의 경우 대부분 안정화 되었고, 첨도 또한 문제가 되었던 ESG임원비율과 환경이사보다 훨씬 안정된 모습이다. \n",
    "\n",
    "- 그러나 ESG임원비율의 경우 scaling전의 값이 scaling 후 어느 정도 줄어들기는 했지만 여전히 첨도가 너무 큰 문제가 있다. 또한 정규성을 가설검정으로 보장하지도 않는다. 그러나 대부분의 변수의 첨도와 왜도가 줄어들었고, 더 이상의 변환은 데이터에 불필요한 보정을 할 수 있어 하지 않았다. "
   ]
  },
  {
   "cell_type": "code",
   "execution_count": 11,
   "id": "4df5d98c",
   "metadata": {},
   "outputs": [],
   "source": [
    "## dummy variable을 위해 scaling한 데이터를 다시 합침\n",
    "total_data = pd.concat([train, test], ignore_index=True)"
   ]
  },
  {
   "cell_type": "markdown",
   "id": "30bdcd79",
   "metadata": {},
   "source": [
    "####  object type 변수들에 대해서 dummy variable 생성\n",
    "- 자세한 설명은 G_FinalModeling에 있으므로 생략한다."
   ]
  },
  {
   "cell_type": "code",
   "execution_count": 12,
   "id": "e06c4700",
   "metadata": {},
   "outputs": [
    {
     "name": "stdout",
     "output_type": "stream",
     "text": [
      "Variables have more than three levels\n"
     ]
    },
    {
     "name": "stderr",
     "output_type": "stream",
     "text": [
      "C:\\Users\\user\\anaconda3\\lib\\site-packages\\pandas\\core\\algorithms.py:798: FutureWarning: In a future version, the Index constructor will not infer numeric dtypes when passed object-dtype sequences (matching Series behavior)\n",
      "  uniques = Index(uniques)\n"
     ]
    }
   ],
   "source": [
    "# linear regression용 data의 경우 multicollinearity를 예방하기 위해 categorical variable에서 \n",
    "# category의 개수가 3이상인 경우, 마지막 변수를 제거. : 그런 경우 없음.\n",
    "# print(\"The value counts are\")\n",
    "# for var in categ_var :\n",
    "#     print(total_data[var].value_counts())  \n",
    "print(\"Variables have more than three levels\")\n",
    "for var in categ_var :\n",
    "    if len(total_data[var].unique()) >= 3 :\n",
    "        print(var, end=', ')\n",
    "        \n",
    "# regression용 data\n",
    "rdata = copy.deepcopy(total_data)\n",
    "\n",
    "# binary variable들을 다시 int type으로 변경(굳이 dummy로 만들 필요 없음)\n",
    "chan_var = [var for var in rdata.columns if rdata[var].dtype == 'object']\n",
    "chan_var = chan_var[2:-1]\n",
    "rdata[chan_var] = rdata[chan_var].astype('int')\n",
    "\n",
    "\n",
    "## machinelearning용 data -> object를 factor화\n",
    "mdata = copy.deepcopy(total_data)\n",
    "object_columns = mdata.dtypes[mdata.dtypes == 'object'].index.tolist()\n",
    "\n",
    "for column in object_columns[2:-1]:\n",
    "    mdata[column] = pd.factorize(mdata[column])[0]"
   ]
  },
  {
   "cell_type": "markdown",
   "id": "081a6fef",
   "metadata": {},
   "source": [
    "#### rdata와 mdata를 train과 test set으로 분리."
   ]
  },
  {
   "cell_type": "code",
   "execution_count": 13,
   "id": "b5852636",
   "metadata": {},
   "outputs": [],
   "source": [
    "r_train = rdata.loc[rdata['ESG_GRADE']!=0,]\n",
    "r_test = rdata.loc[rdata['ESG_GRADE']==0,]\n",
    "m_train = mdata.loc[rdata['ESG_GRADE']!=0,]\n",
    "m_test = mdata.loc[rdata['ESG_GRADE']==0,]\n",
    "\n",
    "# index를 reset\n",
    "r_train = r_train.reset_index(drop=True)\n",
    "r_test = r_test.reset_index(drop=True)\n",
    "m_train = m_train.reset_index(drop=True)\n",
    "m_test = m_test.reset_index(drop=True)\n",
    "\n",
    "# print(r_train.shape, r_test.shape, m_train.shape, m_test.shape)"
   ]
  },
  {
   "cell_type": "markdown",
   "id": "affbcf25",
   "metadata": {},
   "source": [
    "## 2. Model Selection\n",
    "- 머신러닝에서 2개의 모델, 회귀분석에서 2개의 모델 총 4개의 모델을 이용하여 당사에서 제공한 참값이 입력되어 있는 train set을 이용하여 다시 train과 test로 나누어서 hyperparameter tuning 및 예측 결과를 비교하려 한다. 이때 분석 데이터는 업종별, 등급별로 층을 나누어 분포한 데이터라고 생각되어 층화추출을 이용하여 train과 test set을 나누었다."
   ]
  },
  {
   "cell_type": "markdown",
   "id": "591b773f",
   "metadata": {},
   "source": [
    "### 2-1. RandomForest : m_train 사용\n",
    "    * 목차\n",
    "        - hyper parameter setting (using cross validation)\n",
    "        - modeling (using k-fold)\n",
    "        - performance check\n",
    "\n",
    "- 특징\n",
    "    - 데이터가 적더라도 반복 학습, 검증을 통해 overfitting을 방지\n",
    "    - 상대적으로 튜닝이 거의 필요 없음\n",
    "    - variable importance를 통해 어느 정도 변수에 대한 설명 가능"
   ]
  },
  {
   "cell_type": "markdown",
   "id": "b6bfb0a7",
   "metadata": {},
   "source": [
    "#### hyper parameter tuning\n",
    "- 머신러닝에서 hyperparameter를 tuning하기 위해 여러가지 parameter 선택 값과 cross validation을 사용하였다. 이때 cross-validation의 값은 5를 사용했다."
   ]
  },
  {
   "cell_type": "code",
   "execution_count": 14,
   "id": "8284d275",
   "metadata": {
    "scrolled": true
   },
   "outputs": [
    {
     "name": "stderr",
     "output_type": "stream",
     "text": [
      "C:\\Users\\user\\anaconda3\\lib\\site-packages\\sklearn\\model_selection\\_split.py:676: UserWarning: The least populated class in y has only 1 members, which is less than n_splits=5.\n",
      "  warnings.warn(\n"
     ]
    },
    {
     "name": "stdout",
     "output_type": "stream",
     "text": [
      "01234560123456012345601234560123456      ne  md  ml  ms       정확도     근접정확도   과소추정오류비   3단계과추정률\n",
      "328  500   6   7   3  0.287788  0.786648  0.610247  0.150973\n"
     ]
    }
   ],
   "source": [
    "## parameter tuning\n",
    "# n_estimator : 트리의 개수. default는 10, 많을수록 성능이 좋아질 수 있으나 항상 그런 건 아님.\n",
    "# max_depth : 트리의 깊이\n",
    "# min_samples_leaf : leaf node가 되기 위한 최소한의 샘플 데이터 수\n",
    "# min_samples_split : 노드를 분할하기 위한 최소한의 데이터 수\n",
    "\n",
    "n_estimators = [50,100,200,300,400,500,700]\n",
    "max_depth = [6,8,10,12]\n",
    "min_samples_leaf = [3,5,7,10]\n",
    "min_samples_split = [3,5,7,10]\n",
    "\n",
    "## K-Fold\n",
    "y = m_train['ESG_GRADE'] \n",
    "new_data = m_train.drop(columns=['종목코드','SICS_Sector_Kr','ESG_GRADE','Stratify'], \n",
    "                     inplace=False)\n",
    "new_data = np.array(new_data)\n",
    "\n",
    "# split 개수, 셔플 여부 및 seed 설정\n",
    "str_kf = StratifiedKFold(n_splits = 5)\n",
    "\n",
    "# split 개수 스텝 만큼 train, test 데이터셋을 매번 분할\n",
    "best_hype = []\n",
    "acc_vec = []\n",
    "nearest_acc_vec = []\n",
    "under_est_vec = []\n",
    "over3_est_vec = []\n",
    "\n",
    "for train_index, test_index in str_kf.split(new_data, m_train['Stratify']):\n",
    "    x_train, x_test = new_data[train_index], new_data[test_index]\n",
    "    y_train, y_test = y[train_index], y[test_index]\n",
    "    \n",
    "    # hyperparameter 조합에 따라서 반복\n",
    "    for i in range(len(n_estimators)) :\n",
    "        print(i, end='')\n",
    "        for j in range(len(max_depth)) :\n",
    "            for k in range(len(min_samples_leaf)) :\n",
    "                for l in range(len(min_samples_split)) :\n",
    "                    model = RandomForestClassifier(max_depth=max_depth[j], \n",
    "                                                   min_samples_leaf=min_samples_leaf[k],\n",
    "                                                   min_samples_split=min_samples_split[l],\n",
    "                                                   n_estimators=n_estimators[i], \n",
    "                                                   random_state=10)\n",
    "                    model.fit(x_train, y_train)\n",
    "                    y_pred = model.predict(x_test) # 예측 라벨\n",
    "                    m = make_confusionmatrix(y_test, y_pred)\n",
    "                    acc_vec.append(acc(m)) \n",
    "                    nearest_acc_vec.append(nearest_acc(m))\n",
    "                    under_est_vec.append(under_est(m))\n",
    "                    over3_est_vec.append(over3_est(m))\n",
    "                    hype = [n_estimators[i],max_depth[j],min_samples_leaf[k],min_samples_split[l]] #제일 좋은 hyperparameter를 얻기 위해 hype에 할당\n",
    "                    best_hype.append(hype)\n",
    "\n",
    "                    \n",
    "# hyperparameter들의 결과를 출력 및 저장\n",
    "hype = pd.DataFrame(best_hype, columns=['ne', 'md', 'ml', 'ms'])\n",
    "rf_hype = pd.DataFrame({'정확도':acc_vec, '근접정확도':nearest_acc_vec,\n",
    "                       '과소추정오류비':under_est_vec, '3단계과추정률':over3_est_vec})\n",
    "\n",
    "rf_hype = pd.concat([hype, rf_hype], axis=1)\n",
    "rf_hype_mean = rf_hype.groupby(['ne', 'md', 'ml', 'ms'], as_index=False).mean()\n",
    "print(rf_hype_mean.sort_values('정확도',ascending=False).head(1))"
   ]
  },
  {
   "cell_type": "markdown",
   "id": "8ff4f740",
   "metadata": {},
   "source": [
    "- 위의 값이 가장 accuracy가 좋았던 hyperparameter 값이다. 이에 따라 해당 값으로 random forest 모형 fitting을 진행했다."
   ]
  },
  {
   "cell_type": "markdown",
   "id": "311a843f",
   "metadata": {},
   "source": [
    "#### K-fold를 활용한 fitting 및 performance 출력"
   ]
  },
  {
   "cell_type": "code",
   "execution_count": 15,
   "id": "8db5f263",
   "metadata": {},
   "outputs": [
    {
     "name": "stderr",
     "output_type": "stream",
     "text": [
      "C:\\Users\\user\\anaconda3\\lib\\site-packages\\sklearn\\model_selection\\_split.py:676: UserWarning: The least populated class in y has only 1 members, which is less than n_splits=5.\n",
      "  warnings.warn(\n"
     ]
    },
    {
     "name": "stdout",
     "output_type": "stream",
     "text": [
      "time : 1.7707843780517578\n",
      "정확도: [ 5.26 31.82 48.48 45.45 10.61]     정확도 평균: 28.33\n",
      "근접정확도: [79.7  75.76 78.79 81.06 76.52]     근접정확도 평균: 78.36\n",
      "과소추정오류비: [85.71 87.78 52.94 51.39 30.51]     과소추정오류비 평균: 61.67\n",
      "3단계과추정률: [15.87 28.89 16.18  9.72  4.24]     3단계과추정률: 14.979999999999999\n"
     ]
    }
   ],
   "source": [
    "## set hyperparameter \n",
    "sel = rf_hype_mean.sort_values('정확도',ascending=False).head(1)\n",
    "ne=sel.iloc[0,0] #n_estimators\n",
    "md=sel.iloc[0,1] #max_depth\n",
    "ml=sel.iloc[0,2] #min_samples_leaf\n",
    "ms=sel.iloc[0,3] #min_samples_split\n",
    "\n",
    "\n",
    "## K-Fold를 통한 randomforest fitting\n",
    "y = m_train['ESG_GRADE'] \n",
    "new_data = m_train.drop(columns=['종목코드','SICS_Sector_Kr','ESG_GRADE','Stratify'], \n",
    "                     inplace=False)\n",
    "new_data = np.array(new_data)\n",
    "\n",
    "# split 개수, 셔플 여부 및 seed 설정 / 5-fold 진행\n",
    "str_kf = StratifiedKFold(n_splits = 5)\n",
    "\n",
    "# split 개수 스텝 만큼 train, test 데이터셋을 매번 분할\n",
    "acc_vec = []\n",
    "nearest_acc_vec = []\n",
    "under_est_vec = []\n",
    "over3_est_vec = []\n",
    "start = time.time() \n",
    "for train_index, test_index in str_kf.split(new_data, m_train['Stratify']):\n",
    "    x_train, x_test = new_data[train_index], new_data[test_index]\n",
    "    y_train, y_test = y[train_index], y[test_index]\n",
    "    \n",
    "    # hyper parameter tuning의 결과\n",
    "    model = RandomForestClassifier(n_estimators=ne, max_depth=md, min_samples_leaf=ml,\n",
    "                                  min_samples_split=ms)\n",
    "    model.fit(x_train, y_train) # 모델 학습\n",
    "\n",
    "    y_pred = model.predict(x_test) # 예측 라벨\n",
    "    m = make_confusionmatrix(y_test, y_pred)\n",
    "    acc_vec.append(acc(m))\n",
    "    nearest_acc_vec.append(nearest_acc(m))\n",
    "    under_est_vec.append(under_est(m))\n",
    "    over3_est_vec.append(over3_est(m))\n",
    "    \n",
    "print(\"time :\", time.time() - start)\n",
    "print(\"정확도:\",np.round(acc_vec,4)*100,\"   \", \"정확도 평균:\",np.round(st.mean(acc_vec),4)*100)\n",
    "print(\"근접정확도:\",np.round(nearest_acc_vec,4)*100,\"   \", \"근접정확도 평균:\",np.round(st.mean(nearest_acc_vec),4)*100)\n",
    "print(\"과소추정오류비:\",np.round(under_est_vec,4)*100,\"   \", \"과소추정오류비 평균:\",np.round(st.mean(under_est_vec),4)*100)\n",
    "print(\"3단계과추정률:\",np.round(over3_est_vec,4)*100,\"   \", \"3단계과추정률:\",np.round(st.mean(over3_est_vec),4)*100)"
   ]
  },
  {
   "cell_type": "markdown",
   "id": "a8834850",
   "metadata": {},
   "source": [
    "- Random Forest의 결과는 위와 같다. 소요시간은 1.97초 이다. \n",
    "- 각 정확도와 근접정확도, 과소추정오류비, 그리고 3단계과추정률은 위의 값과 같다. \n",
    "- 각 지표의 평균 값은 각 정확도, 근접정확도, 과소추정오류비, 3단계과추정률 순으로 27.87%, 78.82%, 60.77%, 14.79%이다."
   ]
  },
  {
   "cell_type": "markdown",
   "id": "8fa46c14",
   "metadata": {},
   "source": [
    "### 2-2. XBART : m_train 사용\n",
    "     * 목차\n",
    "    - hyper parameter setting (using cross validation)\n",
    "    - modeling (using k-fold)\n",
    "    - performance check\n",
    "    \n",
    "- 특징 및 설명\n",
    "    - Bayesian Additive Regression Tree 방식\n",
    "    - Bayesian방식으로 additive regression tree를 사용한 모델로 prior를 선택할 수 있는 것이 큰 특징\n",
    "    - tree 모형과 마찬가지로 예측에 있어서 logic을 가지고 있기 때문에 classification에 대한 논리 설명 가능\n",
    "    - variable importance를 통해 어느 정도 변수에 대한 설명 가능\n",
    "    - 속도가 느리고 mcmc mixing이 다소 느릴 수 있다는 게 단점"
   ]
  },
  {
   "cell_type": "markdown",
   "id": "3a987587",
   "metadata": {},
   "source": [
    "#### hyper parameter tuning"
   ]
  },
  {
   "cell_type": "code",
   "execution_count": 37,
   "id": "ea066046",
   "metadata": {},
   "outputs": [
    {
     "name": "stderr",
     "output_type": "stream",
     "text": [
      "C:\\Users\\USER\\anaconda3\\lib\\site-packages\\sklearn\\model_selection\\_split.py:676: UserWarning: The least populated class in y has only 1 members, which is less than n_splits=5.\n",
      "  warnings.warn(\n"
     ]
    },
    {
     "name": "stdout",
     "output_type": "stream",
     "text": [
      "0101010101    nt   ns  nm       정확도     근접정확도  과소추정오류비  3단계과추정률\n",
      "0  100  100   5  0.124242  0.446913      1.0   0.4444\n"
     ]
    }
   ],
   "source": [
    "## parameter tuning\n",
    "# parameter에 대한 설명\n",
    "# num_trees : 각 반복에서의 트리의 개수, default=100\n",
    "# num_sweeps : MCMC 반복 수, default=40\n",
    "# n_min : 각 final node에서 sample의 최소 개수\n",
    "# alpha, beta : tree prior hyperparameter : alpha*(1+depth)^beta : default(0.95 / 1.25)\n",
    "# kap. s : prior for sigma : default(16.0 / 4.0)\n",
    "\n",
    "num_trees = [100,200]\n",
    "num_sweeps = [100,200]\n",
    "n_min = [5,7,10]\n",
    "\n",
    "\n",
    "## K-Fold\n",
    "y = m_train['ESG_GRADE'] \n",
    "new_data = m_train.drop(columns=['종목코드','SICS_Sector_Kr','ESG_GRADE','Stratify'], \n",
    "                     inplace=False)\n",
    "new_data = np.array(new_data)\n",
    "\n",
    "\n",
    "# split 개수, 셔플 여부 및 seed 설정\n",
    "str_kf = StratifiedKFold(n_splits = 5)\n",
    "\n",
    "# split 개수 스텝 만큼 train, test 데이터셋을 매번 분할\n",
    "best_hype = []\n",
    "acc_vec = []\n",
    "nearest_acc_vec = []\n",
    "under_est_vec = []\n",
    "over3_est_vec = []\n",
    "for train_index, test_index in str_kf.split(new_data, m_train['Stratify']):\n",
    "    x_train, x_test = new_data[train_index], new_data[test_index]\n",
    "    y_train, y_test = y[train_index], y[test_index]\n",
    "    \n",
    "    for i in range(len(num_trees)) :\n",
    "        print(i, end='')\n",
    "        for j in range(len(num_sweeps)) :\n",
    "            for k in range(len(n_min)) :\n",
    "                model = XBART(model='Multinomial', num_classes=9, seed=10, num_trees=num_trees[i], \n",
    "                              num_sweeps=num_sweeps[j],n_min=n_min[k])\n",
    "                model.fit(x_train, y_train)\n",
    "                y_pred = model.predict(x_test, return_mean=True)\n",
    "                y_pred = y_pred.argmax(1) + 1\n",
    "                m = make_confusionmatrix(y_test, y_pred)\n",
    "                acc_vec.append(acc(m))\n",
    "                nearest_acc_vec.append(nearest_acc(m))\n",
    "                under_est_vec.append(under_est(m))\n",
    "                over3_est_vec.append(over3_est(m))\n",
    "                hype = [num_trees[i],num_sweeps[j],n_min[k]]\n",
    "                best_hype.append(hype)\n",
    "                \n",
    "# hyperparameter들의 결과를 출력 및 저장\n",
    "hype = pd.DataFrame(best_hype, columns=['nt', 'ns', 'nm'])\n",
    "bart_hype = pd.DataFrame({'정확도':acc_vec, '근접정확도':nearest_acc_vec,\n",
    "                       '과소추정오류비':under_est_vec, '3단계과추정률':over3_est_vec})\n",
    "\n",
    "bart_hype = pd.concat([hype, bart_hype], axis=1)\n",
    "bart_hype_mean = bart_hype.groupby(['nt', 'ns', 'nm'], as_index=False).mean()\n",
    "print(bart_hype_mean.sort_values('정확도',ascending=False).head(1))"
   ]
  },
  {
   "cell_type": "markdown",
   "id": "a6b9d047",
   "metadata": {},
   "source": [
    "- 위의 값이 가장 accuracy가 좋았던 hyperparameter 값이다. 이에 따라 해당 값으로 bart 모형 fitting을 진행했다."
   ]
  },
  {
   "cell_type": "markdown",
   "id": "98d50b7f",
   "metadata": {},
   "source": [
    "#### K-fold를 활용한 fitting 및 performance 출력"
   ]
  },
  {
   "cell_type": "code",
   "execution_count": 38,
   "id": "5c7abd02",
   "metadata": {
    "scrolled": false
   },
   "outputs": [
    {
     "name": "stderr",
     "output_type": "stream",
     "text": [
      "C:\\Users\\USER\\anaconda3\\lib\\site-packages\\sklearn\\model_selection\\_split.py:676: UserWarning: The least populated class in y has only 1 members, which is less than n_splits=5.\n",
      "  warnings.warn(\n"
     ]
    },
    {
     "name": "stdout",
     "output_type": "stream",
     "text": [
      "time : 93.53689432144165\n",
      "정확도: [ 0.    0.    0.    6.06 56.06]     정확도 평균: 12.42\n",
      "근접정확도: [ 3.76 28.79 61.36 64.39 65.15]     근접정확도 평균: 44.690000000000005\n",
      "과소추정오류비: [100. 100. 100. 100. 100.]     과소추정오류비 평균: 100.0\n",
      "3단계과추정률: [35.34 35.61 34.85 37.1  79.31]     3단계과추정률: 44.440000000000005\n"
     ]
    }
   ],
   "source": [
    "sel = bart_hype_mean.sort_values('정확도',ascending=False).head(1)\n",
    "nt = sel.iloc[0,0] #num_trees\n",
    "ns = sel.iloc[0,1] #num_sweeps\n",
    "nm = sel.iloc[0,2] #n_min\n",
    "\n",
    "## K-Fold\n",
    "y = m_train['ESG_GRADE'] \n",
    "new_data = m_train.drop(columns=['종목코드','SICS_Sector_Kr','ESG_GRADE','Stratify'], \n",
    "                     inplace=False)\n",
    "new_data = np.array(new_data)\n",
    "\n",
    "\n",
    "# split 개수, 셔플 여부 및 seed 설정\n",
    "str_kf = StratifiedKFold(n_splits = 5)\n",
    "\n",
    "# split 개수 스텝 만큼 train, test 데이터셋을 매번 분할\n",
    "acc_vec = []\n",
    "nearest_acc_vec = []\n",
    "under_est_vec = []\n",
    "over3_est_vec = []\n",
    "start = time.time() \n",
    "for train_index, test_index in str_kf.split(new_data, m_train['Stratify']):\n",
    "    x_train, x_test = new_data[train_index], new_data[test_index]\n",
    "    y_train, y_test = y[train_index], y[test_index]\n",
    "    \n",
    "    \n",
    "    model = XBART(model='Multinomial', num_classes=9, seed=10, num_trees=nt, \n",
    "                              num_sweeps=ns,n_min=nm)\n",
    "    model.fit(x_train, y_train)\n",
    "    y_pred = model.predict(x_test, return_mean=True)\n",
    "    y_pred = y_pred.argmax(1) + 1\n",
    "    m = make_confusionmatrix(y_test, y_pred)\n",
    "    acc_vec.append(acc(m))\n",
    "    nearest_acc_vec.append(nearest_acc(m))\n",
    "    under_est_vec.append(under_est(m))\n",
    "    over3_est_vec.append(over3_est(m))\n",
    "\n",
    "print(\"time :\", time.time() - start)\n",
    "print(\"정확도:\",np.round(acc_vec,4)*100,\"   \", \"정확도 평균:\",np.round(st.mean(acc_vec),4)*100)\n",
    "print(\"근접정확도:\",np.round(nearest_acc_vec,4)*100,\"   \", \"근접정확도 평균:\",np.round(st.mean(nearest_acc_vec),4)*100)\n",
    "print(\"과소추정오류비:\",np.round(under_est_vec,4)*100,\"   \", \"과소추정오류비 평균:\",np.round(st.mean(under_est_vec),4)*100)\n",
    "print(\"3단계과추정률:\",np.round(over3_est_vec,4)*100,\"   \", \"3단계과추정률:\",np.round(st.mean(over3_est_vec),4)*100)"
   ]
  },
  {
   "cell_type": "markdown",
   "id": "cf8bf384",
   "metadata": {},
   "source": [
    "- XBART의 결과는 위와 같다. 소요시간은 93.54초 이다. \n",
    "- 각 정확도와 근접정확도, 과소추정오류비, 3단계과추정률은 위의 값과 같다."
   ]
  },
  {
   "cell_type": "markdown",
   "id": "e4af860c",
   "metadata": {},
   "source": [
    "### 2-3. Multinomial Logistic Regression : r_train 사용\n",
    "       * 목차\n",
    "            - modeling (using k-fold)\n",
    "            - performance check\n",
    "\n",
    "- 특징 및 설명\n",
    "    - 독립변수의 선형 결합을 이용하여 사건의 발생 가능성을 예측하는데 사용되는 모델\n",
    "    - 종속변수가 범주형 데이터일 때를 대상으로 한 모델\n",
    "    - 오즈(성공확률/실패확률)를 logit 변환한 모델\n",
    "    - 통계에서 가장 기본적이면서도 powerful한 모형으로 사용자가 쉽게 사용가능\n",
    "    - 머신러닝 기법과 달리 hyperparameter tuning이 필요 없음\n",
    "    - 다양한 자연스러운 통계적 해석이 가능"
   ]
  },
  {
   "cell_type": "markdown",
   "id": "2f13550c",
   "metadata": {},
   "source": [
    "#### K-fold를 활용한 fitting 및 performance 출력"
   ]
  },
  {
   "cell_type": "code",
   "execution_count": 16,
   "id": "c7047122",
   "metadata": {
    "scrolled": true
   },
   "outputs": [
    {
     "name": "stderr",
     "output_type": "stream",
     "text": [
      "C:\\Users\\user\\anaconda3\\lib\\site-packages\\sklearn\\model_selection\\_split.py:676: UserWarning: The least populated class in y has only 1 members, which is less than n_splits=5.\n",
      "  warnings.warn(\n"
     ]
    },
    {
     "name": "stdout",
     "output_type": "stream",
     "text": [
      "time : 3.9369957447052\n",
      "정확도: [62.41 34.09 45.45 41.67 11.36]     정확도 평균: 39.0\n",
      "근접정확도: [70.68 81.06 78.03 78.79 79.55]     근접정확도 평균: 77.62\n",
      "과소추정오류비: [40.   82.76 51.39 46.75 31.62]     과소추정오류비 평균: 50.5\n",
      "3단계과추정률: [46.   18.39 13.89  9.09  4.27]     3단계과추정률: 18.33\n"
     ]
    }
   ],
   "source": [
    "## K-Fold\n",
    "y = r_train['ESG_GRADE'] # y값 할당\n",
    "new_data = r_train.drop(columns=['종목코드','SICS_Sector_Kr','ESG_GRADE','Stratify'], \n",
    "                     inplace=False)# x값 할당(fitting에 불필요한 변수 제거)\n",
    "new_data = sm.add_constant(new_data, prepend=False)# 해당 모형을 돌리기 위해 상수부분 추가\n",
    "new_data = np.array(new_data)\n",
    "\n",
    "\n",
    "# split 개수, 셔플 여부 및 seed 설정\n",
    "str_kf = StratifiedKFold(n_splits = 5)\n",
    "\n",
    "# split 개수 스텝 만큼 train, test 데이터셋을 매번 분할\n",
    "acc_vec = []\n",
    "nearest_acc_vec = []\n",
    "under_est_vec = []\n",
    "over3_est_vec = []\n",
    "start = time.time() \n",
    "for train_index, test_index in str_kf.split(new_data, r_train['Stratify']):\n",
    "    x_train, x_test = new_data[train_index], new_data[test_index]\n",
    "    y_train, y_test = y[train_index], y[test_index]\n",
    "    \n",
    "    # 다범주 분류에 사용되는 solver에는 newton-cg, lbfgs가 존재\n",
    "    # lbfgs가 더 성능이 좋다고 알려져있음.\n",
    "    # 또한 MNLogit에서는 newton-cg 방법을 지원하지 않음.\n",
    "    model = sm.MNLogit(y_train, x_train) # 모델 학습\n",
    "    result= model.fit(method='lbfgs', maxiter=10000)\n",
    "\n",
    "\n",
    "    y_pred = model.predict(result.params, x_test) # 예측 라벨\n",
    "    y_pred = y_pred.argmax(1) + 1\n",
    "    m = make_confusionmatrix(y_test, y_pred)\n",
    "    acc_vec.append(acc(m))\n",
    "    nearest_acc_vec.append(nearest_acc(m))\n",
    "    under_est_vec.append(under_est(m))\n",
    "    over3_est_vec.append(over3_est(m))\n",
    "print(\"time :\", time.time() - start)\n",
    "print(\"정확도:\",np.round(acc_vec,4)*100,\"   \", \"정확도 평균:\",np.round(st.mean(acc_vec),4)*100)\n",
    "print(\"근접정확도:\",np.round(nearest_acc_vec,4)*100,\"   \", \"근접정확도 평균:\",np.round(st.mean(nearest_acc_vec),4)*100)\n",
    "print(\"과소추정오류비:\",np.round(under_est_vec,4)*100,\"   \", \"과소추정오류비 평균:\",np.round(st.mean(under_est_vec),4)*100)\n",
    "print(\"3단계과추정률:\",np.round(over3_est_vec,4)*100,\"   \", \"3단계과추정률:\",np.round(st.mean(over3_est_vec),4)*100)"
   ]
  },
  {
   "cell_type": "markdown",
   "id": "c06ab256",
   "metadata": {},
   "source": [
    "\n",
    "- Multinomial Logistic Regression의 결과는 위와 같다. 소요시간은 3.23초이다. \n",
    "- 각 정확도와 근접정확도, 과소추정오류비, 3단계과추정률은 위의 값과 같다\n",
    "- 해당 모형에서 사용할 수 있는 solver에 관련된 설명은 G_FinalModeling에 있으므로 생략한다."
   ]
  },
  {
   "cell_type": "markdown",
   "id": "44c84bef",
   "metadata": {},
   "source": [
    "### 2-4. Ordinal Logistic Regression : r_train 사용\n",
    "     * 목차\n",
    "        - modeling (using k-fold)\n",
    "        - performance check\n",
    "    \n",
    "- 특징 및 설명\n",
    "    - 종속변수가 범주형 데이터이고 순서가 있을 때를 대상으로 한 모델\n",
    "    - 머신러닝 기법과 달리 hyperparameter tuning이 필요 없음\n",
    "    - 다양한 자연스러운 통계적 해석이 가능"
   ]
  },
  {
   "cell_type": "markdown",
   "id": "be8247ff",
   "metadata": {},
   "source": [
    "#### K-fold를 활용한 fitting 및 performance 출력"
   ]
  },
  {
   "cell_type": "code",
   "execution_count": 17,
   "id": "6c7c1df1",
   "metadata": {},
   "outputs": [
    {
     "name": "stderr",
     "output_type": "stream",
     "text": [
      "C:\\Users\\user\\anaconda3\\lib\\site-packages\\sklearn\\model_selection\\_split.py:676: UserWarning: The least populated class in y has only 1 members, which is less than n_splits=5.\n",
      "  warnings.warn(\n"
     ]
    },
    {
     "name": "stdout",
     "output_type": "stream",
     "text": [
      "time : 3.4026107788085938\n",
      "정확도: [63.78 34.09 38.64 35.61  7.58]     정확도 평균: 35.94\n",
      "근접정확도: [71.65 76.52 78.79 81.82 84.85]     근접정확도 평균: 78.72\n",
      "과소추정오류비: [39.13 86.21 51.85 54.12 30.33]     과소추정오류비 평균: 52.33\n",
      "3단계과추정률: [52.17 25.29 14.81  8.24  2.46]     3단계과추정률: 20.59\n"
     ]
    }
   ],
   "source": [
    "## K-Fold\n",
    "y = r_train['ESG_GRADE']\n",
    "new_data = r_train.drop(columns=['종목코드','SICS_Sector_Kr','ESG_GRADE','Stratify'], \n",
    "                     inplace=False)\n",
    "new_data = np.array(new_data)\n",
    "\n",
    "\n",
    "# split 개수, 셔플 여부 및 seed 설정\n",
    "str_kf = StratifiedKFold(n_splits = 5)\n",
    "\n",
    "# split 개수 스텝 만큼 train, test 데이터셋을 매번 분할\n",
    "acc_vec = []\n",
    "nearest_acc_vec = []\n",
    "under_est_vec = []\n",
    "over3_est_vec = []\n",
    "start = time.time() \n",
    "for train_index, test_index in str_kf.split(new_data, r_train['Stratify']):\n",
    "    x_train, x_test = new_data[train_index], new_data[test_index]\n",
    "    y_train, y_test = y[train_index], y[test_index]\n",
    "    \n",
    "    t = pd.CategoricalDtype(categories = y_train.unique(), ordered = True)\n",
    "    y_train = pd.Series(y_train, dtype = t)\n",
    "    y_test = pd.Series(y_test, dtype = t)\n",
    "    \n",
    "    model = OrderedModel(y_train, x_train, distr = 'probit')\n",
    "    result = model.fit(method='lbfgs', maxiter=10000) # 모델 학습\n",
    "\n",
    "    y_pred = model.predict(result.params, exog = x_test) # 예측 라벨\n",
    "    y_pred = y_pred.argmax(1) + 1\n",
    "    m = make_confusionmatrix(y_test, y_pred)\n",
    "    acc_vec.append(acc(m))\n",
    "    nearest_acc_vec.append(nearest_acc(m))\n",
    "    under_est_vec.append(under_est(m))\n",
    "    over3_est_vec.append(over3_est(m))\n",
    "\n",
    "print(\"time :\", time.time() - start)\n",
    "print(\"정확도:\",np.round(acc_vec,4)*100,\"   \", \"정확도 평균:\",np.round(st.mean(acc_vec),4)*100)\n",
    "print(\"근접정확도:\",np.round(nearest_acc_vec,4)*100,\"   \", \"근접정확도 평균:\",np.round(st.mean(nearest_acc_vec),4)*100)\n",
    "print(\"과소추정오류비:\",np.round(under_est_vec,4)*100,\"   \", \"과소추정오류비 평균:\",np.round(st.mean(under_est_vec),4)*100)\n",
    "print(\"3단계과추정률:\",np.round(over3_est_vec,4)*100,\"   \", \"3단계과추정률:\",np.round(st.mean(over3_est_vec),4)*100)"
   ]
  },
  {
   "cell_type": "markdown",
   "id": "4f897cf1",
   "metadata": {},
   "source": [
    "- Ordinal Logistic Regression의 결과는 위와 같다. 소요시간은 3.90초이다.\n",
    "- 각 정확도와 근접정확도, 과소추정오류비, 3단계과추정률은 위의 값과 같다\n",
    "- slover에 대한 의미는 Multinomial Logistic Regression과 같다."
   ]
  },
  {
   "cell_type": "markdown",
   "id": "c6444c82",
   "metadata": {},
   "source": [
    "## 3. Model select based on performance\n",
    "- Multinomial Logistic Model을 선택하게 된 논리는 G_FinalModeling에 자세하게 설명되어 있으니 생략하겠다."
   ]
  },
  {
   "cell_type": "markdown",
   "id": "08b5052d",
   "metadata": {},
   "source": [
    "## 4. Model Fitting\n",
    "- 전체 모형은 cross validation 없이 train set(당사에서 제공한 참값이 있는 data set)을 사용해 적합했다."
   ]
  },
  {
   "cell_type": "markdown",
   "id": "5e0b2359",
   "metadata": {},
   "source": [
    "#### 가정 검정 (multicollinearity) : VIF\n",
    "- 선택한 모형에 fitting하기 전, 문제가 많이 되는 다중공선성에 대해 살펴보기 위해 VIF를 계산했다.\n",
    "- VIF값은 10보다 큰 경우 다중공선성이 발생한 것으로 판단한다."
   ]
  },
  {
   "cell_type": "code",
   "execution_count": 18,
   "id": "4aab41d1",
   "metadata": {},
   "outputs": [
    {
     "name": "stdout",
     "output_type": "stream",
     "text": [
      "### Train set VIF ###\n"
     ]
    },
    {
     "data": {
      "text/html": [
       "<div>\n",
       "<style scoped>\n",
       "    .dataframe tbody tr th:only-of-type {\n",
       "        vertical-align: middle;\n",
       "    }\n",
       "\n",
       "    .dataframe tbody tr th {\n",
       "        vertical-align: top;\n",
       "    }\n",
       "\n",
       "    .dataframe thead th {\n",
       "        text-align: right;\n",
       "    }\n",
       "</style>\n",
       "<table border=\"1\" class=\"dataframe\">\n",
       "  <thead>\n",
       "    <tr style=\"text-align: right;\">\n",
       "      <th></th>\n",
       "      <th>VIF Factor</th>\n",
       "      <th>features</th>\n",
       "    </tr>\n",
       "  </thead>\n",
       "  <tbody>\n",
       "    <tr>\n",
       "      <th>0</th>\n",
       "      <td>1.060677</td>\n",
       "      <td>ESG_risk</td>\n",
       "    </tr>\n",
       "    <tr>\n",
       "      <th>1</th>\n",
       "      <td>4.197021</td>\n",
       "      <td>ESG임원비율</td>\n",
       "    </tr>\n",
       "    <tr>\n",
       "      <th>2</th>\n",
       "      <td>3.719043</td>\n",
       "      <td>환경이사</td>\n",
       "    </tr>\n",
       "    <tr>\n",
       "      <th>3</th>\n",
       "      <td>2.401740</td>\n",
       "      <td>여성임원비율</td>\n",
       "    </tr>\n",
       "  </tbody>\n",
       "</table>\n",
       "</div>"
      ],
      "text/plain": [
       "   VIF Factor  features\n",
       "0    1.060677  ESG_risk\n",
       "1    4.197021   ESG임원비율\n",
       "2    3.719043      환경이사\n",
       "3    2.401740    여성임원비율"
      ]
     },
     "execution_count": 18,
     "metadata": {},
     "output_type": "execute_result"
    }
   ],
   "source": [
    "vif = pd.DataFrame()\n",
    "vif[\"VIF Factor\"] = [variance_inflation_factor(\n",
    "   r_train[num_var].values, i) for i in range(r_train[num_var].shape[1])]\n",
    "vif[\"features\"] = r_train[num_var].columns\n",
    "print(\"### Train set VIF ###\")\n",
    "vif"
   ]
  },
  {
   "cell_type": "markdown",
   "id": "094bd8d0",
   "metadata": {},
   "source": [
    "- train set의 VIF값은 위와 같다. VIF값은 10이상일 경우 다중공선성이 발생했다고 해석할 수 있는데 모든 VIF 값이 10보다 작으므로 다중공선성의 위험은 없다."
   ]
  },
  {
   "cell_type": "code",
   "execution_count": 19,
   "id": "bd8272f2",
   "metadata": {},
   "outputs": [
    {
     "data": {
      "image/png": "[encoded data removed]",
      "text/plain": [
       "<Figure size 1080x576 with 2 Axes>"
      ]
     },
     "metadata": {
      "needs_background": "light"
     },
     "output_type": "display_data"
    }
   ],
   "source": [
    "#correlation map\n",
    "plt.figure(figsize = (15,8))\n",
    "sns.heatmap(r_train[num_var].corr(), annot=True,cmap='gist_heat_r')\n",
    "plt.show()"
   ]
  },
  {
   "cell_type": "markdown",
   "id": "d467cc65",
   "metadata": {},
   "source": [
    "- 상관계수 plot의 결과 앞선 preprocessing 단계에서도 언급했듯이 눈에 띄는 유의미한 상관계수가 존재하지 않는다."
   ]
  },
  {
   "cell_type": "markdown",
   "id": "86591ab3",
   "metadata": {},
   "source": [
    "#### 주어진 train data set에 대해 Model Fitting : r_train 사용"
   ]
  },
  {
   "cell_type": "code",
   "execution_count": 20,
   "id": "05d00cf7",
   "metadata": {
    "scrolled": true
   },
   "outputs": [
    {
     "name": "stdout",
     "output_type": "stream",
     "text": [
      "[Logistic Regression Train Set Evaluation]\n",
      "정확도 :  39.94 %\n",
      "근접정확도 :  78.21 %\n",
      "과소적합/오류 비 :  62.97 %\n",
      "3등급이상과적합/오류 비 :  20.65 %\n"
     ]
    }
   ],
   "source": [
    "y_train = r_train['ESG_GRADE']\n",
    "x_train = r_train.drop(columns=['종목코드','SICS_Sector_Kr','ESG_GRADE','Stratify'], \n",
    "                     inplace=False)\n",
    "\n",
    "x = sm.add_constant(x_train, prepend=False)\n",
    "model = sm.MNLogit(y_train, x)#모형 할당\n",
    "result = model.fit(method='lbfgs', maxiter=100000, full_output=True)#모형 적합\n",
    "mar=result.get_margeff()\n",
    "y_pred = model.predict(result.params, x)#모형 예측\n",
    "y_pred = y_pred.argmax(1) + 1 #이때, 모형이 예측한 값은 확률값이기 때문에 이를 이용하여 classification 진행\n",
    "y_pred = pd.Series(y_pred)\n",
    "## 모형 fitting 결과\n",
    "print(\"[Logistic Regression Train Set Evaluation]\")\n",
    "eval_stat(make_confusionmatrix(y_train, y_pred))"
   ]
  },
  {
   "cell_type": "markdown",
   "id": "d6a03325",
   "metadata": {},
   "source": [
    "- 전체 train set을 이용하여 모형을 적합한 결과 정확도는 39.94%, 근접정확도는 78.21%, 과소적합/오류비는 62.97%, 3등급이상과적합/오류비는 20.65% 로 나타난다."
   ]
  },
  {
   "cell_type": "markdown",
   "id": "146f7bca",
   "metadata": {},
   "source": [
    "#### result confusion matrix"
   ]
  },
  {
   "cell_type": "code",
   "execution_count": 21,
   "id": "285a9066",
   "metadata": {},
   "outputs": [
    {
     "data": {
      "image/png": "[encoded data removed]",
      "text/plain": [
       "<Figure size 1080x576 with 2 Axes>"
      ]
     },
     "metadata": {
      "needs_background": "light"
     },
     "output_type": "display_data"
    }
   ],
   "source": [
    "confmtrx = np.array(make_confusionmatrix(y_train, y_pred))\n",
    "confmtrx = pd.DataFrame(confmtrx, index=['real ESG1','real ESG2','real ESG3','real ESG4','real ESG5','real ESG6','real ESG7', 'real ESG8',\n",
    "                              'real ESG9']\n",
    "             , columns=['pred ESG1','pred ESG2','pred ESG3','pred ESG4','pred ESG5','pred ESG6','pred ESG7','pred ESG8','pred ESG9'])\n",
    "\n",
    "\n",
    "plt.figure(figsize = (15,8))\n",
    "ax = sns.heatmap(confmtrx,annot=True,cmap='gist_heat_r',fmt='g') # 222 다 나오게 수정\n",
    "plt.show()"
   ]
  },
  {
   "cell_type": "markdown",
   "id": "d95caafe",
   "metadata": {},
   "source": [
    "#### Result\n",
    "- MLR의 해석이 어려운 특성 상 margianl summary도 결과로 출력했다. marginal summary는 전체 summary와 달리 한 등급의 오즈비에 대해 회귀계수를 출력하여 보여준다."
   ]
  },
  {
   "cell_type": "code",
   "execution_count": 22,
   "id": "8b384f36",
   "metadata": {
    "scrolled": true
   },
   "outputs": [
    {
     "name": "stdout",
     "output_type": "stream",
     "text": [
      "### print marginal summary ###\n",
      "       MNLogit Marginal Effects      \n",
      "=====================================\n",
      "Dep. Variable:              ESG_GRADE\n",
      "Method:                          dydx\n",
      "At:                           overall\n",
      "===============================================================================\n",
      "ESG_GRADE=1      dy/dx    std err          z      P>|z|      [0.025      0.975]\n",
      "-------------------------------------------------------------------------------\n",
      "ESG_risk        0.0034      0.005      0.697      0.486      -0.006       0.013\n",
      "지가경공시          -0.0050      0.007     -0.764      0.445      -0.018       0.008\n",
      "지가경발간           0.0093      0.033      0.281      0.779      -0.055       0.074\n",
      "ESG임원비율         0.0059      0.004      1.612      0.107      -0.001       0.013\n",
      "ESG채권           0.0126      0.006      2.212      0.027       0.001       0.024\n",
      "환경이사        -8.051e-05      0.001     -0.111      0.912      -0.002       0.001\n",
      "여성임원비율          0.0023      0.002      1.369      0.171      -0.001       0.006\n",
      "-------------------------------------------------------------------------------\n",
      "ESG_GRADE=2      dy/dx    std err          z      P>|z|      [0.025      0.975]\n",
      "-------------------------------------------------------------------------------\n",
      "ESG_risk        0.0768      0.019      4.142      0.000       0.040       0.113\n",
      "지가경공시           0.0031      0.049      0.064      0.949      -0.093       0.099\n",
      "지가경발간           0.0050      0.025      0.198      0.843      -0.045       0.055\n",
      "ESG임원비율        -0.0012      0.022     -0.054      0.957      -0.043       0.041\n",
      "ESG채권          -0.0315      0.036     -0.882      0.378      -0.102       0.038\n",
      "환경이사           -0.0002      0.002     -0.070      0.944      -0.004       0.004\n",
      "여성임원비율          0.0001      0.002      0.065      0.948      -0.004       0.004\n",
      "-------------------------------------------------------------------------------\n",
      "ESG_GRADE=3      dy/dx    std err          z      P>|z|      [0.025      0.975]\n",
      "-------------------------------------------------------------------------------\n",
      "ESG_risk        0.0108      0.019      0.562      0.574      -0.027       0.049\n",
      "지가경공시           0.0506      0.127      0.398      0.691      -0.199       0.300\n",
      "지가경발간           0.0523      0.030      1.725      0.084      -0.007       0.112\n",
      "ESG임원비율         0.0024      0.123      0.019      0.985      -0.239       0.244\n",
      "ESG채권           0.0454      0.122      0.372      0.710      -0.194       0.285\n",
      "환경이사            0.0012      0.003      0.476      0.634      -0.004       0.006\n",
      "여성임원비율          0.0004      0.003      0.140      0.889      -0.005       0.006\n",
      "-------------------------------------------------------------------------------\n",
      "ESG_GRADE=4      dy/dx    std err          z      P>|z|      [0.025      0.975]\n",
      "-------------------------------------------------------------------------------\n",
      "ESG_risk        0.0014      0.016      0.084      0.933      -0.031       0.033\n",
      "지가경공시           0.0190      0.524      0.036      0.971      -1.008       1.046\n",
      "지가경발간           0.1059      0.086      1.235      0.217      -0.062       0.274\n",
      "ESG임원비율         0.0203      0.723      0.028      0.978      -1.397       1.437\n",
      "ESG채권           0.1807      0.411      0.439      0.660      -0.626       0.987\n",
      "환경이사            0.0014      0.004      0.361      0.718      -0.006       0.009\n",
      "여성임원비율         -0.0028      0.003     -0.820      0.412      -0.010       0.004\n",
      "-------------------------------------------------------------------------------\n",
      "ESG_GRADE=5      dy/dx    std err          z      P>|z|      [0.025      0.975]\n",
      "-------------------------------------------------------------------------------\n",
      "ESG_risk        0.0409      0.019      2.203      0.028       0.005       0.077\n",
      "지가경공시           0.0537      0.799      0.067      0.946      -1.511       1.619\n",
      "지가경발간           0.0843      0.128      0.659      0.510      -0.166       0.335\n",
      "ESG임원비율         0.0242      1.103      0.022      0.982      -2.138       2.186\n",
      "ESG채권           0.2044      0.636      0.321      0.748      -1.043       1.451\n",
      "환경이사            0.0037      0.004      0.849      0.396      -0.005       0.012\n",
      "여성임원비율         -0.0008      0.004     -0.200      0.841      -0.008       0.007\n",
      "-------------------------------------------------------------------------------\n",
      "ESG_GRADE=6      dy/dx    std err          z      P>|z|      [0.025      0.975]\n",
      "-------------------------------------------------------------------------------\n",
      "ESG_risk        0.0490      0.016      3.132      0.002       0.018       0.080\n",
      "지가경공시          -0.5884      2.715     -0.217      0.828      -5.909       4.732\n",
      "지가경발간           0.0539      0.157      0.343      0.732      -0.254       0.362\n",
      "ESG임원비율         0.0092      1.362      0.007      0.995      -2.660       2.678\n",
      "ESG채권           0.2370      0.734      0.323      0.747      -1.201       1.675\n",
      "환경이사            0.0080      0.004      2.047      0.041       0.000       0.016\n",
      "여성임원비율          0.0017      0.004      0.470      0.639      -0.005       0.009\n",
      "-------------------------------------------------------------------------------\n",
      "ESG_GRADE=7      dy/dx    std err          z      P>|z|      [0.025      0.975]\n",
      "-------------------------------------------------------------------------------\n",
      "ESG_risk        0.0056      0.019      0.296      0.767      -0.032       0.043\n",
      "지가경공시           0.0800      3.253      0.025      0.980      -6.295       6.455\n",
      "지가경발간           0.2058      0.545      0.378      0.706      -0.862       1.274\n",
      "ESG임원비율         0.0701      4.883      0.014      0.989      -9.501       9.641\n",
      "ESG채권           0.6302      2.250      0.280      0.779      -3.779       5.039\n",
      "환경이사            0.0173      0.008      2.183      0.029       0.002       0.033\n",
      "여성임원비율         -0.0044      0.006     -0.764      0.445      -0.016       0.007\n",
      "-------------------------------------------------------------------------------\n",
      "ESG_GRADE=8      dy/dx    std err          z      P>|z|      [0.025      0.975]\n",
      "-------------------------------------------------------------------------------\n",
      "ESG_risk       -0.1028      0.020     -5.257      0.000      -0.141      -0.064\n",
      "지가경공시           0.6428      6.940      0.093      0.926     -12.959      14.245\n",
      "지가경발간           0.0049      1.176      0.004      0.997      -2.300       2.310\n",
      "ESG임원비율         0.0698     10.610      0.007      0.995     -20.726      20.866\n",
      "ESG채권          -1.0976      5.837     -0.188      0.851     -12.539      10.343\n",
      "환경이사           -0.0261      0.014     -1.820      0.069      -0.054       0.002\n",
      "여성임원비율          0.0070      0.006      1.146      0.252      -0.005       0.019\n",
      "-------------------------------------------------------------------------------\n",
      "ESG_GRADE=9      dy/dx    std err          z      P>|z|      [0.025      0.975]\n",
      "-------------------------------------------------------------------------------\n",
      "ESG_risk       -0.0853      0.013     -6.349      0.000      -0.112      -0.059\n",
      "지가경공시          -0.2558     12.214     -0.021      0.983     -24.194      23.683\n",
      "지가경발간          -0.5214      2.059     -0.253      0.800      -4.557       3.514\n",
      "ESG임원비율        -0.2006     18.826     -0.011      0.991     -37.099      36.698\n",
      "ESG채권          -0.1812      3.493     -0.052      0.959      -7.026       6.664\n",
      "환경이사           -0.0054      0.011     -0.511      0.609      -0.026       0.015\n",
      "여성임원비율         -0.0036      0.005     -0.777      0.437      -0.013       0.005\n",
      "===============================================================================\n",
      "### print model summary ###\n",
      "                          MNLogit Regression Results                          \n",
      "==============================================================================\n",
      "Dep. Variable:              ESG_GRADE   No. Observations:                  661\n",
      "Model:                        MNLogit   Df Residuals:                      597\n",
      "Method:                           MLE   Df Model:                           56\n",
      "Date:                Sun, 16 Oct 2022   Pseudo R-squ.:                  0.2148\n",
      "Time:                        22:39:42   Log-Likelihood:                -984.88\n",
      "converged:                       True   LL-Null:                       -1254.4\n",
      "Covariance Type:            nonrobust   LLR p-value:                 4.002e-80\n",
      "===============================================================================\n",
      "ESG_GRADE=2       coef    std err          z      P>|z|      [0.025      0.975]\n",
      "-------------------------------------------------------------------------------\n",
      "ESG_risk        0.8731      1.103      0.792      0.429      -1.288       3.035\n",
      "지가경공시           0.7916      1.361      0.582      0.561      -1.876       3.459\n",
      "지가경발간          -1.8268      6.405     -0.285      0.775     -14.381      10.728\n",
      "ESG임원비율        -1.1260      0.803     -1.403      0.161      -2.699       0.447\n",
      "ESG채권          -3.2086      1.454     -2.206      0.027      -6.059      -0.358\n",
      "환경이사            0.0089      0.151      0.059      0.953      -0.287       0.305\n",
      "여성임원비율         -0.4290      0.353     -1.217      0.224      -1.120       0.262\n",
      "const           4.5482      6.483      0.702      0.483      -8.159      17.255\n",
      "-------------------------------------------------------------------------------\n",
      "ESG_GRADE=3       coef    std err          z      P>|z|      [0.025      0.975]\n",
      "-------------------------------------------------------------------------------\n",
      "ESG_risk       -1.5268      1.259     -1.212      0.225      -3.995       0.942\n",
      "지가경공시           1.5310      1.375      1.113      0.266      -1.165       4.227\n",
      "지가경발간          -1.4370      6.400     -0.225      0.822     -13.981      11.107\n",
      "ESG임원비율        -1.1405      0.807     -1.413      0.158      -2.723       0.442\n",
      "ESG채권          -1.9138      1.467     -1.304      0.192      -4.790       0.962\n",
      "환경이사            0.0283      0.146      0.195      0.846      -0.257       0.314\n",
      "여성임원비율         -0.4505      0.354     -1.271      0.204      -1.145       0.244\n",
      "const           7.4050      6.476      1.143      0.253      -5.288      20.097\n",
      "-------------------------------------------------------------------------------\n",
      "ESG_GRADE=4       coef    std err          z      P>|z|      [0.025      0.975]\n",
      "-------------------------------------------------------------------------------\n",
      "ESG_risk       -2.6624      1.281     -2.079      0.038      -5.172      -0.152\n",
      "지가경공시           0.5665      1.424      0.398      0.691      -2.224       3.357\n",
      "지가경발간          -1.8905      6.394     -0.296      0.767     -14.422      10.641\n",
      "ESG임원비율        -1.0907      0.809     -1.348      0.178      -2.676       0.495\n",
      "ESG채권          -1.2804      1.515     -0.845      0.398      -4.249       1.688\n",
      "환경이사            0.0045      0.153      0.029      0.976      -0.294       0.303\n",
      "여성임원비율         -0.5197      0.357     -1.455      0.146      -1.220       0.181\n",
      "const           9.0225      6.477      1.393      0.164      -3.672      21.717\n",
      "-------------------------------------------------------------------------------\n",
      "ESG_GRADE=5       coef    std err          z      P>|z|      [0.025      0.975]\n",
      "-------------------------------------------------------------------------------\n",
      "ESG_risk       -2.4306      1.281     -1.897      0.058      -4.942       0.081\n",
      "지가경공시           0.7894      1.455      0.543      0.587      -2.062       3.641\n",
      "지가경발간          -2.7660      6.397     -0.432      0.665     -15.303       9.771\n",
      "ESG임원비율        -1.1680      0.809     -1.443      0.149      -2.754       0.418\n",
      "ESG채권          -1.9909      1.556     -1.280      0.201      -5.040       1.059\n",
      "환경이사            0.0193      0.154      0.125      0.900      -0.282       0.321\n",
      "여성임원비율         -0.4920      0.357     -1.377      0.169      -1.192       0.208\n",
      "const           9.2754      6.477      1.432      0.152      -3.419      21.970\n",
      "-------------------------------------------------------------------------------\n",
      "ESG_GRADE=6       coef    std err          z      P>|z|      [0.025      0.975]\n",
      "-------------------------------------------------------------------------------\n",
      "ESG_risk       -2.6143      1.289     -2.028      0.043      -5.141      -0.087\n",
      "지가경공시          -7.3071     36.751     -0.199      0.842     -79.338      64.724\n",
      "지가경발간          -3.5368      6.417     -0.551      0.582     -16.113       9.040\n",
      "ESG임원비율        -1.4241      0.822     -1.733      0.083      -3.035       0.187\n",
      "ESG채권          -1.9885      1.701     -1.169      0.242      -5.322       1.345\n",
      "환경이사            0.0645      0.157      0.410      0.682      -0.244       0.373\n",
      "여성임원비율         -0.4662      0.359     -1.298      0.194      -1.170       0.238\n",
      "const           8.4480      6.518      1.296      0.195      -4.327      21.223\n",
      "-------------------------------------------------------------------------------\n",
      "ESG_GRADE=7       coef    std err          z      P>|z|      [0.025      0.975]\n",
      "-------------------------------------------------------------------------------\n",
      "ESG_risk       -3.3668      1.278     -2.635      0.008      -5.871      -0.863\n",
      "지가경공시           0.6916      1.625      0.426      0.670      -2.493       3.876\n",
      "지가경발간          -3.5754      6.408     -0.558      0.577     -16.136       8.985\n",
      "ESG임원비율        -1.2928      0.812     -1.592      0.111      -2.884       0.299\n",
      "ESG채권          -2.5157      1.679     -1.498      0.134      -5.807       0.776\n",
      "환경이사            0.0342      0.155      0.220      0.825      -0.270       0.338\n",
      "여성임원비율         -0.5097      0.357     -1.426      0.154      -1.210       0.191\n",
      "const           9.7871      6.483      1.510      0.131      -2.920      22.494\n",
      "-------------------------------------------------------------------------------\n",
      "ESG_GRADE=8       coef    std err          z      P>|z|      [0.025      0.975]\n",
      "-------------------------------------------------------------------------------\n",
      "ESG_risk       -3.9072      1.278     -3.058      0.002      -6.411      -1.403\n",
      "지가경공시           2.5022      1.864      1.342      0.180      -1.152       6.156\n",
      "지가경발간          -5.0551      6.471     -0.781      0.435     -17.739       7.628\n",
      "ESG임원비율        -1.5482      0.823     -1.880      0.060      -3.162       0.066\n",
      "ESG채권          -9.8708     29.747     -0.332      0.740     -68.173      48.431\n",
      "환경이사           -0.1517      0.169     -0.900      0.368      -0.482       0.179\n",
      "여성임원비율         -0.4665      0.357     -1.305      0.192      -1.167       0.234\n",
      "const           8.0635      6.531      1.235      0.217      -4.737      20.864\n",
      "-------------------------------------------------------------------------------\n",
      "ESG_GRADE=9       coef    std err          z      P>|z|      [0.025      0.975]\n",
      "-------------------------------------------------------------------------------\n",
      "ESG_risk       -4.3947      1.283     -3.424      0.001      -6.910      -1.879\n",
      "지가경공시          -1.4897    125.525     -0.012      0.991    -247.514     244.535\n",
      "지가경발간          -9.6377     22.099     -0.436      0.663     -52.951      33.676\n",
      "ESG임원비율        -3.4920    193.517     -0.018      0.986    -382.779     375.795\n",
      "ESG채권          -8.4040     31.794     -0.264      0.792     -70.720      53.912\n",
      "환경이사           -0.1258      0.186     -0.678      0.498      -0.490       0.238\n",
      "여성임원비율         -0.5179      0.360     -1.441      0.150      -1.223       0.187\n",
      "const          -3.3552   1006.173     -0.003      0.997   -1975.419    1968.708\n",
      "===============================================================================\n"
     ]
    }
   ],
   "source": [
    "print('### print marginal summary ###')\n",
    "print(mar.summary())\n",
    "\n",
    "# Pseudo R-squ. : 맥파든 의사결정계수 : 가장 성능이 좋을 때 1이고, 나쁠 때 0\n",
    "# Log-Likelihood : 모든 covariate을 넣었을 때의 likelihood 값\n",
    "# LL-Null : 아무 covariate도 없을 때의 likelihood 값\n",
    "# LLR p-value : 귀무가설 : Saturated model에서 추가적으로 존재하는 설명 변수의 회귀계수들은 모두 0이다.\n",
    "# -> p-value가 작으므로 기각 : 해당 모형의 설명변수들의 회귀계수들은 모두 0이 아니다.\n",
    "\n",
    "print(\"### print model summary ###\")\n",
    "print(result.summary())"
   ]
  },
  {
   "cell_type": "markdown",
   "id": "82666fc0",
   "metadata": {},
   "source": [
    "- 선택한 모형의 결과 값이다. 결과에 대한 해석은 다음과 같으며 그 이유에 대해서는 G_FinalModeling에 자세하게 있으므로 생략한다. \n",
    "  \n",
    "- marginal summary의 경우는 다음과 같이 해석한다. 결과적으로 회귀계수가 + 값을 가지면 그 설명변수가 커질수록 해당 카테고리가 될 확률 이 커지는 방향으로 움직인다. 회귀계수가 - 값을 가지면 그 설명변수가 작아질수록 해당 카테고리가 될 확률이 커지는 방향으로 움직인다.\n",
    "\n",
    "  \n",
    "- 전체 model summary의 경우는 다음과 같이 해석한다. 결과적으로 회귀계수가 + 값을 가지면 그 설명변수가 커질수록 G1에 비해 다른 카테고리가 될 확률이 커진다는 의미이고, 회귀계수가 - 값을 가지면 그 설명변수가 커질수록 G1에 비해 다른 카테고리가 될 확률이 작아지게 된다는 의미이다.    \n",
    "  \n",
    "- LLR p-value도 유의하게 나온 것으로 보아 모델은 어느 정도 성능을 보장하지만 R-squ 값이 작아 설명력이 떨어지고 상관계수가 큰 변수들이 존재했기 때문에 변수 선택을 진행한다."
   ]
  },
  {
   "cell_type": "markdown",
   "id": "e973ff7c",
   "metadata": {},
   "source": [
    "#### Result에 따른 variable selection\n",
    "- AIC는 작을수록 좋기 때문에 전체 변수에서 제거했을 때 AIC가 가장 작아지는 변수를 제거하는 후진제거법으로 변수선택을 진행하였다."
   ]
  },
  {
   "cell_type": "code",
   "execution_count": 23,
   "id": "bcb657e0",
   "metadata": {
    "scrolled": true
   },
   "outputs": [
    {
     "data": {
      "text/html": [
       "<div>\n",
       "<style scoped>\n",
       "    .dataframe tbody tr th:only-of-type {\n",
       "        vertical-align: middle;\n",
       "    }\n",
       "\n",
       "    .dataframe tbody tr th {\n",
       "        vertical-align: top;\n",
       "    }\n",
       "\n",
       "    .dataframe thead th {\n",
       "        text-align: right;\n",
       "    }\n",
       "</style>\n",
       "<table border=\"1\" class=\"dataframe\">\n",
       "  <thead>\n",
       "    <tr style=\"text-align: right;\">\n",
       "      <th></th>\n",
       "      <th>dropped</th>\n",
       "      <th>AIC</th>\n",
       "      <th>정확도</th>\n",
       "      <th>근접정확도</th>\n",
       "      <th>과소추정오류비</th>\n",
       "      <th>3단계과추정률</th>\n",
       "    </tr>\n",
       "  </thead>\n",
       "  <tbody>\n",
       "    <tr>\n",
       "      <th>0</th>\n",
       "      <td>Full</td>\n",
       "      <td>2097.767211</td>\n",
       "      <td>0.399395</td>\n",
       "      <td>0.782148</td>\n",
       "      <td>0.629723</td>\n",
       "      <td>0.206549</td>\n",
       "    </tr>\n",
       "    <tr>\n",
       "      <th>1</th>\n",
       "      <td>여성임원비율</td>\n",
       "      <td>2087.516661</td>\n",
       "      <td>0.399395</td>\n",
       "      <td>0.773071</td>\n",
       "      <td>0.639798</td>\n",
       "      <td>0.201511</td>\n",
       "    </tr>\n",
       "    <tr>\n",
       "      <th>2</th>\n",
       "      <td>지가경공시</td>\n",
       "      <td>2080.820542</td>\n",
       "      <td>0.391831</td>\n",
       "      <td>0.774584</td>\n",
       "      <td>0.639303</td>\n",
       "      <td>0.203980</td>\n",
       "    </tr>\n",
       "    <tr>\n",
       "      <th>3</th>\n",
       "      <td>환경이사</td>\n",
       "      <td>2075.228546</td>\n",
       "      <td>0.382753</td>\n",
       "      <td>0.782148</td>\n",
       "      <td>0.639706</td>\n",
       "      <td>0.198529</td>\n",
       "    </tr>\n",
       "    <tr>\n",
       "      <th>4</th>\n",
       "      <td>ESG채권</td>\n",
       "      <td>2075.109219</td>\n",
       "      <td>0.385779</td>\n",
       "      <td>0.786687</td>\n",
       "      <td>0.637931</td>\n",
       "      <td>0.194581</td>\n",
       "    </tr>\n",
       "    <tr>\n",
       "      <th>5</th>\n",
       "      <td>no</td>\n",
       "      <td>2075.109219</td>\n",
       "      <td>0.385779</td>\n",
       "      <td>0.786687</td>\n",
       "      <td>0.637931</td>\n",
       "      <td>0.194581</td>\n",
       "    </tr>\n",
       "  </tbody>\n",
       "</table>\n",
       "</div>"
      ],
      "text/plain": [
       "  dropped          AIC       정확도     근접정확도   과소추정오류비   3단계과추정률\n",
       "0    Full  2097.767211  0.399395  0.782148  0.629723  0.206549\n",
       "1  여성임원비율  2087.516661  0.399395  0.773071  0.639798  0.201511\n",
       "2   지가경공시  2080.820542  0.391831  0.774584  0.639303  0.203980\n",
       "3    환경이사  2075.228546  0.382753  0.782148  0.639706  0.198529\n",
       "4   ESG채권  2075.109219  0.385779  0.786687  0.637931  0.194581\n",
       "5      no  2075.109219  0.385779  0.786687  0.637931  0.194581"
      ]
     },
     "execution_count": 23,
     "metadata": {},
     "output_type": "execute_result"
    }
   ],
   "source": [
    "# 초기값 입력\n",
    "# x : 모델링 시 r_train의 covariate 값에 constant 부분을 더해준 train set\n",
    "data = copy.deepcopy(x)\n",
    "predictor=x.columns.difference(['const']) #x의 변수명\n",
    "\n",
    "can_model = [] #후보가 될 model들이 들어갈 어레이 할당\n",
    "candidate = [] #후보가 될 result들이 들어갈 어레이 할당\n",
    "can_var = [] #제거되는 변수명이 들어갈 어레이 할당\n",
    "\n",
    "model = sm.MNLogit(y_train, data)\n",
    "regr = model.fit(method='lbfgs', maxiter=100000) #full model에 대해 모델 적합\n",
    "can_model.append(model)\n",
    "candidate.append(regr)\n",
    "can_var.append('Full')\n",
    "\n",
    "# 변수 선택 시작\n",
    "for i in range(len(x.columns)-1) :\n",
    "# for문 시작\n",
    "    r_model=[]\n",
    "    result=[]\n",
    "    dropped=[]\n",
    "    AIC = []\n",
    "    \n",
    "    #아무것도 제거하지 않은 full data에 대해 적합\n",
    "    model = sm.MNLogit(y_train, data)\n",
    "    regr = model.fit(method='lbfgs', maxiter=100000)\n",
    "    r_model.append(model)\n",
    "    result.append(regr)\n",
    "    dropped.append('no')\n",
    "    AIC.append(regr.aic)\n",
    "    \n",
    "    # 변수를 하나씩 제거하면서 data 적합하여 모델을 result에 저장\n",
    "    # 제거한 변수는 dropped에 저장\n",
    "    # 변수를 제거했을 때 나온 AIC는 AIC에 저장\n",
    "    for var in predictor :\n",
    "        model = sm.MNLogit(y_train, data.drop(var, inplace=False, axis=1))\n",
    "        regr = model.fit(method='lbfgs', maxiter=1000000)\n",
    "        r_model.append(model)\n",
    "        result.append(regr)\n",
    "        dropped.append(var)\n",
    "        AIC.append(regr.aic)\n",
    "\n",
    "    # AIC가 가장 작은 best 모형을 찾기 위해 데이터프레임을 만들고 AIC 기준으로 sorting\n",
    "    best = pd.DataFrame({'model':r_model,'model_result':result, 'AIC':AIC, 'dropped':dropped})\n",
    "    best = best.sort_values(by='AIC', ascending=True, ignore_index=True)\n",
    "    best.head(3) \n",
    "    can_model.append(best.loc[0,'model']) #가장 좋은 모델을 can_model에 저장\n",
    "    candidate.append(best.loc[0,'model_result']) #가장 좋은 모델은 candidate에 저장\n",
    "    can_var.append(best.loc[0,'dropped']) #가장 좋은 모델을 만들기 위해 버린 변수명을 can_var에 저장\n",
    "    if best.loc[0,'dropped']=='no' :  # 만약 가장 좋은 모델로 Full model이 뽑힌다면 for문을 종료\n",
    "        break\n",
    "    data.drop(columns=best.loc[0,'dropped'], inplace=True)\n",
    "    predictor=data.columns.difference(['const'])\n",
    "\n",
    "# 비어있는 array할당해서 해당 모델의 AIC 값 저장  \n",
    "AIC=[]\n",
    "for i in range(len(candidate)) :\n",
    "    AIC.append(candidate[i].aic)\n",
    "\n",
    "# 비어있는 array 할당  \n",
    "acc_vec=[]\n",
    "nearest_acc_vec=[]\n",
    "under_est_vec=[]\n",
    "over3_est_vec=[]\n",
    "\n",
    "data = copy.deepcopy(x)\n",
    "real = r_train['ESG_GRADE']\n",
    "for i in range(len(candidate)) :\n",
    "    d_var = can_var[i]\n",
    "    model = can_model[i]\n",
    "    result = candidate[i]\n",
    "    if d_var=='Full' :\n",
    "        x=sm.add_constant(x_train, prepend=False)\n",
    "        pred=model.predict(result.params,x)\n",
    "        pred = pred.argmax(1) + 1\n",
    "        pred = pd.Series(pred)\n",
    "        m = make_confusionmatrix(real, pred)\n",
    "        acc_vec.append(acc(m))\n",
    "        nearest_acc_vec.append(nearest_acc(m))\n",
    "        under_est_vec.append(under_est(m))\n",
    "        over3_est_vec.append(over3_est(m))\n",
    "    elif d_var=='no':\n",
    "        pred=model.predict(result.params,data)\n",
    "        pred = pred.argmax(1) + 1\n",
    "        pred = pd.Series(pred)\n",
    "        m = make_confusionmatrix(real, pred)\n",
    "        acc_vec.append(acc(m))\n",
    "        nearest_acc_vec.append(nearest_acc(m))\n",
    "        under_est_vec.append(under_est(m))\n",
    "        over3_est_vec.append(over3_est(m))\n",
    "    else :\n",
    "        data.drop(columns=d_var, inplace=True)\n",
    "        pred=model.predict(result.params,data)\n",
    "        pred = pred.argmax(1) + 1\n",
    "        pred = pd.Series(pred)\n",
    "        m = make_confusionmatrix(real, pred)\n",
    "        acc_vec.append(acc(m))\n",
    "        nearest_acc_vec.append(nearest_acc(m))\n",
    "        under_est_vec.append(under_est(m))\n",
    "        over3_est_vec.append(over3_est(m))\n",
    "    \n",
    "candidate_model = pd.DataFrame({'candidate_model':can_model,'result':candidate,'dropped':can_var, 'AIC':AIC, '정확도':acc_vec, \n",
    "                                '근접정확도':nearest_acc_vec, '과소추정오류비':under_est_vec, '3단계과추정률':over3_est_vec})\n",
    "# 후진 제거법으로 선택한 모형\n",
    "candidate_model.drop(columns=['candidate_model','result'], inplace=False)"
   ]
  },
  {
   "cell_type": "markdown",
   "id": "8dee8ae2",
   "metadata": {},
   "source": [
    "- 후진 제거법으로 선택된 모형들에 대한 정보는 위와 같다. AIC과 다른 4가지 지표를 봤을 때, 어떠한 변수도 삭제하지 않는 것이 좋아 보인다."
   ]
  },
  {
   "cell_type": "code",
   "execution_count": 24,
   "id": "5386742f",
   "metadata": {
    "scrolled": true
   },
   "outputs": [
    {
     "name": "stdout",
     "output_type": "stream",
     "text": [
      "###  0 th selected model ###\n",
      "AIC:  2097.7672112568807 dropped value:  Full\n",
      "0              ESG_risk       지가경공시       지가경발간     ESG임원비율       ESG채권  \\\n",
      "ESG_GRADE=2      0.8731      0.7916     -1.8268     -1.1260     -3.2086   \n",
      "ESG_GRADE=3     -1.5268      1.5310     -1.4370     -1.1405     -1.9138   \n",
      "ESG_GRADE=4     -2.6624      0.5665     -1.8905     -1.0907     -1.2804   \n",
      "ESG_GRADE=5     -2.4306      0.7894     -2.7660     -1.1680     -1.9909   \n",
      "ESG_GRADE=6     -2.6143     -7.3071     -3.5368     -1.4241     -1.9885   \n",
      "ESG_GRADE=7     -3.3668      0.6916     -3.5754     -1.2928     -2.5157   \n",
      "ESG_GRADE=8     -3.9072      2.5022     -5.0551     -1.5482     -9.8708   \n",
      "ESG_GRADE=9     -4.3947     -1.4897     -9.6377     -3.4920     -8.4040   \n",
      "\n",
      "0                  환경이사      여성임원비율       const  \n",
      "ESG_GRADE=2      0.0089     -0.4290      4.5482  \n",
      "ESG_GRADE=3      0.0283     -0.4505      7.4050  \n",
      "ESG_GRADE=4      0.0045     -0.5197      9.0225  \n",
      "ESG_GRADE=5      0.0193     -0.4920      9.2754  \n",
      "ESG_GRADE=6      0.0645     -0.4662      8.4480  \n",
      "ESG_GRADE=7      0.0342     -0.5097      9.7871  \n",
      "ESG_GRADE=8     -0.1517     -0.4665      8.0635  \n",
      "ESG_GRADE=9     -0.1258     -0.5179     -3.3552  \n",
      "###  1 th selected model ###\n",
      "AIC:  2087.5166611943355 dropped value:  여성임원비율\n",
      "0              ESG_risk       지가경공시       지가경발간     ESG임원비율       ESG채권  \\\n",
      "ESG_GRADE=2      0.7855      1.1757     -4.4353     -0.7287     -3.1393   \n",
      "ESG_GRADE=3     -1.5732      1.9368     -4.1022     -0.7445     -1.8546   \n",
      "ESG_GRADE=4     -2.7446      1.0358     -4.6686     -0.7036     -1.2603   \n",
      "ESG_GRADE=5     -2.5080      1.2408     -5.4930     -0.7774     -1.9737   \n",
      "ESG_GRADE=6     -2.6888     -7.5382     -6.2307     -1.0294     -1.9706   \n",
      "ESG_GRADE=7     -3.4410      1.1546     -6.3315     -0.9053     -2.5023   \n",
      "ESG_GRADE=8     -3.9879      2.9075     -7.7251     -1.1547    -10.3618   \n",
      "ESG_GRADE=9     -4.4662     -1.5948    -14.5036     -3.4382     -8.8663   \n",
      "\n",
      "0                  환경이사       const  \n",
      "ESG_GRADE=2     -0.0227      6.1382  \n",
      "ESG_GRADE=3     -0.0052      8.9926  \n",
      "ESG_GRADE=4     -0.0353     10.8144  \n",
      "ESG_GRADE=5     -0.0177     10.9872  \n",
      "ESG_GRADE=6      0.0276     10.0859  \n",
      "ESG_GRADE=7     -0.0035     11.5501  \n",
      "ESG_GRADE=8     -0.1838      9.7210  \n",
      "ESG_GRADE=9     -0.1686     -3.3193  \n",
      "###  2 th selected model ###\n",
      "AIC:  2080.8205419136684 dropped value:  지가경공시\n",
      "0              ESG_risk       지가경발간     ESG임원비율       ESG채권        환경이사  \\\n",
      "ESG_GRADE=2      1.0591     -2.8675     -0.6638     -2.8962     -0.0379   \n",
      "ESG_GRADE=3     -1.0840     -2.2134     -0.6934     -1.4418     -0.0207   \n",
      "ESG_GRADE=4     -2.4295     -3.1609     -0.6380     -1.0969     -0.0502   \n",
      "ESG_GRADE=5     -2.1776     -3.9135     -0.7134     -1.7760     -0.0329   \n",
      "ESG_GRADE=6     -2.3673     -5.2258     -0.9640     -1.9425      0.0091   \n",
      "ESG_GRADE=7     -3.1056     -4.7763     -0.8417     -2.3411     -0.0201   \n",
      "ESG_GRADE=8     -3.6441     -5.3634     -1.0902     -9.5101     -0.2005   \n",
      "ESG_GRADE=9     -4.1261    -10.4682     -2.9794     -8.1500     -0.1853   \n",
      "\n",
      "0                 const  \n",
      "ESG_GRADE=2      4.4578  \n",
      "ESG_GRADE=3      7.0804  \n",
      "ESG_GRADE=4      9.0959  \n",
      "ESG_GRADE=5      9.2546  \n",
      "ESG_GRADE=6      8.3537  \n",
      "ESG_GRADE=7      9.8086  \n",
      "ESG_GRADE=8      7.9865  \n",
      "ESG_GRADE=9     -3.0051  \n",
      "###  3 th selected model ###\n",
      "AIC:  2075.228546486994 dropped value:  환경이사\n",
      "0              ESG_risk       지가경발간     ESG임원비율       ESG채권       const\n",
      "ESG_GRADE=2      1.1077     -6.1357     -0.6609     -3.0053      7.8411\n",
      "ESG_GRADE=3     -1.0273     -5.4708     -0.6923     -1.5440     10.3654\n",
      "ESG_GRADE=4     -2.3852     -6.4263     -0.6352     -1.2474     12.5359\n",
      "ESG_GRADE=5     -2.1276     -7.1737     -0.7115     -1.9074     12.6067\n",
      "ESG_GRADE=6     -2.2960     -8.4916     -0.9662     -2.0935     11.4966\n",
      "ESG_GRADE=7     -3.0631     -8.0287     -0.8399     -2.4709     13.1014\n",
      "ESG_GRADE=8     -3.6159     -8.5925     -1.0821    -11.4692     12.1952\n",
      "ESG_GRADE=9     -4.0932    -14.4787     -3.6710     -9.8222     -2.5093\n",
      "###  4 th selected model ###\n",
      "AIC:  2075.1092194419757 dropped value:  ESG채권\n",
      "0              ESG_risk       지가경발간     ESG임원비율       const\n",
      "ESG_GRADE=2      0.1670     -7.3725     -0.6898      9.4372\n",
      "ESG_GRADE=3     -1.4178     -6.9228     -0.7219     11.6384\n",
      "ESG_GRADE=4     -2.7928     -7.8502     -0.6579     13.8822\n",
      "ESG_GRADE=5     -2.6231     -8.5712     -0.7411     13.8997\n",
      "ESG_GRADE=6     -2.8038     -9.8840     -0.9967     12.7796\n",
      "ESG_GRADE=7     -3.5901     -9.4092     -0.8696     14.3807\n",
      "ESG_GRADE=8     -4.1585     -9.9618     -1.1112     13.4615\n",
      "ESG_GRADE=9     -4.6331    -14.3055     -4.0605     -3.1148\n",
      "###  5 th selected model ###\n",
      "AIC:  2075.1092194419757 dropped value:  no\n",
      "0              ESG_risk       지가경발간     ESG임원비율       const\n",
      "ESG_GRADE=2      0.1670     -7.3725     -0.6898      9.4372\n",
      "ESG_GRADE=3     -1.4178     -6.9228     -0.7219     11.6384\n",
      "ESG_GRADE=4     -2.7928     -7.8502     -0.6579     13.8822\n",
      "ESG_GRADE=5     -2.6231     -8.5712     -0.7411     13.8997\n",
      "ESG_GRADE=6     -2.8038     -9.8840     -0.9967     12.7796\n",
      "ESG_GRADE=7     -3.5901     -9.4092     -0.8696     14.3807\n",
      "ESG_GRADE=8     -4.1585     -9.9618     -1.1112     13.4615\n",
      "ESG_GRADE=9     -4.6331    -14.3055     -4.0605     -3.1148\n"
     ]
    }
   ],
   "source": [
    "## 선택한 모형들의 AIC, dropped variable, summary 출력\n",
    "for i in range(candidate_model.shape[0]) :\n",
    "    print('### ', i, 'th selected model ###')\n",
    "    print(\"AIC: \", candidate_model.loc[i,'AIC'], \"dropped value: \", candidate_model.loc[i,'dropped'])\n",
    "    print(check_beta(candidate_model.loc[i,'result']))\n",
    "    "
   ]
  },
  {
   "cell_type": "markdown",
   "id": "0e5460b7",
   "metadata": {},
   "source": [
    "- 위 후진제거법으로 선택한 모형들의 AIC, 각 단계마다 제거된 변수, summary를 통해 얻은 회귀계수 값을 출력한다. ESG data의 경우에 계산된 AIC가 가장 작은 모형보다는 다른 4가지 지표도 고려하여 어떠한 변수도 제거하지 않기로 했다."
   ]
  },
  {
   "cell_type": "markdown",
   "id": "3d9e600f",
   "metadata": {},
   "source": [
    "#### variable selection에 따른 Final fitting"
   ]
  },
  {
   "cell_type": "code",
   "execution_count": 27,
   "id": "0bd44fb7",
   "metadata": {},
   "outputs": [
    {
     "name": "stdout",
     "output_type": "stream",
     "text": [
      "[Logistic Regression Train Set Evaluation]\n",
      "정확도 :  39.94 %\n",
      "근접정확도 :  78.21 %\n",
      "과소적합/오류 비 :  62.97 %\n",
      "3등급이상과적합/오류 비 :  20.65 %\n"
     ]
    }
   ],
   "source": [
    "y_train = r_train['ESG_GRADE']\n",
    "x_train = r_train.drop(columns=['종목코드','SICS_Sector_Kr','ESG_GRADE','Stratify'], \n",
    "                     inplace=False)\n",
    "\n",
    "x = sm.add_constant(x_train, prepend=False)\n",
    "model = sm.MNLogit(y_train, x)#모형 할당\n",
    "result = model.fit(method='lbfgs', maxiter=100000, full_output=True)#모형 적합\n",
    "mar=result.get_margeff()\n",
    "y_pred = model.predict(result.params, x)#모형 예측\n",
    "y_pred = y_pred.argmax(1) + 1 #이때, 모형이 예측한 값은 확률값이기 때문에 이를 이용하여 classification 진행\n",
    "y_pred = pd.Series(y_pred)\n",
    "## 모형 fitting 결과\n",
    "print(\"[Logistic Regression Train Set Evaluation]\")\n",
    "eval_stat(make_confusionmatrix(y_train, y_pred))"
   ]
  },
  {
   "cell_type": "code",
   "execution_count": 26,
   "id": "aa271dbe",
   "metadata": {},
   "outputs": [
    {
     "name": "stdout",
     "output_type": "stream",
     "text": [
      "### print marginal summary ###\n",
      "       MNLogit Marginal Effects      \n",
      "=====================================\n",
      "Dep. Variable:              ESG_GRADE\n",
      "Method:                          dydx\n",
      "At:                           overall\n",
      "===============================================================================\n",
      "ESG_GRADE=1      dy/dx    std err          z      P>|z|      [0.025      0.975]\n",
      "-------------------------------------------------------------------------------\n",
      "ESG_risk        0.0034      0.005      0.697      0.486      -0.006       0.013\n",
      "지가경공시          -0.0050      0.007     -0.764      0.445      -0.018       0.008\n",
      "지가경발간           0.0093      0.033      0.281      0.779      -0.055       0.074\n",
      "ESG임원비율         0.0059      0.004      1.612      0.107      -0.001       0.013\n",
      "ESG채권           0.0126      0.006      2.212      0.027       0.001       0.024\n",
      "환경이사        -8.051e-05      0.001     -0.111      0.912      -0.002       0.001\n",
      "여성임원비율          0.0023      0.002      1.369      0.171      -0.001       0.006\n",
      "-------------------------------------------------------------------------------\n",
      "ESG_GRADE=2      dy/dx    std err          z      P>|z|      [0.025      0.975]\n",
      "-------------------------------------------------------------------------------\n",
      "ESG_risk        0.0768      0.019      4.142      0.000       0.040       0.113\n",
      "지가경공시           0.0031      0.049      0.064      0.949      -0.093       0.099\n",
      "지가경발간           0.0050      0.025      0.198      0.843      -0.045       0.055\n",
      "ESG임원비율        -0.0012      0.022     -0.054      0.957      -0.043       0.041\n",
      "ESG채권          -0.0315      0.036     -0.882      0.378      -0.102       0.038\n",
      "환경이사           -0.0002      0.002     -0.070      0.944      -0.004       0.004\n",
      "여성임원비율          0.0001      0.002      0.065      0.948      -0.004       0.004\n",
      "-------------------------------------------------------------------------------\n",
      "ESG_GRADE=3      dy/dx    std err          z      P>|z|      [0.025      0.975]\n",
      "-------------------------------------------------------------------------------\n",
      "ESG_risk        0.0108      0.019      0.562      0.574      -0.027       0.049\n",
      "지가경공시           0.0506      0.127      0.398      0.691      -0.199       0.300\n",
      "지가경발간           0.0523      0.030      1.725      0.084      -0.007       0.112\n",
      "ESG임원비율         0.0024      0.123      0.019      0.985      -0.239       0.244\n",
      "ESG채권           0.0454      0.122      0.372      0.710      -0.194       0.285\n",
      "환경이사            0.0012      0.003      0.476      0.634      -0.004       0.006\n",
      "여성임원비율          0.0004      0.003      0.140      0.889      -0.005       0.006\n",
      "-------------------------------------------------------------------------------\n",
      "ESG_GRADE=4      dy/dx    std err          z      P>|z|      [0.025      0.975]\n",
      "-------------------------------------------------------------------------------\n",
      "ESG_risk        0.0014      0.016      0.084      0.933      -0.031       0.033\n",
      "지가경공시           0.0190      0.524      0.036      0.971      -1.008       1.046\n",
      "지가경발간           0.1059      0.086      1.235      0.217      -0.062       0.274\n",
      "ESG임원비율         0.0203      0.723      0.028      0.978      -1.397       1.437\n",
      "ESG채권           0.1807      0.411      0.439      0.660      -0.626       0.987\n",
      "환경이사            0.0014      0.004      0.361      0.718      -0.006       0.009\n",
      "여성임원비율         -0.0028      0.003     -0.820      0.412      -0.010       0.004\n",
      "-------------------------------------------------------------------------------\n",
      "ESG_GRADE=5      dy/dx    std err          z      P>|z|      [0.025      0.975]\n",
      "-------------------------------------------------------------------------------\n",
      "ESG_risk        0.0409      0.019      2.203      0.028       0.005       0.077\n",
      "지가경공시           0.0537      0.799      0.067      0.946      -1.511       1.619\n",
      "지가경발간           0.0843      0.128      0.659      0.510      -0.166       0.335\n",
      "ESG임원비율         0.0242      1.103      0.022      0.982      -2.138       2.186\n",
      "ESG채권           0.2044      0.636      0.321      0.748      -1.043       1.451\n",
      "환경이사            0.0037      0.004      0.849      0.396      -0.005       0.012\n",
      "여성임원비율         -0.0008      0.004     -0.200      0.841      -0.008       0.007\n",
      "-------------------------------------------------------------------------------\n",
      "ESG_GRADE=6      dy/dx    std err          z      P>|z|      [0.025      0.975]\n",
      "-------------------------------------------------------------------------------\n",
      "ESG_risk        0.0490      0.016      3.132      0.002       0.018       0.080\n",
      "지가경공시          -0.5884      2.715     -0.217      0.828      -5.909       4.732\n",
      "지가경발간           0.0539      0.157      0.343      0.732      -0.254       0.362\n",
      "ESG임원비율         0.0092      1.362      0.007      0.995      -2.660       2.678\n",
      "ESG채권           0.2370      0.734      0.323      0.747      -1.201       1.675\n",
      "환경이사            0.0080      0.004      2.047      0.041       0.000       0.016\n",
      "여성임원비율          0.0017      0.004      0.470      0.639      -0.005       0.009\n",
      "-------------------------------------------------------------------------------\n",
      "ESG_GRADE=7      dy/dx    std err          z      P>|z|      [0.025      0.975]\n",
      "-------------------------------------------------------------------------------\n",
      "ESG_risk        0.0056      0.019      0.296      0.767      -0.032       0.043\n",
      "지가경공시           0.0800      3.253      0.025      0.980      -6.295       6.455\n",
      "지가경발간           0.2058      0.545      0.378      0.706      -0.862       1.274\n",
      "ESG임원비율         0.0701      4.883      0.014      0.989      -9.501       9.641\n",
      "ESG채권           0.6302      2.250      0.280      0.779      -3.779       5.039\n",
      "환경이사            0.0173      0.008      2.183      0.029       0.002       0.033\n",
      "여성임원비율         -0.0044      0.006     -0.764      0.445      -0.016       0.007\n",
      "-------------------------------------------------------------------------------\n",
      "ESG_GRADE=8      dy/dx    std err          z      P>|z|      [0.025      0.975]\n",
      "-------------------------------------------------------------------------------\n",
      "ESG_risk       -0.1028      0.020     -5.257      0.000      -0.141      -0.064\n",
      "지가경공시           0.6428      6.940      0.093      0.926     -12.959      14.245\n",
      "지가경발간           0.0049      1.176      0.004      0.997      -2.300       2.310\n",
      "ESG임원비율         0.0698     10.610      0.007      0.995     -20.726      20.866\n",
      "ESG채권          -1.0976      5.837     -0.188      0.851     -12.539      10.343\n",
      "환경이사           -0.0261      0.014     -1.820      0.069      -0.054       0.002\n",
      "여성임원비율          0.0070      0.006      1.146      0.252      -0.005       0.019\n",
      "-------------------------------------------------------------------------------\n",
      "ESG_GRADE=9      dy/dx    std err          z      P>|z|      [0.025      0.975]\n",
      "-------------------------------------------------------------------------------\n",
      "ESG_risk       -0.0853      0.013     -6.349      0.000      -0.112      -0.059\n",
      "지가경공시          -0.2558     12.214     -0.021      0.983     -24.194      23.683\n",
      "지가경발간          -0.5214      2.059     -0.253      0.800      -4.557       3.514\n",
      "ESG임원비율        -0.2006     18.826     -0.011      0.991     -37.099      36.698\n",
      "ESG채권          -0.1812      3.493     -0.052      0.959      -7.026       6.664\n",
      "환경이사           -0.0054      0.011     -0.511      0.609      -0.026       0.015\n",
      "여성임원비율         -0.0036      0.005     -0.777      0.437      -0.013       0.005\n",
      "===============================================================================\n",
      "### print model summary ###\n",
      "                          MNLogit Regression Results                          \n",
      "==============================================================================\n",
      "Dep. Variable:              ESG_GRADE   No. Observations:                  661\n",
      "Model:                        MNLogit   Df Residuals:                      597\n",
      "Method:                           MLE   Df Model:                           56\n",
      "Date:                Sun, 16 Oct 2022   Pseudo R-squ.:                  0.2148\n",
      "Time:                        22:40:01   Log-Likelihood:                -984.88\n",
      "converged:                       True   LL-Null:                       -1254.4\n",
      "Covariance Type:            nonrobust   LLR p-value:                 4.002e-80\n",
      "===============================================================================\n",
      "ESG_GRADE=2       coef    std err          z      P>|z|      [0.025      0.975]\n",
      "-------------------------------------------------------------------------------\n",
      "ESG_risk        0.8731      1.103      0.792      0.429      -1.288       3.035\n",
      "지가경공시           0.7916      1.361      0.582      0.561      -1.876       3.459\n",
      "지가경발간          -1.8268      6.405     -0.285      0.775     -14.381      10.728\n",
      "ESG임원비율        -1.1260      0.803     -1.403      0.161      -2.699       0.447\n",
      "ESG채권          -3.2086      1.454     -2.206      0.027      -6.059      -0.358\n",
      "환경이사            0.0089      0.151      0.059      0.953      -0.287       0.305\n",
      "여성임원비율         -0.4290      0.353     -1.217      0.224      -1.120       0.262\n",
      "const           4.5482      6.483      0.702      0.483      -8.159      17.255\n",
      "-------------------------------------------------------------------------------\n",
      "ESG_GRADE=3       coef    std err          z      P>|z|      [0.025      0.975]\n",
      "-------------------------------------------------------------------------------\n",
      "ESG_risk       -1.5268      1.259     -1.212      0.225      -3.995       0.942\n",
      "지가경공시           1.5310      1.375      1.113      0.266      -1.165       4.227\n",
      "지가경발간          -1.4370      6.400     -0.225      0.822     -13.981      11.107\n",
      "ESG임원비율        -1.1405      0.807     -1.413      0.158      -2.723       0.442\n",
      "ESG채권          -1.9138      1.467     -1.304      0.192      -4.790       0.962\n",
      "환경이사            0.0283      0.146      0.195      0.846      -0.257       0.314\n",
      "여성임원비율         -0.4505      0.354     -1.271      0.204      -1.145       0.244\n",
      "const           7.4050      6.476      1.143      0.253      -5.288      20.097\n",
      "-------------------------------------------------------------------------------\n",
      "ESG_GRADE=4       coef    std err          z      P>|z|      [0.025      0.975]\n",
      "-------------------------------------------------------------------------------\n",
      "ESG_risk       -2.6624      1.281     -2.079      0.038      -5.172      -0.152\n",
      "지가경공시           0.5665      1.424      0.398      0.691      -2.224       3.357\n",
      "지가경발간          -1.8905      6.394     -0.296      0.767     -14.422      10.641\n",
      "ESG임원비율        -1.0907      0.809     -1.348      0.178      -2.676       0.495\n",
      "ESG채권          -1.2804      1.515     -0.845      0.398      -4.249       1.688\n",
      "환경이사            0.0045      0.153      0.029      0.976      -0.294       0.303\n",
      "여성임원비율         -0.5197      0.357     -1.455      0.146      -1.220       0.181\n",
      "const           9.0225      6.477      1.393      0.164      -3.672      21.717\n",
      "-------------------------------------------------------------------------------\n",
      "ESG_GRADE=5       coef    std err          z      P>|z|      [0.025      0.975]\n",
      "-------------------------------------------------------------------------------\n",
      "ESG_risk       -2.4306      1.281     -1.897      0.058      -4.942       0.081\n",
      "지가경공시           0.7894      1.455      0.543      0.587      -2.062       3.641\n",
      "지가경발간          -2.7660      6.397     -0.432      0.665     -15.303       9.771\n",
      "ESG임원비율        -1.1680      0.809     -1.443      0.149      -2.754       0.418\n",
      "ESG채권          -1.9909      1.556     -1.280      0.201      -5.040       1.059\n",
      "환경이사            0.0193      0.154      0.125      0.900      -0.282       0.321\n",
      "여성임원비율         -0.4920      0.357     -1.377      0.169      -1.192       0.208\n",
      "const           9.2754      6.477      1.432      0.152      -3.419      21.970\n",
      "-------------------------------------------------------------------------------\n",
      "ESG_GRADE=6       coef    std err          z      P>|z|      [0.025      0.975]\n",
      "-------------------------------------------------------------------------------\n",
      "ESG_risk       -2.6143      1.289     -2.028      0.043      -5.141      -0.087\n",
      "지가경공시          -7.3071     36.751     -0.199      0.842     -79.338      64.724\n",
      "지가경발간          -3.5368      6.417     -0.551      0.582     -16.113       9.040\n",
      "ESG임원비율        -1.4241      0.822     -1.733      0.083      -3.035       0.187\n",
      "ESG채권          -1.9885      1.701     -1.169      0.242      -5.322       1.345\n",
      "환경이사            0.0645      0.157      0.410      0.682      -0.244       0.373\n",
      "여성임원비율         -0.4662      0.359     -1.298      0.194      -1.170       0.238\n",
      "const           8.4480      6.518      1.296      0.195      -4.327      21.223\n",
      "-------------------------------------------------------------------------------\n",
      "ESG_GRADE=7       coef    std err          z      P>|z|      [0.025      0.975]\n",
      "-------------------------------------------------------------------------------\n",
      "ESG_risk       -3.3668      1.278     -2.635      0.008      -5.871      -0.863\n",
      "지가경공시           0.6916      1.625      0.426      0.670      -2.493       3.876\n",
      "지가경발간          -3.5754      6.408     -0.558      0.577     -16.136       8.985\n",
      "ESG임원비율        -1.2928      0.812     -1.592      0.111      -2.884       0.299\n",
      "ESG채권          -2.5157      1.679     -1.498      0.134      -5.807       0.776\n",
      "환경이사            0.0342      0.155      0.220      0.825      -0.270       0.338\n",
      "여성임원비율         -0.5097      0.357     -1.426      0.154      -1.210       0.191\n",
      "const           9.7871      6.483      1.510      0.131      -2.920      22.494\n",
      "-------------------------------------------------------------------------------\n",
      "ESG_GRADE=8       coef    std err          z      P>|z|      [0.025      0.975]\n",
      "-------------------------------------------------------------------------------\n",
      "ESG_risk       -3.9072      1.278     -3.058      0.002      -6.411      -1.403\n",
      "지가경공시           2.5022      1.864      1.342      0.180      -1.152       6.156\n",
      "지가경발간          -5.0551      6.471     -0.781      0.435     -17.739       7.628\n",
      "ESG임원비율        -1.5482      0.823     -1.880      0.060      -3.162       0.066\n",
      "ESG채권          -9.8708     29.747     -0.332      0.740     -68.173      48.431\n",
      "환경이사           -0.1517      0.169     -0.900      0.368      -0.482       0.179\n",
      "여성임원비율         -0.4665      0.357     -1.305      0.192      -1.167       0.234\n",
      "const           8.0635      6.531      1.235      0.217      -4.737      20.864\n",
      "-------------------------------------------------------------------------------\n",
      "ESG_GRADE=9       coef    std err          z      P>|z|      [0.025      0.975]\n",
      "-------------------------------------------------------------------------------\n",
      "ESG_risk       -4.3947      1.283     -3.424      0.001      -6.910      -1.879\n",
      "지가경공시          -1.4897    125.525     -0.012      0.991    -247.514     244.535\n",
      "지가경발간          -9.6377     22.099     -0.436      0.663     -52.951      33.676\n",
      "ESG임원비율        -3.4920    193.517     -0.018      0.986    -382.779     375.795\n",
      "ESG채권          -8.4040     31.794     -0.264      0.792     -70.720      53.912\n",
      "환경이사           -0.1258      0.186     -0.678      0.498      -0.490       0.238\n",
      "여성임원비율         -0.5179      0.360     -1.441      0.150      -1.223       0.187\n",
      "const          -3.3552   1006.173     -0.003      0.997   -1975.419    1968.708\n",
      "===============================================================================\n"
     ]
    }
   ],
   "source": [
    "print('### print marginal summary ###')\n",
    "print(mar.summary())\n",
    "\n",
    "print(\"### print model summary ###\")\n",
    "print(result.summary())"
   ]
  },
  {
   "cell_type": "markdown",
   "id": "d418740a",
   "metadata": {},
   "source": [
    "#### variale selection 이후, 전체 모델에 대한 회귀계수 값 출력"
   ]
  },
  {
   "cell_type": "code",
   "execution_count": 28,
   "id": "9ff5c1f6",
   "metadata": {
    "scrolled": true
   },
   "outputs": [
    {
     "name": "stdout",
     "output_type": "stream",
     "text": [
      "### The selected model's regression coefficient ###\n"
     ]
    },
    {
     "data": {
      "text/html": [
       "<div>\n",
       "<style scoped>\n",
       "    .dataframe tbody tr th:only-of-type {\n",
       "        vertical-align: middle;\n",
       "    }\n",
       "\n",
       "    .dataframe tbody tr th {\n",
       "        vertical-align: top;\n",
       "    }\n",
       "\n",
       "    .dataframe thead th {\n",
       "        text-align: right;\n",
       "    }\n",
       "</style>\n",
       "<table border=\"1\" class=\"dataframe\">\n",
       "  <thead>\n",
       "    <tr style=\"text-align: right;\">\n",
       "      <th></th>\n",
       "      <th>ESG_risk</th>\n",
       "      <th>지가경공시</th>\n",
       "      <th>지가경발간</th>\n",
       "      <th>ESG임원비율</th>\n",
       "      <th>ESG채권</th>\n",
       "      <th>환경이사</th>\n",
       "      <th>여성임원비율</th>\n",
       "      <th>const</th>\n",
       "    </tr>\n",
       "  </thead>\n",
       "  <tbody>\n",
       "    <tr>\n",
       "      <th>ESG_GRADE=2</th>\n",
       "      <td>0.8731</td>\n",
       "      <td>0.7916</td>\n",
       "      <td>-1.8268</td>\n",
       "      <td>-1.1260</td>\n",
       "      <td>-3.2086</td>\n",
       "      <td>0.0089</td>\n",
       "      <td>-0.4290</td>\n",
       "      <td>4.5482</td>\n",
       "    </tr>\n",
       "    <tr>\n",
       "      <th>ESG_GRADE=3</th>\n",
       "      <td>-1.5268</td>\n",
       "      <td>1.5310</td>\n",
       "      <td>-1.4370</td>\n",
       "      <td>-1.1405</td>\n",
       "      <td>-1.9138</td>\n",
       "      <td>0.0283</td>\n",
       "      <td>-0.4505</td>\n",
       "      <td>7.4050</td>\n",
       "    </tr>\n",
       "    <tr>\n",
       "      <th>ESG_GRADE=4</th>\n",
       "      <td>-2.6624</td>\n",
       "      <td>0.5665</td>\n",
       "      <td>-1.8905</td>\n",
       "      <td>-1.0907</td>\n",
       "      <td>-1.2804</td>\n",
       "      <td>0.0045</td>\n",
       "      <td>-0.5197</td>\n",
       "      <td>9.0225</td>\n",
       "    </tr>\n",
       "    <tr>\n",
       "      <th>ESG_GRADE=5</th>\n",
       "      <td>-2.4306</td>\n",
       "      <td>0.7894</td>\n",
       "      <td>-2.7660</td>\n",
       "      <td>-1.1680</td>\n",
       "      <td>-1.9909</td>\n",
       "      <td>0.0193</td>\n",
       "      <td>-0.4920</td>\n",
       "      <td>9.2754</td>\n",
       "    </tr>\n",
       "    <tr>\n",
       "      <th>ESG_GRADE=6</th>\n",
       "      <td>-2.6143</td>\n",
       "      <td>-7.3071</td>\n",
       "      <td>-3.5368</td>\n",
       "      <td>-1.4241</td>\n",
       "      <td>-1.9885</td>\n",
       "      <td>0.0645</td>\n",
       "      <td>-0.4662</td>\n",
       "      <td>8.4480</td>\n",
       "    </tr>\n",
       "    <tr>\n",
       "      <th>ESG_GRADE=7</th>\n",
       "      <td>-3.3668</td>\n",
       "      <td>0.6916</td>\n",
       "      <td>-3.5754</td>\n",
       "      <td>-1.2928</td>\n",
       "      <td>-2.5157</td>\n",
       "      <td>0.0342</td>\n",
       "      <td>-0.5097</td>\n",
       "      <td>9.7871</td>\n",
       "    </tr>\n",
       "    <tr>\n",
       "      <th>ESG_GRADE=8</th>\n",
       "      <td>-3.9072</td>\n",
       "      <td>2.5022</td>\n",
       "      <td>-5.0551</td>\n",
       "      <td>-1.5482</td>\n",
       "      <td>-9.8708</td>\n",
       "      <td>-0.1517</td>\n",
       "      <td>-0.4665</td>\n",
       "      <td>8.0635</td>\n",
       "    </tr>\n",
       "    <tr>\n",
       "      <th>ESG_GRADE=9</th>\n",
       "      <td>-4.3947</td>\n",
       "      <td>-1.4897</td>\n",
       "      <td>-9.6377</td>\n",
       "      <td>-3.4920</td>\n",
       "      <td>-8.4040</td>\n",
       "      <td>-0.1258</td>\n",
       "      <td>-0.5179</td>\n",
       "      <td>-3.3552</td>\n",
       "    </tr>\n",
       "  </tbody>\n",
       "</table>\n",
       "</div>"
      ],
      "text/plain": [
       "0              ESG_risk       지가경공시       지가경발간     ESG임원비율       ESG채권  \\\n",
       "ESG_GRADE=2      0.8731      0.7916     -1.8268     -1.1260     -3.2086   \n",
       "ESG_GRADE=3     -1.5268      1.5310     -1.4370     -1.1405     -1.9138   \n",
       "ESG_GRADE=4     -2.6624      0.5665     -1.8905     -1.0907     -1.2804   \n",
       "ESG_GRADE=5     -2.4306      0.7894     -2.7660     -1.1680     -1.9909   \n",
       "ESG_GRADE=6     -2.6143     -7.3071     -3.5368     -1.4241     -1.9885   \n",
       "ESG_GRADE=7     -3.3668      0.6916     -3.5754     -1.2928     -2.5157   \n",
       "ESG_GRADE=8     -3.9072      2.5022     -5.0551     -1.5482     -9.8708   \n",
       "ESG_GRADE=9     -4.3947     -1.4897     -9.6377     -3.4920     -8.4040   \n",
       "\n",
       "0                  환경이사      여성임원비율       const  \n",
       "ESG_GRADE=2      0.0089     -0.4290      4.5482  \n",
       "ESG_GRADE=3      0.0283     -0.4505      7.4050  \n",
       "ESG_GRADE=4      0.0045     -0.5197      9.0225  \n",
       "ESG_GRADE=5      0.0193     -0.4920      9.2754  \n",
       "ESG_GRADE=6      0.0645     -0.4662      8.4480  \n",
       "ESG_GRADE=7      0.0342     -0.5097      9.7871  \n",
       "ESG_GRADE=8     -0.1517     -0.4665      8.0635  \n",
       "ESG_GRADE=9     -0.1258     -0.5179     -3.3552  "
      ]
     },
     "execution_count": 28,
     "metadata": {},
     "output_type": "execute_result"
    }
   ],
   "source": [
    "print('### The selected model\\'s regression coefficient ###')\n",
    "check_beta(result)"
   ]
  },
  {
   "cell_type": "markdown",
   "id": "3fd4c62a",
   "metadata": {},
   "source": [
    "#### variable selection 이후, 전체 모형에 대한 p-value 값 출력"
   ]
  },
  {
   "cell_type": "code",
   "execution_count": 29,
   "id": "e16e853e",
   "metadata": {
    "scrolled": true
   },
   "outputs": [
    {
     "name": "stdout",
     "output_type": "stream",
     "text": [
      "### The selected model's regression coefficient's p-value is ###\n"
     ]
    },
    {
     "data": {
      "text/html": [
       "<div>\n",
       "<style scoped>\n",
       "    .dataframe tbody tr th:only-of-type {\n",
       "        vertical-align: middle;\n",
       "    }\n",
       "\n",
       "    .dataframe tbody tr th {\n",
       "        vertical-align: top;\n",
       "    }\n",
       "\n",
       "    .dataframe thead th {\n",
       "        text-align: right;\n",
       "    }\n",
       "</style>\n",
       "<table border=\"1\" class=\"dataframe\">\n",
       "  <thead>\n",
       "    <tr style=\"text-align: right;\">\n",
       "      <th></th>\n",
       "      <th>ESG_risk</th>\n",
       "      <th>지가경공시</th>\n",
       "      <th>지가경발간</th>\n",
       "      <th>ESG임원비율</th>\n",
       "      <th>ESG채권</th>\n",
       "      <th>환경이사</th>\n",
       "      <th>여성임원비율</th>\n",
       "      <th>const</th>\n",
       "    </tr>\n",
       "  </thead>\n",
       "  <tbody>\n",
       "    <tr>\n",
       "      <th>ESG_GRADE=2</th>\n",
       "      <td>0.429</td>\n",
       "      <td>0.561</td>\n",
       "      <td>0.775</td>\n",
       "      <td>0.161</td>\n",
       "      <td>0.027</td>\n",
       "      <td>0.953</td>\n",
       "      <td>0.224</td>\n",
       "      <td>0.483</td>\n",
       "    </tr>\n",
       "    <tr>\n",
       "      <th>ESG_GRADE=3</th>\n",
       "      <td>0.225</td>\n",
       "      <td>0.266</td>\n",
       "      <td>0.822</td>\n",
       "      <td>0.158</td>\n",
       "      <td>0.192</td>\n",
       "      <td>0.846</td>\n",
       "      <td>0.204</td>\n",
       "      <td>0.253</td>\n",
       "    </tr>\n",
       "    <tr>\n",
       "      <th>ESG_GRADE=4</th>\n",
       "      <td>0.038</td>\n",
       "      <td>0.691</td>\n",
       "      <td>0.767</td>\n",
       "      <td>0.178</td>\n",
       "      <td>0.398</td>\n",
       "      <td>0.976</td>\n",
       "      <td>0.146</td>\n",
       "      <td>0.164</td>\n",
       "    </tr>\n",
       "    <tr>\n",
       "      <th>ESG_GRADE=5</th>\n",
       "      <td>0.058</td>\n",
       "      <td>0.587</td>\n",
       "      <td>0.665</td>\n",
       "      <td>0.149</td>\n",
       "      <td>0.201</td>\n",
       "      <td>0.900</td>\n",
       "      <td>0.169</td>\n",
       "      <td>0.152</td>\n",
       "    </tr>\n",
       "    <tr>\n",
       "      <th>ESG_GRADE=6</th>\n",
       "      <td>0.043</td>\n",
       "      <td>0.842</td>\n",
       "      <td>0.582</td>\n",
       "      <td>0.083</td>\n",
       "      <td>0.242</td>\n",
       "      <td>0.682</td>\n",
       "      <td>0.194</td>\n",
       "      <td>0.195</td>\n",
       "    </tr>\n",
       "    <tr>\n",
       "      <th>ESG_GRADE=7</th>\n",
       "      <td>0.008</td>\n",
       "      <td>0.670</td>\n",
       "      <td>0.577</td>\n",
       "      <td>0.111</td>\n",
       "      <td>0.134</td>\n",
       "      <td>0.825</td>\n",
       "      <td>0.154</td>\n",
       "      <td>0.131</td>\n",
       "    </tr>\n",
       "    <tr>\n",
       "      <th>ESG_GRADE=8</th>\n",
       "      <td>0.002</td>\n",
       "      <td>0.180</td>\n",
       "      <td>0.435</td>\n",
       "      <td>0.060</td>\n",
       "      <td>0.740</td>\n",
       "      <td>0.368</td>\n",
       "      <td>0.192</td>\n",
       "      <td>0.217</td>\n",
       "    </tr>\n",
       "    <tr>\n",
       "      <th>ESG_GRADE=9</th>\n",
       "      <td>0.001</td>\n",
       "      <td>0.991</td>\n",
       "      <td>0.663</td>\n",
       "      <td>0.986</td>\n",
       "      <td>0.792</td>\n",
       "      <td>0.498</td>\n",
       "      <td>0.150</td>\n",
       "      <td>0.997</td>\n",
       "    </tr>\n",
       "  </tbody>\n",
       "</table>\n",
       "</div>"
      ],
      "text/plain": [
       "0           ESG_risk   지가경공시   지가경발간 ESG임원비율   ESG채권    환경이사  여성임원비율   const\n",
       "ESG_GRADE=2    0.429   0.561   0.775   0.161   0.027   0.953   0.224   0.483\n",
       "ESG_GRADE=3    0.225   0.266   0.822   0.158   0.192   0.846   0.204   0.253\n",
       "ESG_GRADE=4    0.038   0.691   0.767   0.178   0.398   0.976   0.146   0.164\n",
       "ESG_GRADE=5    0.058   0.587   0.665   0.149   0.201   0.900   0.169   0.152\n",
       "ESG_GRADE=6    0.043   0.842   0.582   0.083   0.242   0.682   0.194   0.195\n",
       "ESG_GRADE=7    0.008   0.670   0.577   0.111   0.134   0.825   0.154   0.131\n",
       "ESG_GRADE=8    0.002   0.180   0.435   0.060   0.740   0.368   0.192   0.217\n",
       "ESG_GRADE=9    0.001   0.991   0.663   0.986   0.792   0.498   0.150   0.997"
      ]
     },
     "execution_count": 29,
     "metadata": {},
     "output_type": "execute_result"
    }
   ],
   "source": [
    "print('### The selected model\\'s regression coefficient\\'s p-value is ###')\n",
    "check_p_value(result)"
   ]
  },
  {
   "cell_type": "markdown",
   "id": "a9a97c98",
   "metadata": {},
   "source": [
    "#### variable selection 이후, marginal model에 대한 회귀계수 값 출력"
   ]
  },
  {
   "cell_type": "code",
   "execution_count": 30,
   "id": "ea272b13",
   "metadata": {},
   "outputs": [
    {
     "data": {
      "text/html": [
       "<div>\n",
       "<style scoped>\n",
       "    .dataframe tbody tr th:only-of-type {\n",
       "        vertical-align: middle;\n",
       "    }\n",
       "\n",
       "    .dataframe tbody tr th {\n",
       "        vertical-align: top;\n",
       "    }\n",
       "\n",
       "    .dataframe thead th {\n",
       "        text-align: right;\n",
       "    }\n",
       "</style>\n",
       "<table border=\"1\" class=\"dataframe\">\n",
       "  <thead>\n",
       "    <tr style=\"text-align: right;\">\n",
       "      <th></th>\n",
       "      <th>ESG_risk</th>\n",
       "      <th>지가경공시</th>\n",
       "      <th>지가경발간</th>\n",
       "      <th>ESG임원비율</th>\n",
       "      <th>ESG채권</th>\n",
       "      <th>환경이사</th>\n",
       "      <th>여성임원비율</th>\n",
       "    </tr>\n",
       "  </thead>\n",
       "  <tbody>\n",
       "    <tr>\n",
       "      <th>ESG_GRADE=1</th>\n",
       "      <td>0.0034</td>\n",
       "      <td>-0.0050</td>\n",
       "      <td>0.0093</td>\n",
       "      <td>0.0059</td>\n",
       "      <td>0.0126</td>\n",
       "      <td>-8.051e-05</td>\n",
       "      <td>0.0023</td>\n",
       "    </tr>\n",
       "    <tr>\n",
       "      <th>ESG_GRADE=2</th>\n",
       "      <td>0.0768</td>\n",
       "      <td>0.0031</td>\n",
       "      <td>0.0050</td>\n",
       "      <td>-0.0012</td>\n",
       "      <td>-0.0315</td>\n",
       "      <td>-0.0002</td>\n",
       "      <td>0.0001</td>\n",
       "    </tr>\n",
       "    <tr>\n",
       "      <th>ESG_GRADE=3</th>\n",
       "      <td>0.0108</td>\n",
       "      <td>0.0506</td>\n",
       "      <td>0.0523</td>\n",
       "      <td>0.0024</td>\n",
       "      <td>0.0454</td>\n",
       "      <td>0.0012</td>\n",
       "      <td>0.0004</td>\n",
       "    </tr>\n",
       "    <tr>\n",
       "      <th>ESG_GRADE=4</th>\n",
       "      <td>0.0014</td>\n",
       "      <td>0.0190</td>\n",
       "      <td>0.1059</td>\n",
       "      <td>0.0203</td>\n",
       "      <td>0.1807</td>\n",
       "      <td>0.0014</td>\n",
       "      <td>-0.0028</td>\n",
       "    </tr>\n",
       "    <tr>\n",
       "      <th>ESG_GRADE=5</th>\n",
       "      <td>0.0409</td>\n",
       "      <td>0.0537</td>\n",
       "      <td>0.0843</td>\n",
       "      <td>0.0242</td>\n",
       "      <td>0.2044</td>\n",
       "      <td>0.0037</td>\n",
       "      <td>-0.0008</td>\n",
       "    </tr>\n",
       "    <tr>\n",
       "      <th>ESG_GRADE=6</th>\n",
       "      <td>0.0490</td>\n",
       "      <td>-0.5884</td>\n",
       "      <td>0.0539</td>\n",
       "      <td>0.0092</td>\n",
       "      <td>0.2370</td>\n",
       "      <td>0.0080</td>\n",
       "      <td>0.0017</td>\n",
       "    </tr>\n",
       "    <tr>\n",
       "      <th>ESG_GRADE=7</th>\n",
       "      <td>0.0056</td>\n",
       "      <td>0.0800</td>\n",
       "      <td>0.2058</td>\n",
       "      <td>0.0701</td>\n",
       "      <td>0.6302</td>\n",
       "      <td>0.0173</td>\n",
       "      <td>-0.0044</td>\n",
       "    </tr>\n",
       "    <tr>\n",
       "      <th>ESG_GRADE=8</th>\n",
       "      <td>-0.1028</td>\n",
       "      <td>0.6428</td>\n",
       "      <td>0.0049</td>\n",
       "      <td>0.0698</td>\n",
       "      <td>-1.0976</td>\n",
       "      <td>-0.0261</td>\n",
       "      <td>0.0070</td>\n",
       "    </tr>\n",
       "    <tr>\n",
       "      <th>ESG_GRADE=9</th>\n",
       "      <td>-0.0853</td>\n",
       "      <td>-0.2558</td>\n",
       "      <td>-0.5214</td>\n",
       "      <td>-0.2006</td>\n",
       "      <td>-0.1812</td>\n",
       "      <td>-0.0054</td>\n",
       "      <td>-0.0036</td>\n",
       "    </tr>\n",
       "  </tbody>\n",
       "</table>\n",
       "</div>"
      ],
      "text/plain": [
       "0              ESG_risk       지가경공시       지가경발간     ESG임원비율       ESG채권  \\\n",
       "ESG_GRADE=1      0.0034     -0.0050      0.0093      0.0059      0.0126   \n",
       "ESG_GRADE=2      0.0768      0.0031      0.0050     -0.0012     -0.0315   \n",
       "ESG_GRADE=3      0.0108      0.0506      0.0523      0.0024      0.0454   \n",
       "ESG_GRADE=4      0.0014      0.0190      0.1059      0.0203      0.1807   \n",
       "ESG_GRADE=5      0.0409      0.0537      0.0843      0.0242      0.2044   \n",
       "ESG_GRADE=6      0.0490     -0.5884      0.0539      0.0092      0.2370   \n",
       "ESG_GRADE=7      0.0056      0.0800      0.2058      0.0701      0.6302   \n",
       "ESG_GRADE=8     -0.1028      0.6428      0.0049      0.0698     -1.0976   \n",
       "ESG_GRADE=9     -0.0853     -0.2558     -0.5214     -0.2006     -0.1812   \n",
       "\n",
       "0                  환경이사      여성임원비율  \n",
       "ESG_GRADE=1  -8.051e-05      0.0023  \n",
       "ESG_GRADE=2     -0.0002      0.0001  \n",
       "ESG_GRADE=3      0.0012      0.0004  \n",
       "ESG_GRADE=4      0.0014     -0.0028  \n",
       "ESG_GRADE=5      0.0037     -0.0008  \n",
       "ESG_GRADE=6      0.0080      0.0017  \n",
       "ESG_GRADE=7      0.0173     -0.0044  \n",
       "ESG_GRADE=8     -0.0261      0.0070  \n",
       "ESG_GRADE=9     -0.0054     -0.0036  "
      ]
     },
     "execution_count": 30,
     "metadata": {},
     "output_type": "execute_result"
    }
   ],
   "source": [
    "check_beta_mar(mar)"
   ]
  },
  {
   "cell_type": "markdown",
   "id": "07ebb6e1",
   "metadata": {},
   "source": [
    "#### variable selection 이후, marginal model에 대한 p-value 값 출력"
   ]
  },
  {
   "cell_type": "code",
   "execution_count": 31,
   "id": "1909d4ca",
   "metadata": {},
   "outputs": [
    {
     "data": {
      "text/html": [
       "<div>\n",
       "<style scoped>\n",
       "    .dataframe tbody tr th:only-of-type {\n",
       "        vertical-align: middle;\n",
       "    }\n",
       "\n",
       "    .dataframe tbody tr th {\n",
       "        vertical-align: top;\n",
       "    }\n",
       "\n",
       "    .dataframe thead th {\n",
       "        text-align: right;\n",
       "    }\n",
       "</style>\n",
       "<table border=\"1\" class=\"dataframe\">\n",
       "  <thead>\n",
       "    <tr style=\"text-align: right;\">\n",
       "      <th></th>\n",
       "      <th>ESG_risk</th>\n",
       "      <th>지가경공시</th>\n",
       "      <th>지가경발간</th>\n",
       "      <th>ESG임원비율</th>\n",
       "      <th>ESG채권</th>\n",
       "      <th>환경이사</th>\n",
       "      <th>여성임원비율</th>\n",
       "    </tr>\n",
       "  </thead>\n",
       "  <tbody>\n",
       "    <tr>\n",
       "      <th>ESG_GRADE=1</th>\n",
       "      <td>0.486</td>\n",
       "      <td>0.445</td>\n",
       "      <td>0.779</td>\n",
       "      <td>0.107</td>\n",
       "      <td>0.027</td>\n",
       "      <td>0.912</td>\n",
       "      <td>0.171</td>\n",
       "    </tr>\n",
       "    <tr>\n",
       "      <th>ESG_GRADE=2</th>\n",
       "      <td>0.000</td>\n",
       "      <td>0.949</td>\n",
       "      <td>0.843</td>\n",
       "      <td>0.957</td>\n",
       "      <td>0.378</td>\n",
       "      <td>0.944</td>\n",
       "      <td>0.948</td>\n",
       "    </tr>\n",
       "    <tr>\n",
       "      <th>ESG_GRADE=3</th>\n",
       "      <td>0.574</td>\n",
       "      <td>0.691</td>\n",
       "      <td>0.084</td>\n",
       "      <td>0.985</td>\n",
       "      <td>0.710</td>\n",
       "      <td>0.634</td>\n",
       "      <td>0.889</td>\n",
       "    </tr>\n",
       "    <tr>\n",
       "      <th>ESG_GRADE=4</th>\n",
       "      <td>0.933</td>\n",
       "      <td>0.971</td>\n",
       "      <td>0.217</td>\n",
       "      <td>0.978</td>\n",
       "      <td>0.660</td>\n",
       "      <td>0.718</td>\n",
       "      <td>0.412</td>\n",
       "    </tr>\n",
       "    <tr>\n",
       "      <th>ESG_GRADE=5</th>\n",
       "      <td>0.028</td>\n",
       "      <td>0.946</td>\n",
       "      <td>0.510</td>\n",
       "      <td>0.982</td>\n",
       "      <td>0.748</td>\n",
       "      <td>0.396</td>\n",
       "      <td>0.841</td>\n",
       "    </tr>\n",
       "    <tr>\n",
       "      <th>ESG_GRADE=6</th>\n",
       "      <td>0.002</td>\n",
       "      <td>0.828</td>\n",
       "      <td>0.732</td>\n",
       "      <td>0.995</td>\n",
       "      <td>0.747</td>\n",
       "      <td>0.041</td>\n",
       "      <td>0.639</td>\n",
       "    </tr>\n",
       "    <tr>\n",
       "      <th>ESG_GRADE=7</th>\n",
       "      <td>0.767</td>\n",
       "      <td>0.980</td>\n",
       "      <td>0.706</td>\n",
       "      <td>0.989</td>\n",
       "      <td>0.779</td>\n",
       "      <td>0.029</td>\n",
       "      <td>0.445</td>\n",
       "    </tr>\n",
       "    <tr>\n",
       "      <th>ESG_GRADE=8</th>\n",
       "      <td>0.000</td>\n",
       "      <td>0.926</td>\n",
       "      <td>0.997</td>\n",
       "      <td>0.995</td>\n",
       "      <td>0.851</td>\n",
       "      <td>0.069</td>\n",
       "      <td>0.252</td>\n",
       "    </tr>\n",
       "    <tr>\n",
       "      <th>ESG_GRADE=9</th>\n",
       "      <td>0.000</td>\n",
       "      <td>0.983</td>\n",
       "      <td>0.800</td>\n",
       "      <td>0.991</td>\n",
       "      <td>0.959</td>\n",
       "      <td>0.609</td>\n",
       "      <td>0.437</td>\n",
       "    </tr>\n",
       "  </tbody>\n",
       "</table>\n",
       "</div>"
      ],
      "text/plain": [
       "0           ESG_risk   지가경공시   지가경발간 ESG임원비율   ESG채권    환경이사  여성임원비율\n",
       "ESG_GRADE=1    0.486   0.445   0.779   0.107   0.027   0.912   0.171\n",
       "ESG_GRADE=2    0.000   0.949   0.843   0.957   0.378   0.944   0.948\n",
       "ESG_GRADE=3    0.574   0.691   0.084   0.985   0.710   0.634   0.889\n",
       "ESG_GRADE=4    0.933   0.971   0.217   0.978   0.660   0.718   0.412\n",
       "ESG_GRADE=5    0.028   0.946   0.510   0.982   0.748   0.396   0.841\n",
       "ESG_GRADE=6    0.002   0.828   0.732   0.995   0.747   0.041   0.639\n",
       "ESG_GRADE=7    0.767   0.980   0.706   0.989   0.779   0.029   0.445\n",
       "ESG_GRADE=8    0.000   0.926   0.997   0.995   0.851   0.069   0.252\n",
       "ESG_GRADE=9    0.000   0.983   0.800   0.991   0.959   0.609   0.437"
      ]
     },
     "execution_count": 31,
     "metadata": {},
     "output_type": "execute_result"
    }
   ],
   "source": [
    "check_p_value_mar(mar)"
   ]
  },
  {
   "cell_type": "markdown",
   "id": "b7140440",
   "metadata": {},
   "source": [
    "#### Interpretation and Visualization"
   ]
  },
  {
   "cell_type": "code",
   "execution_count": 32,
   "id": "a72fed01",
   "metadata": {},
   "outputs": [
    {
     "name": "stdout",
     "output_type": "stream",
     "text": [
      "### Train set VIF ###\n"
     ]
    },
    {
     "data": {
      "text/html": [
       "<div>\n",
       "<style scoped>\n",
       "    .dataframe tbody tr th:only-of-type {\n",
       "        vertical-align: middle;\n",
       "    }\n",
       "\n",
       "    .dataframe tbody tr th {\n",
       "        vertical-align: top;\n",
       "    }\n",
       "\n",
       "    .dataframe thead th {\n",
       "        text-align: right;\n",
       "    }\n",
       "</style>\n",
       "<table border=\"1\" class=\"dataframe\">\n",
       "  <thead>\n",
       "    <tr style=\"text-align: right;\">\n",
       "      <th></th>\n",
       "      <th>VIF Factor</th>\n",
       "      <th>features</th>\n",
       "    </tr>\n",
       "  </thead>\n",
       "  <tbody>\n",
       "    <tr>\n",
       "      <th>0</th>\n",
       "      <td>4.197021</td>\n",
       "      <td>ESG임원비율</td>\n",
       "    </tr>\n",
       "    <tr>\n",
       "      <th>1</th>\n",
       "      <td>3.719043</td>\n",
       "      <td>환경이사</td>\n",
       "    </tr>\n",
       "    <tr>\n",
       "      <th>2</th>\n",
       "      <td>2.401740</td>\n",
       "      <td>여성임원비율</td>\n",
       "    </tr>\n",
       "    <tr>\n",
       "      <th>3</th>\n",
       "      <td>1.060677</td>\n",
       "      <td>ESG_risk</td>\n",
       "    </tr>\n",
       "  </tbody>\n",
       "</table>\n",
       "</div>"
      ],
      "text/plain": [
       "   VIF Factor  features\n",
       "0    4.197021   ESG임원비율\n",
       "1    3.719043      환경이사\n",
       "2    2.401740    여성임원비율\n",
       "3    1.060677  ESG_risk"
      ]
     },
     "execution_count": 32,
     "metadata": {},
     "output_type": "execute_result"
    }
   ],
   "source": [
    "new_num_var = list(set(num_var) & set(x_train.columns))\n",
    "vif = pd.DataFrame()\n",
    "vif[\"VIF Factor\"] = [variance_inflation_factor(\n",
    "   x_train[new_num_var].values, i) for i in range(x_train[new_num_var].shape[1])]\n",
    "vif[\"features\"] = x_train[new_num_var].columns\n",
    "print(\"### Train set VIF ###\")\n",
    "vif"
   ]
  },
  {
   "cell_type": "markdown",
   "id": "1e08b73a",
   "metadata": {},
   "source": [
    "- 변수 선택 후 vif 지수에서는 문제가 될 값은 발생하지 않았다."
   ]
  },
  {
   "cell_type": "code",
   "execution_count": 33,
   "id": "57b6575e",
   "metadata": {
    "scrolled": false
   },
   "outputs": [
    {
     "data": {
      "image/png": "[encoded data removed]",
      "text/plain": [
       "<Figure size 1080x576 with 2 Axes>"
      ]
     },
     "metadata": {
      "needs_background": "light"
     },
     "output_type": "display_data"
    }
   ],
   "source": [
    "plt.figure(figsize = (15,8))\n",
    "sns.heatmap(x_train[new_num_var].corr(), annot=True,cmap='gist_heat_r')\n",
    "plt.show()"
   ]
  },
  {
   "cell_type": "markdown",
   "id": "cc9b0748",
   "metadata": {},
   "source": [
    "- 상관계수 plot에서도 특별히 위험한 수준의 상관관계는 없는 것으로 해석할 수 있다. 따라서 train set이 Multinomial Logistic Model을 사용하여 적합 할 수 있고, 그 결과는 신뢰할 수 있다고 말할 수 있다."
   ]
  },
  {
   "cell_type": "markdown",
   "id": "4a2688f4",
   "metadata": {},
   "source": [
    "## 5. Estimation\n",
    "- r_test 사용 (scaling 및 dummy 생성 완료된 데이터)"
   ]
  },
  {
   "cell_type": "code",
   "execution_count": 34,
   "id": "275fa866",
   "metadata": {
    "scrolled": true
   },
   "outputs": [],
   "source": [
    "# 추가로 drop할 변수 있으면 drop해주기\n",
    "x_test = r_test.drop(columns=['종목코드','SICS_Sector_Kr','ESG_GRADE','Stratify'], \n",
    "                     inplace=False)\n",
    "x_test = sm.add_constant(x_test, prepend=False)\n",
    "pred = model.predict(result.params, x_test)\n",
    "pred = pred.argmax(1) + 1\n",
    "\n",
    "ESG_result = copy.deepcopy(r_test)\n",
    "ESG_result['pred_grade'] = pred\n",
    "ESG_result=ESG_result[['종목코드','pred_grade']]"
   ]
  },
  {
   "cell_type": "code",
   "execution_count": 35,
   "id": "b0f74603",
   "metadata": {
    "scrolled": true
   },
   "outputs": [
    {
     "data": {
      "text/html": [
       "<div>\n",
       "<style scoped>\n",
       "    .dataframe tbody tr th:only-of-type {\n",
       "        vertical-align: middle;\n",
       "    }\n",
       "\n",
       "    .dataframe tbody tr th {\n",
       "        vertical-align: top;\n",
       "    }\n",
       "\n",
       "    .dataframe thead th {\n",
       "        text-align: right;\n",
       "    }\n",
       "</style>\n",
       "<table border=\"1\" class=\"dataframe\">\n",
       "  <thead>\n",
       "    <tr style=\"text-align: right;\">\n",
       "      <th></th>\n",
       "      <th>종목코드</th>\n",
       "      <th>pred_grade</th>\n",
       "    </tr>\n",
       "  </thead>\n",
       "  <tbody>\n",
       "    <tr>\n",
       "      <th>0</th>\n",
       "      <td>95570</td>\n",
       "      <td>8</td>\n",
       "    </tr>\n",
       "    <tr>\n",
       "      <th>1</th>\n",
       "      <td>6840</td>\n",
       "      <td>8</td>\n",
       "    </tr>\n",
       "    <tr>\n",
       "      <th>2</th>\n",
       "      <td>27410</td>\n",
       "      <td>8</td>\n",
       "    </tr>\n",
       "    <tr>\n",
       "      <th>3</th>\n",
       "      <td>1460</td>\n",
       "      <td>8</td>\n",
       "    </tr>\n",
       "    <tr>\n",
       "      <th>4</th>\n",
       "      <td>1040</td>\n",
       "      <td>5</td>\n",
       "    </tr>\n",
       "  </tbody>\n",
       "</table>\n",
       "</div>"
      ],
      "text/plain": [
       "    종목코드  pred_grade\n",
       "0  95570           8\n",
       "1   6840           8\n",
       "2  27410           8\n",
       "3   1460           8\n",
       "4   1040           5"
      ]
     },
     "execution_count": 35,
     "metadata": {},
     "output_type": "execute_result"
    }
   ],
   "source": [
    "# E_result 데이터프레임 확인\n",
    "ESG_result.head(5)"
   ]
  },
  {
   "cell_type": "code",
   "execution_count": 36,
   "id": "7c2b8481",
   "metadata": {},
   "outputs": [],
   "source": [
    "#E_result 값 저장\n",
    "ESG_result.to_csv(\"ESG_result.csv\", index=False, encoding=\"utf-8-sig\")"
   ]
  }
 ],
 "metadata": {
  "kernelspec": {
   "display_name": "Python 3 (ipykernel)",
   "language": "python",
   "name": "python3"
  },
  "language_info": {
   "codemirror_mode": {
    "name": "ipython",
    "version": 3
   },
   "file_extension": ".py",
   "mimetype": "text/x-python",
   "name": "python",
   "nbconvert_exporter": "python",
   "pygments_lexer": "ipython3",
   "version": "3.9.12"
  }
 },
 "nbformat": 4,
 "nbformat_minor": 5
}
