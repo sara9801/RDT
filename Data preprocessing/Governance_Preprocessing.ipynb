{
 "cells": [
  {
   "cell_type": "markdown",
   "metadata": {},
   "source": [
    "# Governance Data Preprocessing"
   ]
  },
  {
   "cell_type": "code",
   "execution_count": 1,
   "metadata": {},
   "outputs": [],
   "source": [
    "### package\n",
    "import os \n",
    "import pandas as pd\n",
    "import numpy as np\n",
    "import copy\n",
    "os.chdir(\"C:/Users/user/Desktop/Governance/2021\")"
   ]
  },
  {
   "cell_type": "markdown",
   "metadata": {},
   "source": [
    "### 데이터 로딩"
   ]
  },
  {
   "cell_type": "code",
   "execution_count": 2,
   "metadata": {},
   "outputs": [],
   "source": [
    "### ESG\n",
    "raw_esg = pd.read_excel(\"ESG_DATA.xlsx\",converters={'종목코드':str})\n",
    "\n",
    "### DART\n",
    "dart_name = ['지가경공시','총회ESG','임원','사외이사','회계감사','지배구조','배당공지']\n",
    "for i in range(1,len(dart_name)+1) :\n",
    "    globals()['raw_dart{}'.format(i)] = pd.read_excel(\"DART\"+str(dart_name[i-1])+\"_2021.xlsx\")\n",
    "raw_dart3 = pd.read_excel(\"DART임원_2021.xlsx\",converters={'종목코드':str})\n",
    "\n",
    "### KIND\n",
    "kind_name = ['공시우수법인F','횡령3y','지배구조']\n",
    "for i in range(1,len(kind_name)+1) :\n",
    "    globals()['raw_kind{}'.format(i)] = pd.read_excel(\"KIND\"+str(kind_name[i-1])+\"_2021.xlsx\",converters={'종목코드':str})\n",
    "\n",
    "### KRX\n",
    "raw_krx = pd.read_excel(\"KRX불성실공시3y_2021.xlsx\",converters={'종목코드':str})\n",
    "\n",
    "### KSA\n",
    "raw_ksa = pd.read_excel(\"KSA지가경_2021.xlsx\")\n",
    "\n",
    "### 금융지배구조\n",
    "raw_fgover = pd.read_excel(\"금융지배구조_2021.xlsx\")\n",
    "\n",
    "### 지속가능경영보고서 지배구조부문\n",
    "raw_gover = pd.read_excel(\"지배구조_2021.xlsx\")\n",
    "\n",
    "### 공정위위반\n",
    "raw_ill = pd.read_excel(\"공정위위반사항_2021.xlsx\")"
   ]
  },
  {
   "cell_type": "markdown",
   "metadata": {},
   "source": [
    "### 분석대상 key id"
   ]
  },
  {
   "cell_type": "code",
   "execution_count": 3,
   "metadata": {},
   "outputs": [],
   "source": [
    "### 분석대상 key 변수 : 분석대상에서 SBS미디어홀딩스, 에스케이머티리얼즈 제외\n",
    "raw_esg = raw_esg[-raw_esg['종목코드'].isin(['101060','036490'])]\n",
    "code = list(raw_esg['종목코드'])\n",
    "corp = list(raw_esg['회사명'])\n",
    "idx_esg = raw_esg[['종목코드','회사명']]\n",
    "sector_esg = raw_esg[['종목코드','회사명','SICS_Sector_Kr']]"
   ]
  },
  {
   "cell_type": "markdown",
   "metadata": {},
   "source": [
    "### Governance 데이터 분석대상 Filtering"
   ]
  },
  {
   "cell_type": "code",
   "execution_count": 4,
   "metadata": {},
   "outputs": [],
   "source": [
    "### 분석대상에 필요한 회사 추출 : 모든 데이터에 회사명에 따른 종목코드 추가\n",
    "\n",
    "### DART\n",
    "idx_dart = raw_dart3[['회사명','종목코드']].drop_duplicates(['회사명','종목코드'], keep = 'first')\n",
    "dart_name = ['지가경공시','총회ESG','임원','사외이사','회계감사','지배구조','배당공지']\n",
    "for i in [1,2,4,5,6,7] :\n",
    "    globals()['dart{}'.format(i)] = pd.merge(left = globals()['raw_dart{}'.format(i)], right = idx_dart, how = \"left\", on = \"회사명\")\n",
    "    globals()['dart{}'.format(i)] = globals()['dart{}'.format(i)][globals()['dart{}'.format(i)]['종목코드'].isin(code)]\n",
    "dart3 = raw_dart3[raw_dart3['종목코드'].isin(code)]\n",
    "\n",
    "### KIND\n",
    "kind_name = ['공시우수법인F','횡령3y','지배구조']\n",
    "for i in range(1,len(kind_name)+1) :\n",
    "    globals()['kind{}'.format(i)] = globals()['raw_kind{}'.format(i)][globals()['raw_kind{}'.format(i)]['종목코드'].isin(code)]\n",
    "\n",
    "### KRX\n",
    "krx = raw_krx[raw_krx['종목코드'].isin(code)]\n",
    "\n",
    "### KSA\n",
    "ksa = pd.merge(left = raw_ksa, right = idx_esg, on = '회사명')\n",
    "\n",
    "### 금융회사지배구조\n",
    "fgover = pd.merge(left = raw_fgover, right = idx_esg, how = 'left', on = '회사명')\n",
    "\n",
    "### 지배구조 지가경 데이터\n",
    "gover = pd.merge(left = raw_gover, right = sector_esg, how = 'left', on = '회사명')\n",
    "\n",
    "### 공정위 위반\n",
    "ill = pd.merge(left = raw_ill, right = idx_esg, how = 'left', on = '회사명') "
   ]
  },
  {
   "cell_type": "markdown",
   "metadata": {},
   "source": [
    "### Data Preprocessing"
   ]
  },
  {
   "cell_type": "code",
   "execution_count": 5,
   "metadata": {
    "scrolled": false
   },
   "outputs": [
    {
     "name": "stderr",
     "output_type": "stream",
     "text": [
      "C:\\Users\\user\\AppData\\Local\\Temp\\ipykernel_13460\\4262756820.py:15: UserWarning: Boolean Series key will be reindexed to match DataFrame index.\n",
      "  dart3 = dart3[dart3['등기임원여부'] != '미등기임원'][dart3['등기임원여부'] != '미등기']\n",
      "C:\\Users\\user\\AppData\\Local\\Temp\\ipykernel_13460\\4262756820.py:38: SettingWithCopyWarning: \n",
      "A value is trying to be set on a copy of a slice from a DataFrame.\n",
      "Try using .loc[row_indexer,col_indexer] = value instead\n",
      "\n",
      "See the caveats in the documentation: https://pandas.pydata.org/pandas-docs/stable/user_guide/indexing.html#returning-a-view-versus-a-copy\n",
      "  dart6_1['이사회독립성'] = '독립'\n",
      "C:\\Users\\user\\AppData\\Local\\Temp\\ipykernel_13460\\4262756820.py:41: UserWarning: Boolean Series key will be reindexed to match DataFrame index.\n",
      "  ceo1 = dart3[dart3['직위'].str.contains('의장')][-dart3['직위'].str.contains('대표')][-dart3['담당업무'].str.contains('대표')]\n",
      "C:\\Users\\user\\AppData\\Local\\Temp\\ipykernel_13460\\4262756820.py:42: UserWarning: Boolean Series key will be reindexed to match DataFrame index.\n",
      "  ceo2 = dart3[dart3['담당업무'].str.contains('의장')][-dart3['담당업무'].str.contains('대표')][-dart3['직위'].str.contains('대표')]\n",
      "C:\\Users\\user\\AppData\\Local\\Temp\\ipykernel_13460\\4262756820.py:97: SettingWithCopyWarning: \n",
      "A value is trying to be set on a copy of a slice from a DataFrame.\n",
      "Try using .loc[row_indexer,col_indexer] = value instead\n",
      "\n",
      "See the caveats in the documentation: https://pandas.pydata.org/pandas-docs/stable/user_guide/indexing.html#returning-a-view-versus-a-copy\n",
      "  dart6_2['내부감사부서'] = 1\n",
      "C:\\Users\\user\\AppData\\Local\\Temp\\ipykernel_13460\\4262756820.py:102: SettingWithCopyWarning: \n",
      "A value is trying to be set on a copy of a slice from a DataFrame.\n",
      "Try using .loc[row_indexer,col_indexer] = value instead\n",
      "\n",
      "See the caveats in the documentation: https://pandas.pydata.org/pandas-docs/stable/user_guide/indexing.html#returning-a-view-versus-a-copy\n",
      "  dart6_3['감사전문가'] = 1\n",
      "C:\\Users\\user\\AppData\\Local\\Temp\\ipykernel_13460\\4262756820.py:107: SettingWithCopyWarning: \n",
      "A value is trying to be set on a copy of a slice from a DataFrame.\n",
      "Try using .loc[row_indexer,col_indexer] = value instead\n",
      "\n",
      "See the caveats in the documentation: https://pandas.pydata.org/pandas-docs/stable/user_guide/indexing.html#returning-a-view-versus-a-copy\n",
      "  r_dart7['배당공지'] = 1\n"
     ]
    }
   ],
   "source": [
    "### DART\n",
    "\n",
    "## 지속가능경영보고서 공시여부 : 공시했으면 1, 아니면 0\n",
    "dart1['지가경공시'] = 1\n",
    "r_dart1 = dart1.drop_duplicates(\"종목코드\", keep='first')\n",
    "new_dart1 = r_dart1.drop(['회사명'], axis=1)\n",
    "\n",
    "## 주주총회 ESG안건 여부 : ESG안건 있으면 1, 없으면 0 (정정여부는 제외)\n",
    "dart2['주총ESG안건'] = 1\n",
    "new_dart2 = dart2[['종목코드','주총ESG안건']].drop_duplicates('종목코드',keep='first')\n",
    "\n",
    "## 임원\n",
    "\n",
    "# 등기임원 추출\n",
    "dart3 = dart3[dart3['등기임원여부'] != '미등기임원'][dart3['등기임원여부'] != '미등기']\n",
    "\n",
    "# 전체 임원 수\n",
    "total_chief = pd.DataFrame(dart3.groupby('종목코드').size(), columns = ['총이사']) \n",
    "total_chief = total_chief.reset_index()\n",
    "\n",
    "# 여성 임원 수\n",
    "woman_chief = dart3[dart3['성별'] == '여'].groupby('종목코드').size().reset_index().rename(columns = {0:'여성이사'})\n",
    "\n",
    "# ESG관련 이사 수 : ESG, 지속가능, 미래전략, 지속경영 키워드가 관련된 ESG이사 추출\n",
    "chief_esg = list(dart3['담당업무'])\n",
    "for i in range(dart3.shape[0]) :\n",
    "    if any(word in chief_esg[i] for word in ['ESG','esg','지속가능','미래전략','지속경영']) :\n",
    "        chief_esg[i] = 1\n",
    "    else : chief_esg[i] = 0\n",
    "        \n",
    "c = pd.DataFrame({'종목코드':list(dart3['종목코드']),\n",
    "                  'ESG이사':chief_esg})\n",
    "esg_chief = c.groupby('종목코드')['ESG이사'].sum().reset_index()\n",
    "\n",
    "# 대표이사 이사회의장 일치여부 '이사회 독립성' \n",
    "# :지속가능경영보고서 데이터와 지배구조 데이터를 결합\n",
    "dart6_1 = dart6[dart6['Q7'] == 1]\n",
    "dart6_1['이사회독립성'] = '독립'\n",
    "new_dart6_1 = pd.concat([gover[['종목코드','이사회독립성']],fgover[['종목코드','이사회독립성']],dart6_1[['종목코드','이사회독립성']]]).drop_duplicates('종목코드', keep = 'first')\n",
    "# :직위와 담당업무에 이사회의장만, 대표이사만 있는 경우는 독립 그 외는 겸임\n",
    "ceo1 = dart3[dart3['직위'].str.contains('의장')][-dart3['직위'].str.contains('대표')][-dart3['담당업무'].str.contains('대표')]\n",
    "ceo2 = dart3[dart3['담당업무'].str.contains('의장')][-dart3['담당업무'].str.contains('대표')][-dart3['직위'].str.contains('대표')]\n",
    "ceo_chief = pd.concat([ceo1,ceo2]).drop_duplicates(['종목코드'],keep='first')\n",
    "ceo_chief['이사회독립성'] = \"독립\"\n",
    "# :중복 데이터 제거\n",
    "ceo_chief = ceo_chief[~ceo_chief['회사명'].isin(['현대미포조선','제넥신','대우조선해양'])][['종목코드','이사회독립성']]\n",
    "# :최종 데이터 = 지속가능경영보고서 & 지배구조데이터 & DART임원 데이터 결합\n",
    "ceo_chief = pd.concat([new_dart6_1,ceo_chief]).drop_duplicates('종목코드', keep = 'first')\n",
    "\n",
    "# 사외임원 수\n",
    "dart4 = dart4.replace(\"-\",0)\n",
    "r_dart4 = pd.merge(left = total_chief, right = dart4[['종목코드','사외이사 수']], how = 'left', on = '종목코드') \n",
    "r_dart4['사외이사비율'] = r_dart4['사외이사 수'].astype(float)/r_dart4['총이사'].astype(float)\n",
    "new_dart4 = r_dart4[['종목코드','사외이사비율']]\n",
    "\n",
    "## total : 최종데이터\n",
    "dart3_1 = pd.merge(left = total_chief, right = ceo_chief, on='종목코드', how='left').fillna(\"겸임\")\n",
    "dart3_2 = pd.merge(left = dart3_1, right = esg_chief, on='종목코드', how='left')\n",
    "dart3_3 = pd.merge(left = dart3_2, right = woman_chief, on = \"종목코드\", how = 'left')\n",
    "new_dart3 = pd.merge(left = dart3_3, right = new_dart4, on = '종목코드', how = 'left')\n",
    "\n",
    "new_dart3['여성임원비율'] = new_dart3['여성이사']/new_dart3['총이사']\n",
    "new_dart3['ESG임원비율'] = new_dart3['ESG이사']/new_dart3['총이사']\n",
    "r_dart3 = pd.concat([fgover[['종목코드','ESG임원비율']],new_dart3[['종목코드','ESG임원비율']]]).drop_duplicates(\"종목코드\", keep = 'first')\n",
    "new_dart3 = pd.merge(left = new_dart3.drop(['ESG임원비율'], axis = 1), right = r_dart3, on = '종목코드', how = 'left')\n",
    "\n",
    "new_dart3.drop(['총이사','여성이사','ESG이사'], axis=1, inplace = True)\n",
    "\n",
    "## 회계감사 (Full)\n",
    "set_dart5 = dart5.drop_duplicates(['종목코드'], keep = 'first')\n",
    "assess = list(set_dart5['감사의견'])\n",
    "for i in range(0,set_dart5.shape[0]) :\n",
    "    if '-' in assess[i] :\n",
    "        assess[i] = '거절'\n",
    "    elif '한정' in assess[i] :\n",
    "        assess[i] = '한정'\n",
    "    elif '거절' in assess[i] :\n",
    "        assess[i] = '거절'\n",
    "    else : assess[i] = '적정'\n",
    "new_dart5 = pd.DataFrame({'종목코드':list(set_dart5['종목코드']),\n",
    "                          '감사의견':assess})\n",
    "\n",
    "## 지배구조보고서 준수율 : 결측치는 train set에서의 최솟값으로 대체\n",
    "\n",
    "# 지배구조 핵심지표 준수율 & 금융회사 지배구조\n",
    "new_dart6 = pd.concat([fgover[['종목코드','준수율']],dart6[['종목코드','준수율']]]).drop_duplicates(\"종목코드\",keep ='first')\n",
    "new_dart6 = pd.merge(left = sector_esg, right = new_dart6, how = 'left', on = '종목코드')\n",
    "\n",
    "# train, test split\n",
    "train_idx = raw_esg.iloc[:661,1]\n",
    "train_min = new_dart6[new_dart6['종목코드'].isin(train_idx)].groupby('SICS_Sector_Kr')['준수율'].min().to_dict()\n",
    "new_dart6['준수율'] = new_dart6['준수율'].fillna(pd.Series([train_min[x] for x in new_dart6['SICS_Sector_Kr']]))\n",
    "new_dart6 = new_dart6[['종목코드','준수율']]\n",
    "\n",
    "## 독립적 내부감사부서설치 & 금융회사 지배구조\n",
    "dart6_2 = dart6[dart6['Q12'] == 1]\n",
    "dart6_2['내부감사부서'] = 1\n",
    "new_dart6_2 = pd.concat([fgover[['종목코드','내부감사부서']],dart6_2[['종목코드','내부감사부서']]]).drop_duplicates(\"종목코드\",keep ='first')\n",
    "\n",
    "## 내부감사기구에 회계전문가 or 재무전문가 존재 여부 & 금융회사 지배구조\n",
    "dart6_3 = dart6[dart6['Q13'] == 1]\n",
    "dart6_3['감사전문가'] = 1\n",
    "new_dart6_3 = pd.concat([fgover[['종목코드','감사전문가']],dart6_3[['종목코드','감사전문가']]]).drop_duplicates(\"종목코드\",keep ='first')\n",
    "\n",
    "## 배당공지 여부\n",
    "r_dart7 = dart7.drop_duplicates('종목코드',keep='first')\n",
    "r_dart7['배당공지'] = 1\n",
    "new_dart7 = r_dart7[['종목코드','배당공지']]"
   ]
  },
  {
   "cell_type": "code",
   "execution_count": 6,
   "metadata": {
    "scrolled": false
   },
   "outputs": [
    {
     "name": "stderr",
     "output_type": "stream",
     "text": [
      "C:\\Users\\user\\AppData\\Local\\Temp\\ipykernel_13460\\83082914.py:14: SettingWithCopyWarning: \n",
      "A value is trying to be set on a copy of a slice from a DataFrame.\n",
      "Try using .loc[row_indexer,col_indexer] = value instead\n",
      "\n",
      "See the caveats in the documentation: https://pandas.pydata.org/pandas-docs/stable/user_guide/indexing.html#returning-a-view-versus-a-copy\n",
      "  r_kind3['지배구조공시'] = 1\n"
     ]
    }
   ],
   "source": [
    "### KIND\n",
    "\n",
    "## 공시우수법인 : 3년 간 공시우수법인 여부 (중복제거)\n",
    "kind1 = kind1[(kind1['시상연도'] == 2022) | (kind1['시상연도'] == 2021) | (kind1['시상연도'] == 2020)]\n",
    "kind1['공시우수법인'] = 1\n",
    "new_kind1 = kind1.loc[:,['종목코드','공시우수법인']].drop_duplicates(['종목코드'],keep=\"first\")\n",
    "\n",
    "## 횡령3y : 3년 간 횡령 사실 여부 (중복제거)\n",
    "new_kind2 = pd.DataFrame({'종목코드':np.unique(list(kind2['종목코드'])),\n",
    "                          '횡령3y':np.ones(len(np.unique(list(kind2['종목코드']))))})\n",
    "\n",
    "## 지배구조보고서 공시 & 금융회사 지배구조\n",
    "r_kind3 = kind3[kind3['정정여부'] == 0]\n",
    "r_kind3['지배구조공시'] = 1\n",
    "r_kind3 = r_kind3.drop_duplicates(\"종목코드\",keep='first')\n",
    "new_kind3 = pd.concat([r_kind3[['종목코드','지배구조공시']],fgover[['종목코드','지배구조공시']]]).drop_duplicates(\"종목코드\",keep ='first')"
   ]
  },
  {
   "cell_type": "code",
   "execution_count": 7,
   "metadata": {
    "scrolled": true
   },
   "outputs": [
    {
     "name": "stderr",
     "output_type": "stream",
     "text": [
      "C:\\Users\\user\\AppData\\Local\\Temp\\ipykernel_13460\\130979234.py:4: SettingWithCopyWarning: \n",
      "A value is trying to be set on a copy of a slice from a DataFrame.\n",
      "Try using .loc[row_indexer,col_indexer] = value instead\n",
      "\n",
      "See the caveats in the documentation: https://pandas.pydata.org/pandas-docs/stable/user_guide/indexing.html#returning-a-view-versus-a-copy\n",
      "  krx['불성실공시'] = 1\n"
     ]
    }
   ],
   "source": [
    "### KRX & KSA & 공정위위반 & 지배구조\n",
    "\n",
    "## krx\n",
    "krx['불성실공시'] = 1\n",
    "krx = krx.drop_duplicates(\"종목코드\", keep = 'first')\n",
    "new_krx = krx[['종목코드','불성실공시']]\n",
    "\n",
    "## 지속가능경영보고서 발간\n",
    "ksa['지가경발간'] = 1\n",
    "new_ksa = ksa[['종목코드','지가경발간']]\n",
    "\n",
    "## 공정위위반\n",
    "new_ill = ill[['종목코드','합계']].groupby(['종목코드']).sum()\n",
    "\n",
    "## 지배구조 이사참석률 : 결측치는 train set에서의 최솟값으로 대체\n",
    "new_gover = pd.merge(left = sector_esg[['종목코드','SICS_Sector_Kr']], right = gover.iloc[:,[3,5]], how = 'left', on = '종목코드')\n",
    "\n",
    "# train, test split\n",
    "train_idx = raw_esg.iloc[:661,1]\n",
    "train_min = new_gover[new_gover['종목코드'].isin(train_idx)].groupby('SICS_Sector_Kr')['이사참석률'].min().to_dict()\n",
    "new_gover['이사참석률'] = new_gover['이사참석률'].fillna(pd.Series([train_min[x] for x in new_gover['SICS_Sector_Kr']]))\n",
    "new_gover = new_gover[['종목코드','이사참석률']]"
   ]
  },
  {
   "cell_type": "markdown",
   "metadata": {},
   "source": [
    "### Data Merge"
   ]
  },
  {
   "cell_type": "code",
   "execution_count": 8,
   "metadata": {},
   "outputs": [],
   "source": [
    "G_grade = raw_esg[['회사명','종목코드','SICS_Sector_Kr','G_GRADE']]\n",
    "for i in ['1','2','3','5','6','7','6_2','6_3'] :\n",
    "    G_grade = pd.merge(left = G_grade, right = globals()['new_dart{}'.format(i)], how = \"left\", on = \"종목코드\")\n",
    "\n",
    "for i in [1,2,3] :\n",
    "    G_grade = pd.merge(left = G_grade, right = globals()['new_kind{}'.format(i)], how = \"left\", on = \"종목코드\")\n",
    "    \n",
    "for i in ['new_krx','new_ksa','new_ill'] :\n",
    "    G_grade = pd.merge(left = G_grade, right = globals()[i], how = \"left\", on = \"종목코드\")\n",
    "    \n",
    "G_grade = pd.merge(left = G_grade, right = new_gover[['종목코드','이사참석률']], how = 'left', on = '종목코드')\n",
    "G_grade = G_grade.fillna(0)"
   ]
  },
  {
   "cell_type": "markdown",
   "metadata": {},
   "source": [
    "### Governance Key Risk Index"
   ]
  },
  {
   "cell_type": "code",
   "execution_count": 9,
   "metadata": {},
   "outputs": [
    {
     "name": "stderr",
     "output_type": "stream",
     "text": [
      "C:\\Users\\user\\AppData\\Local\\Temp\\ipykernel_13460\\1222327624.py:5: SettingWithCopyWarning: \n",
      "A value is trying to be set on a copy of a slice from a DataFrame.\n",
      "Try using .loc[row_indexer,col_indexer] = value instead\n",
      "\n",
      "See the caveats in the documentation: https://pandas.pydata.org/pandas-docs/stable/user_guide/indexing.html#returning-a-view-versus-a-copy\n",
      "  gkr_k1['지속가능경영보고서'] = (G_grade['지가경공시'] + G_grade['지가경발간'])/2\n",
      "C:\\Users\\user\\AppData\\Local\\Temp\\ipykernel_13460\\1222327624.py:12: SettingWithCopyWarning: \n",
      "A value is trying to be set on a copy of a slice from a DataFrame.\n",
      "Try using .loc[row_indexer,col_indexer] = value instead\n",
      "\n",
      "See the caveats in the documentation: https://pandas.pydata.org/pandas-docs/stable/user_guide/indexing.html#returning-a-view-versus-a-copy\n",
      "  gkr_k3['횡령'] = np.abs(G_grade['횡령3y'] - 1)\n",
      "C:\\Users\\user\\AppData\\Local\\Temp\\ipykernel_13460\\1222327624.py:30: SettingWithCopyWarning: \n",
      "A value is trying to be set on a copy of a slice from a DataFrame.\n",
      "Try using .loc[row_indexer,col_indexer] = value instead\n",
      "\n",
      "See the caveats in the documentation: https://pandas.pydata.org/pandas-docs/stable/user_guide/indexing.html#returning-a-view-versus-a-copy\n",
      "  gkr_etc3['이사참석률'] = gkr_etc3['이사참석률']/100\n"
     ]
    }
   ],
   "source": [
    "### key risk \n",
    "\n",
    "## 지속가능경영보고서\n",
    "gkr_k1 = G_grade[['종목코드','SICS_Sector_Kr']]\n",
    "gkr_k1['지속가능경영보고서'] = (G_grade['지가경공시'] + G_grade['지가경발간'])/2\n",
    "\n",
    "## 불성실 공시\n",
    "gkr_k2 = pd.get_dummies(G_grade[['종목코드','불성실공시']], columns = ['불성실공시'])[['종목코드','불성실공시_0.0']].rename(columns = {'불성실공시_0.0':'불성실공시'})\n",
    "\n",
    "## 횡령\n",
    "gkr_k3 = G_grade[['종목코드']]\n",
    "gkr_k3['횡령'] = np.abs(G_grade['횡령3y'] - 1)\n",
    "\n",
    "## 이사회 독립성\n",
    "gkr_k4 = pd.get_dummies(G_grade[['종목코드','이사회독립성']], columns = ['이사회독립성'])[['종목코드','이사회독립성_독립']].rename(columns = {'이사회독립성_독립':'이사회독립성'})\n",
    "\n",
    "## 회계감사\n",
    "gkr_k5 = pd.get_dummies(G_grade[['종목코드','감사의견']], columns = ['감사의견'])\n",
    "gkr_k5['회계감사'] = gkr_k5['감사의견_적정'] + gkr_k5['감사의견_한정'] * 0.5\n",
    "gkr_k5 = gkr_k5[['종목코드','회계감사']]\n",
    "\n",
    "## 기타 (ESG임원비율,지배구조 준수율,주주배당,사외이사비율,공정위위반,내부감사부서설치,감사전문가,이사참석률)\n",
    "gkr_etc1 = G_grade[['종목코드','ESG임원비율','준수율','배당공지','사외이사비율']]\n",
    "\n",
    "gkr_etc2 = pd.get_dummies(G_grade[['종목코드','합계']], columns = ['합계'])\n",
    "gkr_etc2['공정위위반'] = gkr_etc2['합계_0.0'] + gkr_etc2['합계_1.0'] * 0.5\n",
    "gkr_etc2 = gkr_etc2[['종목코드','공정위위반']]\n",
    "\n",
    "gkr_etc3 = G_grade[['종목코드','내부감사부서','감사전문가','이사참석률']]\n",
    "gkr_etc3['이사참석률'] = gkr_etc3['이사참석률']/100\n",
    "\n",
    "## data merge\n",
    "gkr = pd.merge(left = gkr_k1, right = gkr_k2, how = 'left', on = '종목코드')\n",
    "gkr = pd.merge(left = gkr, right = gkr_k3, how = 'left', on = '종목코드')\n",
    "gkr = pd.merge(left = gkr, right = gkr_k4, how = 'left', on = '종목코드')\n",
    "gkr = pd.merge(left = gkr, right = gkr_k5, how = 'left', on = '종목코드')\n",
    "gkr = pd.merge(left = gkr, right = gkr_etc1, how = 'left', on = '종목코드')\n",
    "gkr = pd.merge(left = gkr, right = gkr_etc2, how = 'left', on = '종목코드')\n",
    "gkr = pd.merge(left = gkr, right = gkr_etc3, how = 'left', on = '종목코드')"
   ]
  },
  {
   "cell_type": "code",
   "execution_count": 10,
   "metadata": {},
   "outputs": [],
   "source": [
    "### weight matrix\n",
    "sics = pd.DataFrame({'소비재':[1/9,1/9,1/9,1/9,1/9,1/9,1/9,1/9,1/9,0,0,0,0],\n",
    "                     '추출물 및 광물 처리':[1/10,1/10,1/10,1/10,1/10,1/10,1/10,1/10,1/10,1/10,0,0,0],\n",
    "                     '금융':[1/15,1/15,1/15,1/15,1/15,1/15,1/15,1/15,1/15,0,2/15,2/15,2/15],\n",
    "                     '식음료':[1/9,1/9,1/9,1/9,1/9,1/9,1/9,1/9,1/9,0,0,0,0],\n",
    "                     '헬스케어':[1/9,1/9,1/9,1/9,1/9,1/9,1/9,1/9,1/9,0,0,0,0],\n",
    "                     '인프라':[1/12,1/12,1/12,1/12,1/12,1/12,1/12,1/12,1/12,0,1/12,1/12,1/12],\n",
    "                     '재생가능 자원 및 대체 에너지':[1/10,1/10,1/10,1/10,1/10,1/10,1/10,1/10,1/10,1/10,0,0,0],\n",
    "                     '자원 변환':[1/10,1/10,1/10,1/10,1/10,1/10,1/10,1/10,1/10,1/10,0,0,0],\n",
    "                     '서비스':[1/9,1/9,1/9,1/9,1/9,1/9,1/9,1/9,1/9,0,0,0,0],\n",
    "                     '기술 및 통신':[1/12,1/12,1/12,1/12,1/12,1/12,1/12,1/12,1/12,0,1/12,1/12,1/12],\n",
    "                     '운송':[1/9,1/9,1/9,1/9,1/9,1/9,1/9,1/9,1/9,0,0,0,0]})"
   ]
  },
  {
   "cell_type": "code",
   "execution_count": 11,
   "metadata": {},
   "outputs": [],
   "source": [
    "### key risk : matrix 곱\n",
    "a = [[0 for col in range(12)] for row in range(gkr.shape[0])]\n",
    "for i in range(gkr.shape[0]) :\n",
    "    a[i] = sics[gkr['SICS_Sector_Kr'][i]].tolist()\n",
    "\n",
    "G_grade['G_risk'] = np.diag(np.array(gkr.iloc[:,2:]) @ np.array(a).T)\n",
    "G_grade = G_grade.drop(['감사의견','이사참석률','합계'],axis=1)"
   ]
  },
  {
   "cell_type": "markdown",
   "metadata": {},
   "source": [
    "### Final Governance Data"
   ]
  },
  {
   "cell_type": "code",
   "execution_count": 12,
   "metadata": {},
   "outputs": [],
   "source": [
    "### modeling에 필요한 data split stratified 작업\n",
    "G_group = [0 for col in range(G_grade.shape[0])]\n",
    "for i in range(G_grade.shape[0]) :\n",
    "    if G_grade['G_GRADE'].astype(int)[i] in [1,2,3] :\n",
    "        G_group[i] = \"G1\"\n",
    "    elif G_grade['G_GRADE'].astype(int)[i] in [4,5,6] :\n",
    "        G_group[i] = \"G2\"\n",
    "    elif G_grade['G_GRADE'].astype(int)[i] in [7,8,9] : \n",
    "        G_group[i] = \"G3\"\n",
    "    else : G_group[i] = \"NA\"\n",
    "        \n",
    "G_grade['Stratify'] = G_grade['SICS_Sector_Kr'] + \"_\" + G_group\n",
    "\n",
    "### 최종 데이터 추출\n",
    "G_grade.to_excel(\"C:/Users/user/Desktop/ESG데이터/G_final.xlsx\",index = False)\n",
    "G_grade.to_excel(\"C:/Users/user/Desktop/ESG데이터/ESG/G_final.xlsx\",index = False)\n",
    "G_grade.to_excel(\"C:/Users/user/Desktop/ESG데이터/ESGI/G_final.xlsx\",index = False)\n",
    "G_grade.to_excel(\"C:/Users/user/Desktop/ESG데이터/Tableau/G_final.xlsx\",index = False)"
   ]
  }
 ],
 "metadata": {
  "kernelspec": {
   "display_name": "Python 3 (ipykernel)",
   "language": "python",
   "name": "python3"
  },
  "language_info": {
   "codemirror_mode": {
    "name": "ipython",
    "version": 3
   },
   "file_extension": ".py",
   "mimetype": "text/x-python",
   "name": "python",
   "nbconvert_exporter": "python",
   "pygments_lexer": "ipython3",
   "version": "3.9.12"
  }
 },
 "nbformat": 4,
 "nbformat_minor": 4
}
