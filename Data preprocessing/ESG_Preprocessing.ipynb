{
 "cells": [
  {
   "cell_type": "markdown",
   "id": "f3440ecd",
   "metadata": {},
   "source": [
    "# ESG Data Preprocessing"
   ]
  },
  {
   "cell_type": "code",
   "execution_count": 1,
   "id": "c9270ac9",
   "metadata": {},
   "outputs": [],
   "source": [
    "### package\n",
    "import os \n",
    "import pandas as pd\n",
    "import numpy as np\n",
    "import copy\n",
    "os.chdir(\"C:/Users/user/Desktop/ESG데이터/ESG\")"
   ]
  },
  {
   "cell_type": "code",
   "execution_count": 2,
   "id": "c6f1b8ca",
   "metadata": {},
   "outputs": [],
   "source": [
    "### Data\n",
    "\n",
    "## ESG데이터\n",
    "raw_esg = pd.read_excel(\"ESG_DATA.xlsx\",converters={'종목코드':str})\n",
    "\n",
    "## Environmental\n",
    "E = pd.read_excel(\"E_final.xlsx\",converters={'종목코드':str})\n",
    "\n",
    "## Social\n",
    "S = pd.read_excel(\"S_final.xlsx\",converters={'종목코드':str})\n",
    "\n",
    "## Governance\n",
    "G = pd.read_excel(\"G_final.xlsx\",converters={'종목코드':str})"
   ]
  },
  {
   "cell_type": "code",
   "execution_count": 3,
   "id": "f7d01f23",
   "metadata": {},
   "outputs": [],
   "source": [
    "### 분석대상 key 변수 : 분석대상에서 SBS미디어홀딩스, 에스케이머티리얼즈 제외\n",
    "raw_esg = raw_esg[-raw_esg['종목코드'].isin(['101060','036490'])]\n",
    "esg_data = raw_esg[['종목코드','회사명','SICS_Sector_Kr','ESG_GRADE']]"
   ]
  },
  {
   "cell_type": "markdown",
   "id": "916cfb48",
   "metadata": {},
   "source": [
    "### ESG Total Key Risk"
   ]
  },
  {
   "cell_type": "code",
   "execution_count": 4,
   "id": "4efe1886",
   "metadata": {},
   "outputs": [],
   "source": [
    "esg_tkr = pd.merge(left = esg_data, right = E[['종목코드','E_risk']], how = 'left', on = '종목코드')\n",
    "esg_tkr = pd.merge(left = esg_tkr, right = S[['종목코드','S_risk']], how = 'left', on = '종목코드')\n",
    "esg_tkr = pd.merge(left = esg_tkr, right = G[['종목코드','G_risk']], how = 'left', on = '종목코드')"
   ]
  },
  {
   "cell_type": "code",
   "execution_count": 5,
   "id": "707264df",
   "metadata": {},
   "outputs": [],
   "source": [
    "### weight matrix\n",
    "sics = pd.DataFrame({'소비재':[10/32,13/32,9/32],\n",
    "                     '추출물 및 광물 처리':[22/43,11/43,10/43],\n",
    "                     '금융':[6/30,9/30,15/30],\n",
    "                     '식음료':[20/42,13/42,9/42],\n",
    "                     '헬스케어':[12/38,17/38,9/38],\n",
    "                     '인프라':[15/39,12/39,12/39],\n",
    "                     '재생가능 자원 및 대체 에너지':[19/38,9/38,10/38],\n",
    "                     '자원 변환':[19/43,14/43,10/43],\n",
    "                     '서비스':[10/34,15/34,9/34],\n",
    "                     '기술 및 통신':[16/48,20/48,12/48],\n",
    "                     '운송':[16/37,12/37,9/37]})"
   ]
  },
  {
   "cell_type": "code",
   "execution_count": 6,
   "id": "be520eff",
   "metadata": {},
   "outputs": [],
   "source": [
    "a = [[0 for col in range(12)] for row in range(esg_tkr.shape[0])]\n",
    "for i in range(esg_tkr.shape[0]) :\n",
    "    a[i] = sics[esg_tkr['SICS_Sector_Kr'][i]].tolist()\n",
    "\n",
    "esg_tkr['ESG_risk'] = np.diag(np.array(esg_tkr.iloc[:,4:]) @ np.array(a).T)"
   ]
  },
  {
   "cell_type": "markdown",
   "id": "4c18b7e3",
   "metadata": {},
   "source": [
    "### ESG Data Set"
   ]
  },
  {
   "cell_type": "code",
   "execution_count": 8,
   "id": "42e9972f",
   "metadata": {},
   "outputs": [],
   "source": [
    "esg_data = pd.merge(left = esg_tkr[['종목코드','SICS_Sector_Kr','ESG_GRADE','ESG_risk']], \n",
    "                    right = E[['종목코드','지가경공시','지가경발간','ESG임원비율','ESG채권','환경이사']], how = 'left', on = '종목코드')\n",
    "esg_data = pd.merge(left = esg_data, right = S[['종목코드','여성임원비율']], how = 'left', on = '종목코드')\n",
    "esg_data = esg_data.fillna(0)\n",
    "\n",
    "ESG_GROUP = [0 for col in range(esg_data.shape[0])]\n",
    "for i in range(esg_data.shape[0]) :\n",
    "    if esg_data['ESG_GRADE'].astype(int)[i] in [1,2,3] :\n",
    "        ESG_GROUP[i] = \"G1\"\n",
    "    elif esg_data['ESG_GRADE'].astype(int)[i] in [4,5,6] :\n",
    "        ESG_GROUP[i] = \"G2\"\n",
    "    elif esg_data['ESG_GRADE'].astype(int)[i] in [7,8,9] : \n",
    "        ESG_GROUP[i] = \"G3\"\n",
    "    else : ESG_GROUP[i] = \"NA\"\n",
    "        \n",
    "esg_data['Stratify'] = esg_data['SICS_Sector_Kr'] + \"_\" + ESG_GROUP\n",
    "esg_data.to_excel(\"C:/Users/user/Desktop/ESG데이터/ESG_final.xlsx\",index = False)\n",
    "esg_data.to_excel(\"C:/Users/user/Desktop/ESG데이터/ESGI/ESG_final.xlsx\",index = False)\n",
    "esg_data.to_excel(\"C:/Users/user/Desktop/ESG데이터/Tableau/ESG_final.xlsx\",index = False)"
   ]
  }
 ],
 "metadata": {
  "kernelspec": {
   "display_name": "Python 3 (ipykernel)",
   "language": "python",
   "name": "python3"
  },
  "language_info": {
   "codemirror_mode": {
    "name": "ipython",
    "version": 3
   },
   "file_extension": ".py",
   "mimetype": "text/x-python",
   "name": "python",
   "nbconvert_exporter": "python",
   "pygments_lexer": "ipython3",
   "version": "3.9.12"
  }
 },
 "nbformat": 4,
 "nbformat_minor": 5
}
