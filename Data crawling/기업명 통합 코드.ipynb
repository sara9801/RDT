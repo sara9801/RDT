{
 "cells": [
  {
   "cell_type": "code",
   "execution_count": 1,
   "id": "259e8567",
   "metadata": {},
   "outputs": [],
   "source": [
    "## 에러가 뜰 경우 주석 때문입니다. 지우고 코드를 돌려야 합니다.\n",
    "\n",
    "# !pip install pyperclip==1.8.2\n",
    "# !pip install thefuzz==0.19.0\n",
    "# !pip install requests==2.26.0\n",
    "# !pip install selenium==4.1.0\n",
    "# !pip install more_itertools==8.14.0\n",
    "# !pip install bs4==4.4.1 #: BeautifulSoup 패키지 (만약 에러 뜰 경우 bs4로만 install.)\n",
    "# !pip install html_table_parser #: 웹에서 테이블 추출하는 패키지"
   ]
  },
  {
   "cell_type": "code",
   "execution_count": 6,
   "id": "73c93920",
   "metadata": {},
   "outputs": [],
   "source": [
    "#패키지\n",
    "import os\n",
    "import re\n",
    "import pyperclip\n",
    "import pandas as pd\n",
    "import numpy as np\n",
    "import requests\n",
    "from numpy import nan\n",
    "import time\n",
    "import statistics\n",
    "from thefuzz import fuzz\n",
    "\n",
    "import warnings\n",
    "warnings.filterwarnings(action='ignore')\n",
    "\n",
    "#change working dir.\n",
    "os.chdir('E:/루당탕사라')"
   ]
  },
  {
   "cell_type": "markdown",
   "id": "df30818d",
   "metadata": {},
   "source": [
    "# 기업명 통합 코드\n",
    "기업 관련 데이터를 사용할 때, 데이터 프레임마다 기업명 변수가 제각기일 수 있다. (ex. SKT, 에스케이티)  \n",
    "특히 영어를 사용하는 기업이 이런 경우가 빈번한데, 이는 여러 데이터셋을 merge할 때 여러 문제를 야기할 수 있기 때문에 기업명(영어로 쓰인)을 통합하기 위한 코드를 작성하고자 한다.    \n",
    "\n",
    "순서는 다음과 같다:\n",
    "1. 가능한 기업명 후보군을 최대한 많이 생성한다. (이는 검색 등을 통해 데이터를 크롤링할 때 기업명 표기를 정확하게 사용하지 않으면 기업 정보가 뜨지 않는 경우가 있으므로 여러 후보군을 만들고자 한다.)  \n",
    "    1-a. 영어->한국어로 번역한다.   \n",
    "    1-b. 알파벳->한글발음으로 표기한다.    \n",
    "    1-c. 영어->한글발음으로 표기한다.   \n",
    "  \n",
    "  \n",
    "2. 한 기업 당 최대 3개의 이름이 있는 데이터 프레임을 생성한다.  \n",
    "3. fuzz matching을 사용한 기업명 매칭(ind_name matching) 함수를 생성한다: match_name  \n",
    "4. match_name 함수를 적용하여 데이터프레임의 기업명을 통합한다."
   ]
  },
  {
   "cell_type": "markdown",
   "id": "bc463043",
   "metadata": {},
   "source": [
    "## 함수생성 1: 영어→한국어 번역\n",
    "#### ex) naver -> 네이버로 번역하는 함수\n",
    "- 파파고 API 사용: 아래 주소로 접속하여 파파고 오픈 API 이용 신청하여, 발급된 Client ID, Client Secret을 사용하였다.\n",
    "\n",
    "###### 22.10.14일 기준으로 여전히 API 호출 작동됨."
   ]
  },
  {
   "cell_type": "code",
   "execution_count": 7,
   "id": "d3586934",
   "metadata": {},
   "outputs": [],
   "source": [
    "def get_translate(text):\n",
    "    \n",
    "    client_id = \" \" # Client ID\n",
    "    client_secret = \" \" # Client Secret\n",
    "\n",
    "    data = {'text' : text,\n",
    "            'source' : 'en',\n",
    "            'target': 'ko'}\n",
    "\n",
    "    url = \"https://openapi.naver.com/v1/papago/n2mt\"\n",
    "\n",
    "    header = {\"X-Naver-Client-Id\":client_id,\n",
    "              \"X-Naver-Client-Secret\":client_secret}\n",
    "\n",
    "    response = requests.post(url, headers=header, data=data)\n",
    "    rescode = response.status_code\n",
    "\n",
    "    if(rescode==200):\n",
    "        send_data = response.json()\n",
    "        trans_data = (send_data['message']['result']['translatedText'])\n",
    "        return trans_data\n",
    "    else:\n",
    "        print(\"Error Code:\" , rescode)"
   ]
  },
  {
   "cell_type": "markdown",
   "id": "fb90c6cc",
   "metadata": {},
   "source": [
    "## 함수생성 2. 알파벳→한글표기 변환 함수\n",
    "#### ex. SKT -> 에스케이티로 바꾸는 함수"
   ]
  },
  {
   "cell_type": "code",
   "execution_count": 8,
   "id": "edd3292b",
   "metadata": {},
   "outputs": [],
   "source": [
    "def start_trans(word):\n",
    "    ENGS = ['a', 'A', 'b', 'B', 'c', 'C', 'd', 'D', 'e', 'E', 'f', 'F', 'g', 'G', 'h', 'H', 'i', 'I',\n",
    "            'j', 'J', 'k', 'K', 'l', 'L', 'm', 'M', 'n', 'N', 'o', 'O', 'p', 'P', 'q', 'Q', 'r', 'R',\n",
    "            's', 'S', 't', 'T', 'u', 'U', 'v', 'V', 'w', 'W', 's', 'S', 'x', 'X', 'y', 'Y', 'z', 'Z', '&']\n",
    "    KORS = ['에이', '에이', '비', '비', '씨', '씨', '디', '디', '이', '이', '에프', '에프', '지', '지',\n",
    "            '에이치', '에이치', '아이', '아이', '제이', '제이', '케이', '케이', '엘', '엘', '엠', '엠',\n",
    "            '엔', '엔', '오', '오', '피', '피', '큐', '큐', '알', '알', '에스', '에스', '티', '티',\n",
    "            '유', '유', '브이', '브이', '더블유', '더블유', '에스', '에스', '엑스', '엑스', '와이', '와이', '지', '지', '앤']\n",
    "\n",
    "    trans = dict(zip(ENGS, KORS))\n",
    "    is_english = re.compile('[&a-zA-Z]')\n",
    "    result = ''\n",
    "\n",
    "    for i in word:\n",
    "        temp = is_english.findall(i)\n",
    "        if len(temp)>0:\n",
    "            result = str(result)+str(trans[i])\n",
    "        else:\n",
    "            result = str(result)+str(i)\n",
    "\n",
    "    return(result)"
   ]
  },
  {
   "cell_type": "code",
   "execution_count": 9,
   "id": "66c76ef1",
   "metadata": {},
   "outputs": [
    {
     "name": "stdout",
     "output_type": "stream",
     "text": [
      "새라입니다.\n",
      "에스케이\n"
     ]
    }
   ],
   "source": [
    "# test\n",
    "print(get_translate('Sarah.'))\n",
    "print(start_trans('SK'))"
   ]
  },
  {
   "cell_type": "markdown",
   "id": "7c57ca67",
   "metadata": {},
   "source": [
    "## 함수를 사용한 기업명 변환"
   ]
  },
  {
   "cell_type": "code",
   "execution_count": 13,
   "id": "cb1c6676",
   "metadata": {},
   "outputs": [],
   "source": [
    "code_df = pd.read_excel(\"종목코드.xlsx\", dtype='object') #종목코드 데이터 load\n",
    "name_list = code_df['종목명'] #종목명 list로 추출"
   ]
  },
  {
   "cell_type": "code",
   "execution_count": 14,
   "id": "b0f61312",
   "metadata": {
    "scrolled": true
   },
   "outputs": [
    {
     "name": "stdout",
     "output_type": "stream",
     "text": [
      "100번째 기업 변환 중...\n",
      "200번째 기업 변환 중...\n",
      "300번째 기업 변환 중...\n",
      "400번째 기업 변환 중...\n",
      "500번째 기업 변환 중...\n",
      "600번째 기업 변환 중...\n",
      "700번째 기업 변환 중...\n",
      "800번째 기업 변환 중...\n",
      "900번째 기업 변환 중...\n",
      "변환 종료.\n"
     ]
    }
   ],
   "source": [
    "translate_name = []\n",
    "ko_name = []\n",
    "\n",
    "trans_name = []\n",
    "hangul = re.compile('[가-힣]+')\n",
    "\n",
    "for i, name in enumerate(name_list):\n",
    "    i+=1\n",
    "    if (i % 100) == 0: print(str(i)+'번째 기업 변환 중...')\n",
    "    if i==len(name_list): print('변환 종료.')\n",
    "    \n",
    "    #한글로 시작하는가? (한글로 시작하는 단어들은 파파고를 돌릴 필요가 없다.)\n",
    "    ## 예외: NICE (좋아. 라고 번역되므로 직접 나이스로 수정하였다.)\n",
    "    if len(hangul.findall(name[0]))>0:\n",
    "        \n",
    "        translate_name.append(name) \n",
    "        ko_name.append(start_trans(name))\n",
    "        trans_name.append(start_trans(name))\n",
    "    \n",
    "    #만약 영어로 시작한다면 파파고 번역을 거친다.\n",
    "    else: \n",
    "        new_name = get_translate(name)\n",
    "        translate_name.append(new_name)\n",
    "        ko_name.append(start_trans(name))\n",
    "        trans_name.append(start_trans(new_name))"
   ]
  },
  {
   "cell_type": "markdown",
   "id": "15a0a404",
   "metadata": {},
   "source": [
    "## 파일 생성 1: industry_name_최종.csv\n",
    "#### 기업명 매칭 기준 1이 되는 파일"
   ]
  },
  {
   "cell_type": "code",
   "execution_count": 15,
   "id": "fd30a9d5",
   "metadata": {},
   "outputs": [
    {
     "name": "stdout",
     "output_type": "stream",
     "text": [
      "     name translate_name   ko_name trans_name\n",
      "0  AJ네트웍스         AJ네트웍스  에이제이네트웍스   에이제이네트웍스\n",
      "1   AK홀딩스          AK홀딩스   에이케이홀딩스    에이케이홀딩스\n",
      "2   AP시스템          AP시스템    에이피시스템     에이피시스템\n",
      "3     BGF            BGF      비지에프       비지에프\n",
      "4  BGF리테일         BGF리테일   비지에프리테일    비지에프리테일\n"
     ]
    }
   ],
   "source": [
    "industry_name = pd.DataFrame({'name':name_list, 'translate_name':translate_name, 'ko_name':ko_name, 'trans_name':trans_name})\n",
    "print(industry_name.head())\n",
    "\n",
    "industry_name.to_csv(\"E:/루당탕사라/기업명매칭/industry_name.csv\", index=None, encoding=\"cp949\")"
   ]
  },
  {
   "cell_type": "markdown",
   "id": "7d5e4584",
   "metadata": {},
   "source": [
    "총 3개의 col이 형성되었다. 이 데이터 프레임은 앞으로 기업명을 검색하거나 매칭할 때 사용될 것이다.  \n",
    "추가 작업: 파일을 열고 직접 기업명을 확인하며 잘못 변환된 것을 수정하고 추가적인 기업명 후보군을 삽입하였다.\n",
    "\n",
    "##### [예시]\n",
    "- E1: 이원\n",
    "- 브이: 비 (티브이, 시지브이)\n",
    "- N은 엔이라고 발음되기도 하지만 앤이라고도 한다."
   ]
  },
  {
   "cell_type": "markdown",
   "id": "9a73176e",
   "metadata": {},
   "source": [
    "-----"
   ]
  },
  {
   "cell_type": "markdown",
   "id": "ea2e8376",
   "metadata": {},
   "source": [
    "## 파일 생성 2: ind_name_with_CODE.xlsx\n",
    "industry_name_최종.csv을 수정하여 생성하였다."
   ]
  },
  {
   "cell_type": "markdown",
   "id": "f2b68e5d",
   "metadata": {},
   "source": [
    "기준 기업명에 대해, translate_name, ko_name, trans_name을 중복 없이 모두 하나의 column에 삽입하고자 한다. (효율을 위함)  \n",
    "또한 종목코드를 포함하여 전처리의 편의를 높이고자 했다.  \n",
    "index column도 생성하여 기준 기업명의 위치를 unique하게 구분할 때 사용하였다."
   ]
  },
  {
   "cell_type": "code",
   "execution_count": 14,
   "id": "edf69e30",
   "metadata": {
    "scrolled": true
   },
   "outputs": [
    {
     "data": {
      "text/html": [
       "<div>\n",
       "<style scoped>\n",
       "    .dataframe tbody tr th:only-of-type {\n",
       "        vertical-align: middle;\n",
       "    }\n",
       "\n",
       "    .dataframe tbody tr th {\n",
       "        vertical-align: top;\n",
       "    }\n",
       "\n",
       "    .dataframe thead th {\n",
       "        text-align: right;\n",
       "    }\n",
       "</style>\n",
       "<table border=\"1\" class=\"dataframe\">\n",
       "  <thead>\n",
       "    <tr style=\"text-align: right;\">\n",
       "      <th></th>\n",
       "      <th>name</th>\n",
       "      <th>translate_name</th>\n",
       "      <th>ko_name</th>\n",
       "      <th>trans_name</th>\n",
       "    </tr>\n",
       "  </thead>\n",
       "  <tbody>\n",
       "    <tr>\n",
       "      <th>0</th>\n",
       "      <td>흥아해운</td>\n",
       "      <td>흥아해운</td>\n",
       "      <td>흥아해운</td>\n",
       "      <td>흥아해운</td>\n",
       "    </tr>\n",
       "    <tr>\n",
       "      <th>1</th>\n",
       "      <td>흥국화재</td>\n",
       "      <td>흥국화재</td>\n",
       "      <td>흥국화재</td>\n",
       "      <td>흥국화재</td>\n",
       "    </tr>\n",
       "    <tr>\n",
       "      <th>2</th>\n",
       "      <td>휴켐스</td>\n",
       "      <td>휴켐스</td>\n",
       "      <td>휴켐스</td>\n",
       "      <td>휴켐스</td>\n",
       "    </tr>\n",
       "    <tr>\n",
       "      <th>3</th>\n",
       "      <td>휴젤</td>\n",
       "      <td>휴젤</td>\n",
       "      <td>휴젤</td>\n",
       "      <td>휴젤</td>\n",
       "    </tr>\n",
       "    <tr>\n",
       "      <th>4</th>\n",
       "      <td>휴온스</td>\n",
       "      <td>휴온스</td>\n",
       "      <td>휴온스</td>\n",
       "      <td>휴온스</td>\n",
       "    </tr>\n",
       "  </tbody>\n",
       "</table>\n",
       "</div>"
      ],
      "text/plain": [
       "   name translate_name ko_name trans_name\n",
       "0  흥아해운           흥아해운    흥아해운       흥아해운\n",
       "1  흥국화재           흥국화재    흥국화재       흥국화재\n",
       "2   휴켐스            휴켐스     휴켐스        휴켐스\n",
       "3    휴젤             휴젤      휴젤         휴젤\n",
       "4   휴온스            휴온스     휴온스        휴온스"
      ]
     },
     "execution_count": 14,
     "metadata": {},
     "output_type": "execute_result"
    }
   ],
   "source": [
    "ind_name = pd.read_csv('E:/루당탕사라/기업명매칭/industry_name_최종.csv', encoding='ANSI')\n",
    "ind_name.head()"
   ]
  },
  {
   "cell_type": "code",
   "execution_count": 15,
   "id": "33093f0d",
   "metadata": {},
   "outputs": [],
   "source": [
    "result = pd.DataFrame({'index':pd.Series(dtype='int'), 'name':[], 'trans_name':[]})\n",
    "\n",
    "for index, row in ind_name.iterrows():\n",
    "    row_set  = set(row)\n",
    "    row_set.discard(np.nan)\n",
    "    for trans_name in list(row_set):\n",
    "        result.loc[len(result)] = [int(index), row[0], trans_name]"
   ]
  },
  {
   "cell_type": "code",
   "execution_count": 16,
   "id": "2ab76088",
   "metadata": {},
   "outputs": [],
   "source": [
    "# csv 파일에 종목코드 merge \n",
    "\n",
    "result = pd.merge(code_df, result, how='right', right_on='name', left_on='종목명')\n",
    "result.drop('종목명', axis=1, inplace=True)\n",
    "\n",
    "result.to_excel(\"E:/루당탕사라/기업명매칭/ind_name_with_CODE.xlsx\", index=None, encoding=\"cp949\")"
   ]
  },
  {
   "cell_type": "markdown",
   "id": "c0497177",
   "metadata": {},
   "source": [
    "------------------------------"
   ]
  },
  {
   "cell_type": "markdown",
   "id": "bf17a7ed",
   "metadata": {},
   "source": [
    "# ind_name matching 함수 정의\n",
    "위에서 생성한 파일을 이용해 ind_name을 matching 하는 함수를 생성한다.: match_name\n",
    "\n",
    "\n",
    "이 matching 함수는 따로 .py 파일로 저장하지 않고 코드를 직접 옮겨 사용한다. 그 이유는 데이터 특성에 맞춰 조금씩 코드를 수정해야 하는 상황이 발생했기 때문이다. 따라서 아래 코드는 다른 크롤링 및 전처리 코드 파일에 많이 등장할 예정이다. "
   ]
  },
  {
   "cell_type": "code",
   "execution_count": 11,
   "id": "81b5ff79",
   "metadata": {},
   "outputs": [],
   "source": [
    "# 기업명-matching에 필요한 함수 정의\n",
    "\n",
    "def match_name(file, col_name, file_type='excel', sheet_num=0):\n",
    "    \n",
    "    #기업명 csv 불러오기 (기준 파일)\n",
    "    ind_name = pd.read_excel(\"기업명매칭/ind_name_with_CODE.xlsx\", dtype='object')\n",
    "    \n",
    "    # 0. Load data file.\n",
    "    if file_type == 'excel':\n",
    "        data = pd.read_excel(file, sheet_name = sheet_num)\n",
    "    \n",
    "    elif file_type == 'csv':\n",
    "        data = pd.read_csv(file, encoding='cp949')\n",
    "    \n",
    "    else:\n",
    "        raise Exception(\"file_type must be 'excel' or 'csv'.\")\n",
    "    \n",
    "    \n",
    "    # 1. Put columns = [CODE, 실제 기업명(=ind_name)]\n",
    "    data.insert(0, '종목코드', -1)\n",
    "    data.insert(1, '회사명', -1)\n",
    "      ## -1 = 해당 업체명은 우리가 가진 상장기업들에 속하지 않는 이름입니다.\n",
    "    \n",
    "    # 2. (주), 주식회사 등 불필요한 단어를 기준으로 split하고 다시 이어붙인다.\n",
    "    ##필요에 따라 본부, 공장 등의 불필요한 단어를 포함한 단어들을 제거한다. (삭제 단어목록: remove_word)\n",
    "    new_list = []\n",
    "    remove_word = ['본부', '공장', '사업장', '캠퍼스', '발전소', '발전처']\n",
    "    \n",
    "    for name in data[col_name]:\n",
    "        name = [i for i in re.split('\\(주\\)|㈜| |\\xa0|주식회사', name) if not i==\"\"]\n",
    "        if len(name) > 1:\n",
    "            new_list.append(''.join([x for x in name if not any(word in x for word in remove_word)]))\n",
    "        else:\n",
    "            new_list.append(name[0])\n",
    "    \n",
    "    # 4. 그렇게 생성된 name_list와 우리가 가진 기업명(ind_name)을 매칭하여 기업명을 부여한다.\n",
    "    \n",
    "        ## 매칭은 다음과 같은 단계로 이루어진다.\n",
    "        # Step 0. name_list의 i번째 이름에 대해, 우리가 가진 모든 기업명(변환된 기업명 포함)과의 매칭 점수를 구한다: score\n",
    "        \n",
    "        # Step 1. name_list의 i번째 이름(=환경정보공개시스템의 각 사업장 명)에 대해, 포함되는 ind_name을 가져온다.\n",
    "        #        (ex. name_list의 i번째 이름: '포스코 포천 사업장' => 결과값: 'POSCO')\n",
    "        \n",
    "        # Step 2. 만약 포함되는 ind_name이 1개라면 그값이 최종적으로 매칭된 기업명이 된다. (매칭 종료.)\n",
    "        #        포함되는 ind_name이 0개라면 대상 기업명이 아니라고 간주하여 pass한다. (매칭 종료, -1 유지.)\n",
    "        #       그러나 포함되는 ind_name이 2개 이상이라면, Step 3으로 이동한다.\n",
    "        \n",
    "        # Step 3. 포함되는 inde_name 중에서 가장  큰 매칭 점수(score)를 가지는 ind_name을 반환한다. (매칭 종료.)\n",
    "    \n",
    "    \n",
    "    for i, name in enumerate(new_list):\n",
    "    \n",
    "        ## 매칭 점수 부여 (using fuzz matching: token_sort, token_set_ratio)\n",
    "        score = [fuzz.token_sort_ratio(name, key) for key in ind_name['trans_name']]\n",
    "        ## 해당 기업명이 ind_name 중에 하나를 포함하는지의 여부 \n",
    "        contain_index = [row[0] for row in ind_name.iterrows() if row[1]['trans_name'] in name]\n",
    "        contain_name = [key for key in ind_name['trans_name'] if key in name]\n",
    "\n",
    "        if len(contain_name) == 1: ## 포함 기준으로 가져온다.\n",
    "            data.loc[i, '종목코드'] = ind_name.loc[contain_index[0], 'CODE']\n",
    "            data.loc[i, '회사명'] = ind_name.loc[contain_index[0], 'name']\n",
    "\n",
    "        elif len(contain_name) == 0: ## 만약 포함되는 단어가 없을 경우, pass. (기업명 없다고 간주)\n",
    "            continue\n",
    "\n",
    "        else: ## 만약 여러개 ind_name을 포함할 경우, 그 중 가장 큰 score를 준 ind_name을 부여한다.\n",
    "            score = [score[x] for x in contain_index]\n",
    "            data.loc[i, '종목코드'] = ind_name['CODE'][contain_index[score.index(max(score))]]\n",
    "            data.loc[i, '회사명'] = ind_name['name'][contain_index[score.index(max(score))]]\n",
    "\n",
    "    return(data)"
   ]
  },
  {
   "cell_type": "markdown",
   "id": "b981a5f0",
   "metadata": {},
   "source": [
    "# 실데이터에 함수 적용"
   ]
  },
  {
   "cell_type": "markdown",
   "id": "596a6ac4",
   "metadata": {},
   "source": [
    "## 환경 데이터"
   ]
  },
  {
   "cell_type": "code",
   "execution_count": 36,
   "id": "fb9c6646",
   "metadata": {},
   "outputs": [],
   "source": [
    "start = time.time()\n",
    "file_name = '환경마크인증_2020.xlsx'\n",
    "data = match_name(file = \"기업명매칭/기업명매칭 전/\"+file_name, col_name='업체명', file_type='excel', sheet_num=1)\n",
    "data.to_excel(\"기업명매칭/기업명매칭 후/\"+file_name, index=None, encoding='cp949')\n",
    "print(\"time :\", time.time() - start)"
   ]
  },
  {
   "cell_type": "code",
   "execution_count": 37,
   "id": "f656a98f",
   "metadata": {},
   "outputs": [
    {
     "name": "stdout",
     "output_type": "stream",
     "text": [
      "time : 5204.602179050446\n"
     ]
    }
   ],
   "source": [
    "start = time.time()\n",
    "file_name = '환경마크인증_2021.xlsx'\n",
    "data = match_name(file = \"기업명매칭/기업명매칭 전/\"+file_name, col_name='업체명', file_type='excel', sheet_num=0)\n",
    "data.to_excel(\"기업명매칭/기업명매칭 후/\"+file_name, index=None, encoding='cp949')\n",
    "print(\"time :\", time.time() - start)"
   ]
  },
  {
   "cell_type": "code",
   "execution_count": 23,
   "id": "a120f59a",
   "metadata": {
    "scrolled": true
   },
   "outputs": [
    {
     "name": "stdout",
     "output_type": "stream",
     "text": [
      "time : 57.75535774230957\n"
     ]
    }
   ],
   "source": [
    "start = time.time()\n",
    "file_name = 'NGMS온실가스_2020.xlsx'\n",
    "data = match_name(file = \"기업명매칭/기업명매칭 전/\"+file_name, col_name='관리업체', file_type='excel', sheet_num=1)\n",
    "data.to_excel(\"기업명매칭/기업명매칭 후/\"+file_name, index=None, encoding='cp949')\n",
    "print(\"time :\", time.time() - start)"
   ]
  },
  {
   "cell_type": "code",
   "execution_count": 25,
   "id": "563b5e2b",
   "metadata": {},
   "outputs": [
    {
     "name": "stdout",
     "output_type": "stream",
     "text": [
      "time : 58.67118978500366\n"
     ]
    }
   ],
   "source": [
    "start = time.time()\n",
    "file_name = 'NGMS온실가스_2021.xlsx'\n",
    "data = match_name(file = \"기업명매칭/기업명매칭 전/\"+file_name, col_name='관리업체', file_type='excel', sheet_num=1)\n",
    "data.to_excel(\"기업명매칭/기업명매칭 후/\"+file_name, index=None, encoding='cp949')\n",
    "print(\"time :\", time.time() - start)"
   ]
  },
  {
   "cell_type": "code",
   "execution_count": 32,
   "id": "d7bb5282",
   "metadata": {},
   "outputs": [
    {
     "name": "stdout",
     "output_type": "stream",
     "text": [
      "time : 5.565138816833496\n"
     ]
    }
   ],
   "source": [
    "start = time.time()\n",
    "file_name = '환경부녹색기업3y.xlsx'\n",
    "data = match_name(file = \"기업명매칭/기업명매칭 전/\"+file_name, col_name='기업명')\n",
    "data.to_excel(\"기업명매칭/기업명매칭 후/\"+file_name, index=None, encoding='cp949')\n",
    "print(\"time :\", time.time() - start)"
   ]
  },
  {
   "cell_type": "code",
   "execution_count": 33,
   "id": "d3f5a05b",
   "metadata": {},
   "outputs": [
    {
     "name": "stdout",
     "output_type": "stream",
     "text": [
      "time : 73.48806953430176\n"
     ]
    }
   ],
   "source": [
    "start = time.time()\n",
    "file_name = '환경성적표지인증_2020.xlsx'\n",
    "data = match_name(file = \"기업명매칭/기업명매칭 전/\"+file_name, col_name='기업명')\n",
    "data.to_excel(\"기업명매칭/기업명매칭 후/\"+file_name, index=None, encoding='cp949')\n",
    "print(\"time :\", time.time() - start)"
   ]
  },
  {
   "cell_type": "code",
   "execution_count": 34,
   "id": "ad446f8f",
   "metadata": {},
   "outputs": [
    {
     "name": "stdout",
     "output_type": "stream",
     "text": [
      "time : 81.37743544578552\n"
     ]
    }
   ],
   "source": [
    "start = time.time()\n",
    "file_name = '환경성적표지인증_2021.xlsx'\n",
    "data = match_name(file = \"기업명매칭/기업명매칭 전/\"+file_name, col_name='기업명')\n",
    "data.to_excel(\"기업명매칭/기업명매칭 후/\"+file_name, index=None, encoding='cp949')\n",
    "print(\"time :\", time.time() - start)"
   ]
  },
  {
   "cell_type": "code",
   "execution_count": 35,
   "id": "1fe40767",
   "metadata": {},
   "outputs": [
    {
     "name": "stdout",
     "output_type": "stream",
     "text": [
      "time : 61.47468638420105\n"
     ]
    }
   ],
   "source": [
    "start = time.time()\n",
    "file_name = '환경법규위반_2021.xlsx'\n",
    "data = match_name(file = \"기업명매칭/기업명매칭 전/\"+file_name, col_name='기업명')\n",
    "data.to_excel(\"기업명매칭/기업명매칭 후/\"+file_name, index=None, encoding='cp949')\n",
    "print(\"time :\", time.time() - start)"
   ]
  },
  {
   "cell_type": "code",
   "execution_count": 7,
   "id": "ab2b6014",
   "metadata": {},
   "outputs": [
    {
     "name": "stdout",
     "output_type": "stream",
     "text": [
      "time : 34.729243993759155\n"
     ]
    }
   ],
   "source": [
    "start = time.time()\n",
    "file_name = 'CLEANSYS대기오염물질_2020.xlsx'\n",
    "data = match_name(file = \"기업명매칭/기업명매칭 전/\"+file_name, col_name='사업장명')\n",
    "data.to_excel(\"기업명매칭/기업명매칭 후/\"+file_name, index=None, encoding='cp949')\n",
    "print(\"time :\", time.time() - start)"
   ]
  },
  {
   "cell_type": "code",
   "execution_count": 29,
   "id": "5ae31d84",
   "metadata": {},
   "outputs": [
    {
     "name": "stdout",
     "output_type": "stream",
     "text": [
      "time : 45.099130392074585\n"
     ]
    }
   ],
   "source": [
    "start = time.time()\n",
    "file_name = 'CLEANSYS대기오염물질_2021.xlsx'\n",
    "data = match_name(file = \"기업명매칭/기업명매칭 전/\"+file_name, col_name='사업장명')\n",
    "data.to_excel(\"기업명매칭/기업명매칭 후/\"+file_name, index=None, encoding='cp949')\n",
    "print(\"time :\", time.time() - start)"
   ]
  },
  {
   "cell_type": "markdown",
   "id": "2ab0ed67",
   "metadata": {},
   "source": [
    "### 환경데이터: 데이터 병합"
   ]
  },
  {
   "cell_type": "code",
   "execution_count": 30,
   "id": "3d487ddb",
   "metadata": {},
   "outputs": [],
   "source": [
    "df1 = pd.read_excel(\"기업명매칭/기업명매칭 후/CLEANSYS대기오염물질_2020.xlsx\")\n",
    "df2 = pd.read_excel(\"기업명매칭/기업명매칭 후/CLEANSYS대기오염물질_2021.xlsx\")\n",
    "\n",
    "df = pd.concat([df1, df2])\n",
    "df.to_excel('기업명매칭/기업명매칭 후/대기오염물질2y_2021.xlsx', index=None, encoding='cp949')"
   ]
  },
  {
   "cell_type": "code",
   "execution_count": 26,
   "id": "8a62a3c0",
   "metadata": {},
   "outputs": [],
   "source": [
    "df1 = pd.read_excel(\"기업명매칭/기업명매칭 후/NGMS온실가스_2020.xlsx\")\n",
    "df2 = pd.read_excel(\"기업명매칭/기업명매칭 후/NGMS온실가스_2021.xlsx\")\n",
    "\n",
    "df = pd.concat([df1, df2])\n",
    "df.to_excel('기업명매칭/기업명매칭 후/온실가스2y_2021.xlsx', index=None, encoding='cp949')"
   ]
  },
  {
   "cell_type": "code",
   "execution_count": 38,
   "id": "93f4de0e",
   "metadata": {},
   "outputs": [],
   "source": [
    "df1 = pd.read_excel(\"기업명매칭/기업명매칭 후/환경마크인증_2020.xlsx\")\n",
    "df2 = pd.read_excel(\"기업명매칭/기업명매칭 후/환경마크인증_2021.xlsx\")\n",
    "\n",
    "df = pd.concat([df1, df2])\n",
    "df.to_excel('기업명매칭/기업명매칭 후/환경마크인증2y_2021.xlsx', index=None, encoding='cp949')"
   ]
  },
  {
   "cell_type": "markdown",
   "id": "c0d16b8a",
   "metadata": {},
   "source": [
    "## 사회 데이터"
   ]
  },
  {
   "cell_type": "code",
   "execution_count": 14,
   "id": "b4febbb2",
   "metadata": {},
   "outputs": [
    {
     "name": "stdout",
     "output_type": "stream",
     "text": [
      "time : 11.135126113891602\n"
     ]
    }
   ],
   "source": [
    "start = time.time()\n",
    "file_name = '소비자중심경영인증기업.csv'\n",
    "data = match_name(file = \"기업명매칭/기업명매칭 전/\"+file_name, col_name='법인명', file_type='csv')\n",
    "data.to_excel(\"기업명매칭/기업명매칭 후/소비자중심경영인증기업_2021.xlsx\", index=None, encoding='cp949')\n",
    "print(\"time :\", time.time() - start)"
   ]
  },
  {
   "cell_type": "code",
   "execution_count": 15,
   "id": "2b503a86",
   "metadata": {},
   "outputs": [
    {
     "name": "stdout",
     "output_type": "stream",
     "text": [
      "time : 18.340946197509766\n"
     ]
    }
   ],
   "source": [
    "start = time.time()\n",
    "file_name = '한국사회복지협의회_지역사회공헌 인정기업기관_20220131.csv'\n",
    "data = match_name(file = \"기업명매칭/기업명매칭 전/\"+file_name, col_name='기관명', file_type='csv')\n",
    "data.to_excel(\"기업명매칭/기업명매칭 후/지역사회공헌인증_2021.xlsx\", index=None, encoding='cp949')\n",
    "print(\"time :\", time.time() - start)"
   ]
  },
  {
   "cell_type": "markdown",
   "id": "de44b11e",
   "metadata": {},
   "source": [
    "#### 이렇게 생성된 파일들은 모두 기업명 매칭이 잘 되었는지 확인되었으며, 매칭이 잘 안된 기업은 수기로 변경해주었다."
   ]
  }
 ],
 "metadata": {
  "kernelspec": {
   "display_name": "Python 3 (ipykernel)",
   "language": "python",
   "name": "python3"
  },
  "language_info": {
   "codemirror_mode": {
    "name": "ipython",
    "version": 3
   },
   "file_extension": ".py",
   "mimetype": "text/x-python",
   "name": "python",
   "nbconvert_exporter": "python",
   "pygments_lexer": "ipython3",
   "version": "3.8.8"
  }
 },
 "nbformat": 4,
 "nbformat_minor": 5
}
