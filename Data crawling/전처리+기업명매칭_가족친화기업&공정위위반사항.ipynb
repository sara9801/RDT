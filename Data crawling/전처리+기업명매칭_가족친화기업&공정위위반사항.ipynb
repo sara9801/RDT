{
 "cells": [
  {
   "cell_type": "markdown",
   "id": "7b725a5e",
   "metadata": {},
   "source": [
    "## Import package"
   ]
  },
  {
   "cell_type": "code",
   "execution_count": 1,
   "id": "1f0a4b88",
   "metadata": {},
   "outputs": [],
   "source": [
    "#기본 패키지들\n",
    "import time\n",
    "import warnings\n",
    "import pyperclip\n",
    "import pandas as pd\n",
    "import numpy as np\n",
    "from numpy import nan\n",
    "from collections import Counter\n",
    "from more_itertools import locate\n",
    "\n",
    "#정규표현식\n",
    "import re\n",
    "import string\n",
    "\n",
    "#change working dir.\n",
    "import os\n",
    "os.chdir('E:/루당탕사라')"
   ]
  },
  {
   "cell_type": "markdown",
   "id": "fdc17f2f",
   "metadata": {},
   "source": [
    "# 데이터 1: 가족친화기업 데이터"
   ]
  },
  {
   "cell_type": "markdown",
   "id": "73a3c078",
   "metadata": {},
   "source": [
    "## 기업명 매칭 준비\n",
    "\n",
    "기업명 매칭 방식이 제대로 구축되지 않은 상황에서 기업명 매칭을 진행하였다. (사용 파일: industry_name_최종.csv)  \n",
    "따라서 아래의 코드는 가장 compact한 매칭 방식이 아니다. (이후 잘못 매칭된 데이터는 직접 손핸들링을 거쳐 수정하였다.)"
   ]
  },
  {
   "cell_type": "markdown",
   "id": "68683f1e",
   "metadata": {},
   "source": [
    "### industry_name 데이터 불러오기\n",
    ": 기업명 매칭을 위한 기준 파일 (1) = industry_name_최종.csv"
   ]
  },
  {
   "cell_type": "code",
   "execution_count": 2,
   "id": "1f878eeb",
   "metadata": {},
   "outputs": [],
   "source": [
    "name_df = pd.read_csv('기업명매칭/industry_name_최종.csv', encoding='ANSI')\n",
    "name = name_df.values.tolist() #각 행이 한 리스트에 담긴 이중리스트로 변환\n",
    "\n",
    "# 이중리스트 안의 리스트 값을 for문을 거쳐 수정.\n",
    "non_name = []\n",
    "for roop_list in name:\n",
    "    roop_set = set(roop_list) #중복값 제거\n",
    "    roop_set.discard(np.nan) #na 제거\n",
    "    roop_list = list(roop_set) #set -> list\n",
    "    non_name.append(roop_list) #최종 결과 다시 이중 리스트로 저장."
   ]
  },
  {
   "cell_type": "markdown",
   "id": "62f753f3",
   "metadata": {},
   "source": [
    "### 가족친화인증기업 불러오기\n",
    ": 기준 csv파일을 통해 기업명을 할당받을 데이터"
   ]
  },
  {
   "cell_type": "code",
   "execution_count": 4,
   "id": "3988a11a",
   "metadata": {
    "scrolled": true
   },
   "outputs": [
    {
     "data": {
      "text/html": [
       "<div>\n",
       "<style scoped>\n",
       "    .dataframe tbody tr th:only-of-type {\n",
       "        vertical-align: middle;\n",
       "    }\n",
       "\n",
       "    .dataframe tbody tr th {\n",
       "        vertical-align: top;\n",
       "    }\n",
       "\n",
       "    .dataframe thead th {\n",
       "        text-align: right;\n",
       "    }\n",
       "</style>\n",
       "<table border=\"1\" class=\"dataframe\">\n",
       "  <thead>\n",
       "    <tr style=\"text-align: right;\">\n",
       "      <th></th>\n",
       "      <th>연번</th>\n",
       "      <th>기업(관)명</th>\n",
       "      <th>분류</th>\n",
       "      <th>지역</th>\n",
       "    </tr>\n",
       "  </thead>\n",
       "  <tbody>\n",
       "    <tr>\n",
       "      <th>0</th>\n",
       "      <td>1</td>\n",
       "      <td>(주)대웅제약</td>\n",
       "      <td>대기업</td>\n",
       "      <td>서울</td>\n",
       "    </tr>\n",
       "    <tr>\n",
       "      <th>1</th>\n",
       "      <td>2</td>\n",
       "      <td>교보생명보험(주)</td>\n",
       "      <td>대기업</td>\n",
       "      <td>서울</td>\n",
       "    </tr>\n",
       "    <tr>\n",
       "      <th>2</th>\n",
       "      <td>3</td>\n",
       "      <td>유한킴벌리(주)</td>\n",
       "      <td>대기업</td>\n",
       "      <td>서울</td>\n",
       "    </tr>\n",
       "    <tr>\n",
       "      <th>3</th>\n",
       "      <td>4</td>\n",
       "      <td>건강보험심사평가원</td>\n",
       "      <td>공공기관</td>\n",
       "      <td>강원</td>\n",
       "    </tr>\n",
       "    <tr>\n",
       "      <th>4</th>\n",
       "      <td>5</td>\n",
       "      <td>국민건강보험공단</td>\n",
       "      <td>공공기관</td>\n",
       "      <td>강원</td>\n",
       "    </tr>\n",
       "  </tbody>\n",
       "</table>\n",
       "</div>"
      ],
      "text/plain": [
       "   연번     기업(관)명    분류  지역\n",
       "0   1    (주)대웅제약   대기업  서울\n",
       "1   2  교보생명보험(주)   대기업  서울\n",
       "2   3   유한킴벌리(주)   대기업  서울\n",
       "3   4  건강보험심사평가원  공공기관  강원\n",
       "4   5   국민건강보험공단  공공기관  강원"
      ]
     },
     "execution_count": 4,
     "metadata": {},
     "output_type": "execute_result"
    }
   ],
   "source": [
    "FF = pd.read_csv('S crawling/여성가족부_가족친화인증기업 현황_20211231.csv', encoding='ANSI')\n",
    "comp = FF['기업(관)명'].tolist()\n",
    "\n",
    "FF.head()"
   ]
  },
  {
   "cell_type": "code",
   "execution_count": 6,
   "id": "c87497d5",
   "metadata": {
    "scrolled": true
   },
   "outputs": [],
   "source": [
    "# 전처리하는 함수 정의\n",
    "## [참고] (주), 주식회사에 대한 replace는 csv파일을 직접 확인한 뒤 필요없는 단어를 삭제해야겠다고 판단하여 추가한 코드다.\n",
    "## [참고2] 함수 prep_text를 정의해주며 'pattern_punctuation = re.compile(r'[^\\w]')'도 정의한다.\n",
    "            ## pattern_punctuation는 한번만 정의해주면 되므로 함수 정의와 함께 코드를 돌려주었다.\n",
    "\n",
    "pattern_punctuation = re.compile(r'[^\\w]') #특수문자 정의\n",
    "\n",
    "def prep_text1(string):\n",
    "    new_string = string.replace('(주)', '').replace('주식회사', '')\n",
    "    new_string = pattern_punctuation.sub('', new_string) #특수문자 모두 제거\n",
    "    return new_string\n",
    "\n",
    "non_comp = [prep_text1(a) for a in comp] #데이터의 기업(관)명 전처리"
   ]
  },
  {
   "cell_type": "code",
   "execution_count": 17,
   "id": "852c506f",
   "metadata": {},
   "outputs": [],
   "source": [
    "# 결과값 담을 DF 정의\n",
    "df1 = pd.DataFrame({'가족친화기업명': [], '회사명':[]})\n",
    "\n",
    "# 기업명 할당 시작.\n",
    "for index, x in enumerate(non_comp):\n",
    "    new_list=[-1, -1]\n",
    "    \n",
    "    for i, y in enumerate(non_name):\n",
    "        for z in y:\n",
    "            z = pattern_punctuation.sub('', z) #특수문자 제거\n",
    "            result = x.find(z)\n",
    "            \n",
    "            if not result == -1:\n",
    "                new_list[0] = x\n",
    "                new_list[1] = name[i][0]\n",
    "                break\n",
    "        \n",
    "    if not new_list[0] == -1:\n",
    "        df1.loc[index] = new_list"
   ]
  },
  {
   "cell_type": "markdown",
   "id": "448a42c8",
   "metadata": {},
   "source": [
    "### df1에 종목코드 삽입 (df1와 corp merge)"
   ]
  },
  {
   "cell_type": "code",
   "execution_count": 18,
   "id": "57aa41f0",
   "metadata": {
    "scrolled": true
   },
   "outputs": [],
   "source": [
    "corp = pd.read_excel(\"종목코드.xlsx\", dtype='object')\n",
    "\n",
    "FF_df = pd.merge(df1, corp[['종목코드', '종목명']], how='left', left_on='회사명', right_on='종목명')\n",
    "FF_df.drop('종목명', axis=1, inplace=True)\n",
    "\n",
    "# 최종 결과 저장\n",
    "\n",
    "FF_df.to_excel(\"S crawling/result/가족친화인증기업_2021.xlsx\", index=None, encoding=\"cp949\")"
   ]
  },
  {
   "cell_type": "markdown",
   "id": "f25e563d",
   "metadata": {},
   "source": [
    "최종적으로 할당된 기업명은 팀 내에서 직접 파일을 열어 제대로 매칭되었는지 확인하며 수정작업을 거쳤다."
   ]
  },
  {
   "cell_type": "markdown",
   "id": "e70a47a0",
   "metadata": {},
   "source": [
    "--------"
   ]
  },
  {
   "cell_type": "markdown",
   "id": "69259587",
   "metadata": {},
   "source": [
    "# 데이터 2: 공정위위반사항\n",
    "##### Goal : 조치유형 개수 세기"
   ]
  },
  {
   "cell_type": "markdown",
   "id": "9d0f227e",
   "metadata": {},
   "source": [
    "### 공정위위반사항.csv 파일 불러오기\n",
    ": 기준 csv파일을 통해 기업명을 할당받을 데이터 \n",
    "\n",
    "[NOTE] 공정위위반사항.csv은 공정위위반사항 웹사이트에서 직접 드래그하여 저장된 엑셀 파일이다.  \n",
    "[NOTE 2] 검색어 설정: 연도=2021,표시할 기업 인덱스 수=전체 \n",
    "\n",
    "https://case.ftc.go.kr/ocp/co/violtLawList.do;jsessionid=ClyzLAsY+hITWuXhUKnfVGHL.OCP11  "
   ]
  },
  {
   "cell_type": "code",
   "execution_count": 16,
   "id": "9e95d2dc",
   "metadata": {
    "scrolled": true
   },
   "outputs": [
    {
     "data": {
      "text/html": [
       "<div>\n",
       "<style scoped>\n",
       "    .dataframe tbody tr th:only-of-type {\n",
       "        vertical-align: middle;\n",
       "    }\n",
       "\n",
       "    .dataframe tbody tr th {\n",
       "        vertical-align: top;\n",
       "    }\n",
       "\n",
       "    .dataframe thead th {\n",
       "        text-align: right;\n",
       "    }\n",
       "</style>\n",
       "<table border=\"1\" class=\"dataframe\">\n",
       "  <thead>\n",
       "    <tr style=\"text-align: right;\">\n",
       "      <th></th>\n",
       "      <th>번호</th>\n",
       "      <th>연도</th>\n",
       "      <th>피심의명</th>\n",
       "      <th>조치유형</th>\n",
       "    </tr>\n",
       "  </thead>\n",
       "  <tbody>\n",
       "    <tr>\n",
       "      <th>0</th>\n",
       "      <td>1</td>\n",
       "      <td>2021</td>\n",
       "      <td>한국콘크리트산업(주)</td>\n",
       "      <td>시정명령,심의절차종료</td>\n",
       "    </tr>\n",
       "    <tr>\n",
       "      <th>1</th>\n",
       "      <td>2</td>\n",
       "      <td>2021</td>\n",
       "      <td>(주)동방</td>\n",
       "      <td>과징금</td>\n",
       "    </tr>\n",
       "    <tr>\n",
       "      <th>2</th>\n",
       "      <td>3</td>\n",
       "      <td>2021</td>\n",
       "      <td>(주)한진</td>\n",
       "      <td>과징금</td>\n",
       "    </tr>\n",
       "    <tr>\n",
       "      <th>3</th>\n",
       "      <td>4</td>\n",
       "      <td>2021</td>\n",
       "      <td>금장건설(주)</td>\n",
       "      <td>경고</td>\n",
       "    </tr>\n",
       "    <tr>\n",
       "      <th>4</th>\n",
       "      <td>5</td>\n",
       "      <td>2021</td>\n",
       "      <td>씨제이대한통운(주)</td>\n",
       "      <td>과징금</td>\n",
       "    </tr>\n",
       "  </tbody>\n",
       "</table>\n",
       "</div>"
      ],
      "text/plain": [
       "   번호    연도         피심의명         조치유형\n",
       "0   1  2021  한국콘크리트산업(주)  시정명령,심의절차종료\n",
       "1   2  2021        (주)동방          과징금\n",
       "2   3  2021        (주)한진          과징금\n",
       "3   4  2021      금장건설(주)           경고\n",
       "4   5  2021   씨제이대한통운(주)          과징금"
      ]
     },
     "execution_count": 16,
     "metadata": {},
     "output_type": "execute_result"
    }
   ],
   "source": [
    "vio_df = pd.read_excel('S crawling/공정위위반사항_2021.xlsx')\n",
    "vio_df.head()"
   ]
  },
  {
   "cell_type": "markdown",
   "id": "c840e667",
   "metadata": {},
   "source": [
    "### Goal: 피심의명 기준으로 조치유형 별 column을 생성하여 count 얻기\n",
    "#### Result: final_df\n",
    "- Step 0) ',' 기준으로 조치유형 모두 split하고 unique한 조치유형 얻기\n",
    "- Step 1) 피심의명 column에서 unique한 기업명 추출\n",
    "- Step 2) unique한 기업명 list를 for문에 넣고, 기업명에 해당되는 모든 조치유형 ',' 연결하여 합치기\n",
    "- Step 3) 새로운 action_df의 column에 모든 조치유형을 각각 추가하고, 그에 해당하는 count(counter: value)를 행에 추가\n",
    "- Step 4) new_df와 action_df 병합\n",
    "\n"
   ]
  },
  {
   "cell_type": "code",
   "execution_count": 17,
   "id": "728203c8",
   "metadata": {},
   "outputs": [
    {
     "name": "stdout",
     "output_type": "stream",
     "text": [
      "['재결기각', '종결처리', '경고', '심의절차종료', '수정의결', '심사절차종료', '동의의결인용', '과징금', '경고무혐의', '주의촉구', '시정명령', '입찰참가자격제한요청', '심의절차중지', '과태료', '고발', '원안의결', '인용', '일부인용', '경고인정', '법위반공표', '무혐의', '기각']\n",
      "22\n"
     ]
    }
   ],
   "source": [
    "# Step 0. 모든 조치유형 추출\n",
    "\n",
    "all_action = ','.join(vio_df['조치유형'].tolist())\n",
    "all_action = list(set(all_action.split(',')))\n",
    "print(all_action)\n",
    "print(len(all_action))"
   ]
  },
  {
   "cell_type": "code",
   "execution_count": 18,
   "id": "6692d6b1",
   "metadata": {},
   "outputs": [],
   "source": [
    "# Step 1. 피심의명 column에서 unique한 기업명 추출\n",
    "\n",
    "count_name = Counter(vio_df['피심의명'].tolist())"
   ]
  },
  {
   "cell_type": "code",
   "execution_count": 19,
   "id": "d04b0216",
   "metadata": {
    "scrolled": true
   },
   "outputs": [
    {
     "data": {
      "text/html": [
       "<div>\n",
       "<style scoped>\n",
       "    .dataframe tbody tr th:only-of-type {\n",
       "        vertical-align: middle;\n",
       "    }\n",
       "\n",
       "    .dataframe tbody tr th {\n",
       "        vertical-align: top;\n",
       "    }\n",
       "\n",
       "    .dataframe thead th {\n",
       "        text-align: right;\n",
       "    }\n",
       "</style>\n",
       "<table border=\"1\" class=\"dataframe\">\n",
       "  <thead>\n",
       "    <tr style=\"text-align: right;\">\n",
       "      <th></th>\n",
       "      <th>피심의명</th>\n",
       "      <th>조치유형</th>\n",
       "    </tr>\n",
       "  </thead>\n",
       "  <tbody>\n",
       "    <tr>\n",
       "      <th>0</th>\n",
       "      <td>한국콘크리트산업(주)</td>\n",
       "      <td>시정명령,심의절차종료</td>\n",
       "    </tr>\n",
       "    <tr>\n",
       "      <th>1</th>\n",
       "      <td>(주)동방</td>\n",
       "      <td>과징금,과징금,시정명령,과징금,시정명령,고발,과징금,시정명령,과징금,시정명령</td>\n",
       "    </tr>\n",
       "    <tr>\n",
       "      <th>2</th>\n",
       "      <td>(주)한진</td>\n",
       "      <td>과징금,시정명령,과징금,시정명령,경고,심사절차종료</td>\n",
       "    </tr>\n",
       "    <tr>\n",
       "      <th>3</th>\n",
       "      <td>금장건설(주)</td>\n",
       "      <td>경고</td>\n",
       "    </tr>\n",
       "    <tr>\n",
       "      <th>4</th>\n",
       "      <td>씨제이대한통운(주)</td>\n",
       "      <td>과징금,과징금,시정명령</td>\n",
       "    </tr>\n",
       "    <tr>\n",
       "      <th>5</th>\n",
       "      <td>(주)삼일</td>\n",
       "      <td>과징금,시정명령</td>\n",
       "    </tr>\n",
       "    <tr>\n",
       "      <th>6</th>\n",
       "      <td>(주)천일티엘에스</td>\n",
       "      <td>과징금,시정명령</td>\n",
       "    </tr>\n",
       "    <tr>\n",
       "      <th>7</th>\n",
       "      <td>(주)엠에이피컴퍼니</td>\n",
       "      <td>과징금,무혐의,시정명령</td>\n",
       "    </tr>\n",
       "    <tr>\n",
       "      <th>8</th>\n",
       "      <td>천일정기화물자동차(주)</td>\n",
       "      <td>과징금,시정명령</td>\n",
       "    </tr>\n",
       "    <tr>\n",
       "      <th>9</th>\n",
       "      <td>(주)윈체</td>\n",
       "      <td>과징금,시정명령</td>\n",
       "    </tr>\n",
       "  </tbody>\n",
       "</table>\n",
       "</div>"
      ],
      "text/plain": [
       "           피심의명                                        조치유형\n",
       "0   한국콘크리트산업(주)                                 시정명령,심의절차종료\n",
       "1         (주)동방  과징금,과징금,시정명령,과징금,시정명령,고발,과징금,시정명령,과징금,시정명령\n",
       "2         (주)한진                 과징금,시정명령,과징금,시정명령,경고,심사절차종료\n",
       "3       금장건설(주)                                          경고\n",
       "4    씨제이대한통운(주)                                과징금,과징금,시정명령\n",
       "5         (주)삼일                                    과징금,시정명령\n",
       "6     (주)천일티엘에스                                    과징금,시정명령\n",
       "7    (주)엠에이피컴퍼니                                과징금,무혐의,시정명령\n",
       "8  천일정기화물자동차(주)                                    과징금,시정명령\n",
       "9         (주)윈체                                    과징금,시정명령"
      ]
     },
     "execution_count": 19,
     "metadata": {},
     "output_type": "execute_result"
    }
   ],
   "source": [
    "# Step 2. unique한 기업명 list를 for문에 넣고, 기업명에 해당되는 모든 조치유형 ',' 연결하여 합치기\n",
    "\n",
    "new_df = pd.DataFrame({'피심의명':[], '조치유형':[]})\n",
    "\n",
    "for i, name in enumerate(count_name.keys()):\n",
    "    \n",
    "    # 만약 기업이 해당된 행이 1개일 땐, DF에서 그 행만 불러와서 list로 변환\n",
    "    if count_name[name] == 1:\n",
    "        new_df.loc[i] = list(vio_df.loc[vio_df['피심의명'] == name][['피심의명', '조치유형']].iloc[0])\n",
    "    \n",
    "    else:\n",
    "        find_action = vio_df['조치유형'].loc[vio_df['피심의명'] == name]\n",
    "        new_df.loc[i] = [name, ','.join(find_action)]\n",
    "        \n",
    "new_df.head(10)"
   ]
  },
  {
   "cell_type": "code",
   "execution_count": 20,
   "id": "68424856",
   "metadata": {},
   "outputs": [],
   "source": [
    "# Step 3. 새로운 action_df의 column에 모든 조치유형을 각각 추가하고, 그에 해당하는 count(counter: value)를 행에 추가\n",
    "\n",
    "## Make a new data.frame\n",
    "action_df = pd.DataFrame(columns = all_action)\n",
    "\n",
    "for row in new_df.iterrows():\n",
    "    actions = row[1]['조치유형'].split(',')\n",
    "    counter = Counter(actions)\n",
    "    \n",
    "    for act in all_action:\n",
    "        action_df.loc[row[0], act] = counter[act]\n",
    "        \n",
    "\n",
    "# Step 4. new_df와 action_df 병합\n",
    "final_df = pd.concat([new_df, action_df], axis=1)"
   ]
  },
  {
   "cell_type": "markdown",
   "id": "bea604fe",
   "metadata": {},
   "source": [
    "## 기업명 매칭 준비\n",
    "#### 생성한 데이터프레임 final_df에 기업명 할당"
   ]
  },
  {
   "cell_type": "code",
   "execution_count": 22,
   "id": "f8144a38",
   "metadata": {},
   "outputs": [],
   "source": [
    "name_df = pd.read_csv('기업명매칭/industry_name_최종.csv', encoding='ANSI')\n",
    "name = name_df.values.tolist()\n",
    "\n",
    "non_name = []\n",
    "for roop_list in name:\n",
    "    roop_set = set(roop_list)\n",
    "    roop_set.discard(np.nan)\n",
    "    roop_list = list(roop_set)\n",
    "    non_name.append(roop_list)"
   ]
  },
  {
   "cell_type": "markdown",
   "id": "7ac66d7b",
   "metadata": {},
   "source": [
    "### final_df에 industry_name 데이터를 이용해 기업명 할당"
   ]
  },
  {
   "cell_type": "code",
   "execution_count": 24,
   "id": "7da7e979",
   "metadata": {},
   "outputs": [],
   "source": [
    "# 전처리하는 함수 정의\n",
    "## [참고] replace('(주)', '')는 csv파일을 직접 확인하고 필요없는 단어를 삭제하기 위해 거친 작업이다.\n",
    "## [참고2] 함수 prep_text를 정의해주며 'pattern_punctuation = re.compile(r'[^\\w]')'도 정의한다.\n",
    "            ## pattern_punctuation는 한번만 정의해주면 되므로 함수 정의와 함께 코드를 돌려주었다.\n",
    "\n",
    "pattern_punctuation = re.compile(r'[^\\w]') #특수문자 정의\n",
    "\n",
    "def prep_text(string):\n",
    "    new_string = string.replace('(주)', '')\n",
    "    new_string = pattern_punctuation.sub('', new_string) #특수문자 모두 제거\n",
    "    return new_string\n",
    "\n",
    "non_comp = [prep_text(a) for a in new_df['피심의명'].tolist()] #데이터의 피심의명 전처리"
   ]
  },
  {
   "cell_type": "code",
   "execution_count": 25,
   "id": "9256f1b3",
   "metadata": {},
   "outputs": [],
   "source": [
    "# 결과값 담을 DF 정의\n",
    "match_name = pd.DataFrame({'피심의명': [], 'industry_name':[]})\n",
    "\n",
    "# 기업명 할당 시작.\n",
    "for index, x in enumerate(non_comp):\n",
    "    new_list=[-1, -1]\n",
    "    \n",
    "    for i, y in enumerate(non_name):\n",
    "        for z in y:\n",
    "            z = pattern_punctuation.sub('', z) #특수문자 제거\n",
    "            result = x.find(z)\n",
    "            \n",
    "            if not result == -1:\n",
    "                new_list[0] = new_df['피심의명'].tolist()[index]\n",
    "                new_list[1] = name[i][0]\n",
    "                break\n",
    "        \n",
    "    if not new_list[0] == -1:\n",
    "        match_name.loc[index] = new_list"
   ]
  },
  {
   "cell_type": "code",
   "execution_count": 30,
   "id": "ba34136a",
   "metadata": {},
   "outputs": [
    {
     "name": "stdout",
     "output_type": "stream",
     "text": [
      "(119, 2)\n",
      "          피심의명 industry_name\n",
      "1        (주)동방            동방\n",
      "2        (주)한진            한진\n",
      "4   씨제이대한통운(주)            CJ\n",
      "6    (주)천일티엘에스            LS\n",
      "14    한온시스템(주)         한온시스템\n"
     ]
    }
   ],
   "source": [
    "# 결과 확인\n",
    "\n",
    "print(match_name.shape)\n",
    "print(match_name.head())"
   ]
  },
  {
   "cell_type": "markdown",
   "id": "4a370789",
   "metadata": {},
   "source": [
    "### merge final_df & match_name "
   ]
  },
  {
   "cell_type": "code",
   "execution_count": 31,
   "id": "e0abefb3",
   "metadata": {},
   "outputs": [
    {
     "data": {
      "text/html": [
       "<div>\n",
       "<style scoped>\n",
       "    .dataframe tbody tr th:only-of-type {\n",
       "        vertical-align: middle;\n",
       "    }\n",
       "\n",
       "    .dataframe tbody tr th {\n",
       "        vertical-align: top;\n",
       "    }\n",
       "\n",
       "    .dataframe thead th {\n",
       "        text-align: right;\n",
       "    }\n",
       "</style>\n",
       "<table border=\"1\" class=\"dataframe\">\n",
       "  <thead>\n",
       "    <tr style=\"text-align: right;\">\n",
       "      <th></th>\n",
       "      <th>피심의명</th>\n",
       "      <th>회사명</th>\n",
       "      <th>조치유형</th>\n",
       "      <th>재결기각</th>\n",
       "      <th>종결처리</th>\n",
       "      <th>경고</th>\n",
       "      <th>심의절차종료</th>\n",
       "      <th>수정의결</th>\n",
       "      <th>심사절차종료</th>\n",
       "      <th>동의의결인용</th>\n",
       "      <th>...</th>\n",
       "      <th>심의절차중지</th>\n",
       "      <th>과태료</th>\n",
       "      <th>고발</th>\n",
       "      <th>원안의결</th>\n",
       "      <th>인용</th>\n",
       "      <th>일부인용</th>\n",
       "      <th>경고인정</th>\n",
       "      <th>법위반공표</th>\n",
       "      <th>무혐의</th>\n",
       "      <th>기각</th>\n",
       "    </tr>\n",
       "  </thead>\n",
       "  <tbody>\n",
       "    <tr>\n",
       "      <th>0</th>\n",
       "      <td>한국콘크리트산업(주)</td>\n",
       "      <td>NaN</td>\n",
       "      <td>시정명령,심의절차종료</td>\n",
       "      <td>0</td>\n",
       "      <td>0</td>\n",
       "      <td>0</td>\n",
       "      <td>1</td>\n",
       "      <td>0</td>\n",
       "      <td>0</td>\n",
       "      <td>0</td>\n",
       "      <td>...</td>\n",
       "      <td>0</td>\n",
       "      <td>0</td>\n",
       "      <td>0</td>\n",
       "      <td>0</td>\n",
       "      <td>0</td>\n",
       "      <td>0</td>\n",
       "      <td>0</td>\n",
       "      <td>0</td>\n",
       "      <td>0</td>\n",
       "      <td>0</td>\n",
       "    </tr>\n",
       "    <tr>\n",
       "      <th>1</th>\n",
       "      <td>(주)동방</td>\n",
       "      <td>동방</td>\n",
       "      <td>과징금,과징금,시정명령,과징금,시정명령,고발,과징금,시정명령,과징금,시정명령</td>\n",
       "      <td>0</td>\n",
       "      <td>0</td>\n",
       "      <td>0</td>\n",
       "      <td>0</td>\n",
       "      <td>0</td>\n",
       "      <td>0</td>\n",
       "      <td>0</td>\n",
       "      <td>...</td>\n",
       "      <td>0</td>\n",
       "      <td>0</td>\n",
       "      <td>1</td>\n",
       "      <td>0</td>\n",
       "      <td>0</td>\n",
       "      <td>0</td>\n",
       "      <td>0</td>\n",
       "      <td>0</td>\n",
       "      <td>0</td>\n",
       "      <td>0</td>\n",
       "    </tr>\n",
       "    <tr>\n",
       "      <th>2</th>\n",
       "      <td>(주)한진</td>\n",
       "      <td>한진</td>\n",
       "      <td>과징금,시정명령,과징금,시정명령,경고,심사절차종료</td>\n",
       "      <td>0</td>\n",
       "      <td>0</td>\n",
       "      <td>1</td>\n",
       "      <td>0</td>\n",
       "      <td>0</td>\n",
       "      <td>1</td>\n",
       "      <td>0</td>\n",
       "      <td>...</td>\n",
       "      <td>0</td>\n",
       "      <td>0</td>\n",
       "      <td>0</td>\n",
       "      <td>0</td>\n",
       "      <td>0</td>\n",
       "      <td>0</td>\n",
       "      <td>0</td>\n",
       "      <td>0</td>\n",
       "      <td>0</td>\n",
       "      <td>0</td>\n",
       "    </tr>\n",
       "    <tr>\n",
       "      <th>3</th>\n",
       "      <td>금장건설(주)</td>\n",
       "      <td>NaN</td>\n",
       "      <td>경고</td>\n",
       "      <td>0</td>\n",
       "      <td>0</td>\n",
       "      <td>1</td>\n",
       "      <td>0</td>\n",
       "      <td>0</td>\n",
       "      <td>0</td>\n",
       "      <td>0</td>\n",
       "      <td>...</td>\n",
       "      <td>0</td>\n",
       "      <td>0</td>\n",
       "      <td>0</td>\n",
       "      <td>0</td>\n",
       "      <td>0</td>\n",
       "      <td>0</td>\n",
       "      <td>0</td>\n",
       "      <td>0</td>\n",
       "      <td>0</td>\n",
       "      <td>0</td>\n",
       "    </tr>\n",
       "    <tr>\n",
       "      <th>4</th>\n",
       "      <td>씨제이대한통운(주)</td>\n",
       "      <td>CJ</td>\n",
       "      <td>과징금,과징금,시정명령</td>\n",
       "      <td>0</td>\n",
       "      <td>0</td>\n",
       "      <td>0</td>\n",
       "      <td>0</td>\n",
       "      <td>0</td>\n",
       "      <td>0</td>\n",
       "      <td>0</td>\n",
       "      <td>...</td>\n",
       "      <td>0</td>\n",
       "      <td>0</td>\n",
       "      <td>0</td>\n",
       "      <td>0</td>\n",
       "      <td>0</td>\n",
       "      <td>0</td>\n",
       "      <td>0</td>\n",
       "      <td>0</td>\n",
       "      <td>0</td>\n",
       "      <td>0</td>\n",
       "    </tr>\n",
       "  </tbody>\n",
       "</table>\n",
       "<p>5 rows × 25 columns</p>\n",
       "</div>"
      ],
      "text/plain": [
       "          피심의명  회사명                                        조치유형 재결기각 종결처리 경고  \\\n",
       "0  한국콘크리트산업(주)  NaN                                 시정명령,심의절차종료    0    0  0   \n",
       "1        (주)동방   동방  과징금,과징금,시정명령,과징금,시정명령,고발,과징금,시정명령,과징금,시정명령    0    0  0   \n",
       "2        (주)한진   한진                 과징금,시정명령,과징금,시정명령,경고,심사절차종료    0    0  1   \n",
       "3      금장건설(주)  NaN                                          경고    0    0  1   \n",
       "4   씨제이대한통운(주)   CJ                                과징금,과징금,시정명령    0    0  0   \n",
       "\n",
       "  심의절차종료 수정의결 심사절차종료 동의의결인용  ... 심의절차중지 과태료 고발 원안의결 인용 일부인용 경고인정 법위반공표 무혐의 기각  \n",
       "0      1    0      0      0  ...      0   0  0    0  0    0    0     0   0  0  \n",
       "1      0    0      0      0  ...      0   0  1    0  0    0    0     0   0  0  \n",
       "2      0    0      1      0  ...      0   0  0    0  0    0    0     0   0  0  \n",
       "3      0    0      0      0  ...      0   0  0    0  0    0    0     0   0  0  \n",
       "4      0    0      0      0  ...      0   0  0    0  0    0    0     0   0  0  \n",
       "\n",
       "[5 rows x 25 columns]"
      ]
     },
     "execution_count": 31,
     "metadata": {},
     "output_type": "execute_result"
    }
   ],
   "source": [
    "result = pd.merge(match_name, final_df, how='right', left_on='피심의명', right_on='피심의명')\n",
    "result.rename(columns={'industry_name': '회사명'}, inplace=True)\n",
    "result.head()"
   ]
  },
  {
   "cell_type": "code",
   "execution_count": 32,
   "id": "6fbc68ea",
   "metadata": {},
   "outputs": [],
   "source": [
    "result.to_csv(\"S crawling/result/공정위위반사항_2021.csv\", index=None, encoding=\"cp949\")"
   ]
  },
  {
   "cell_type": "markdown",
   "id": "0cbc286f",
   "metadata": {},
   "source": [
    "#### [NOTE 1]  \n",
    "매칭된 결과값은 다소 복잡하며 (초반 단계에서 전처리된 파일이기 때문이다.),  \n",
    "저장된 파일을 다시 열어 제대로 매칭되었는지 확인하고 매칭이 잘 안된 기업명은 수정하여 재저장하였다.\n",
    "\n",
    "#### [NOTE 2]  \n",
    "공정위 위반사항은 엑셀 파일을 수정하는 과정에서 필요한 변수를 고려하여 그 변수들만 택하고 나머지는 삭제했다.  \n",
    "또한 엑셀 함수를 사용하여 모든 공정위 위반사항 횟수를 더한 '합계' columns을 생성하였다."
   ]
  }
 ],
 "metadata": {
  "kernelspec": {
   "display_name": "RA",
   "language": "python",
   "name": "ra"
  },
  "language_info": {
   "codemirror_mode": {
    "name": "ipython",
    "version": 3
   },
   "file_extension": ".py",
   "mimetype": "text/x-python",
   "name": "python",
   "nbconvert_exporter": "python",
   "pygments_lexer": "ipython3",
   "version": "3.8.8"
  }
 },
 "nbformat": 4,
 "nbformat_minor": 5
}
